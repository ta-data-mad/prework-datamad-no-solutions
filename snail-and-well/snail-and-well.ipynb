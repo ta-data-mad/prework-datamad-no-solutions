{
 "cells": [
  {
   "cell_type": "markdown",
   "metadata": {},
   "source": [
    "<img src=\"https://bit.ly/2VnXWr2\" width=\"100\" align=\"left\">"
   ]
  },
  {
   "cell_type": "markdown",
   "metadata": {},
   "source": [
    "# The Snail and the Well\n",
    "\n",
    "A snail falls at the bottom of a 125 cm well. Each day the snail rises 30 cm. But at night, while sleeping, slides 20 cm because the walls are wet. How many days does it take for the snail to escape the well?\n",
    "\n",
    "**Hint**: The snail gets out of the well when it surpasses the 125cm of height.\n",
    "\n",
    "## Tools\n",
    "\n",
    "1. Loop: **while**\n",
    "2. Conditional statements: **if-else**\n",
    "3. Function: **print()**\n",
    "\n",
    "## Tasks\n",
    "\n",
    "#### 1. Assign the challenge data to variables with representative names: `well_height`, `daily_distance`, `nightly_distance` and `snail_position`."
   ]
  },
  {
   "cell_type": "code",
   "execution_count": 16,
   "metadata": {},
   "outputs": [],
   "source": [
    "well_height = 125\n",
    "daily_distance = 30\n",
    "nightly_distance = -20\n",
    "snail_position = 0"
   ]
  },
  {
   "cell_type": "markdown",
   "metadata": {},
   "source": [
    "#### 2. Create a variable `days` to keep count of the days that pass until the snail escapes the well. "
   ]
  },
  {
   "cell_type": "code",
   "execution_count": 18,
   "metadata": {},
   "outputs": [],
   "source": [
    "days = 0"
   ]
  },
  {
   "cell_type": "markdown",
   "metadata": {},
   "source": [
    "#### 3. Find the solution to the challenge using the variables defined above. "
   ]
  },
  {
   "cell_type": "code",
   "execution_count": 19,
   "metadata": {},
   "outputs": [
    {
     "name": "stdout",
     "output_type": "stream",
     "text": [
      "Comienza el día 1\n",
      "El caracol amanece a una altura de 0 cm.\n",
      "El caracol recorre 30 cm a lo largo del día, quedandose a una altura de 30 cm.\n",
      "LLega la noche y el caracol desciende -20 cm mientras duerme.\n",
      "Comienza el día 2\n",
      "El caracol amanece a una altura de 10 cm.\n",
      "El caracol recorre 30 cm a lo largo del día, quedandose a una altura de 40 cm.\n",
      "LLega la noche y el caracol desciende -20 cm mientras duerme.\n",
      "Comienza el día 3\n",
      "El caracol amanece a una altura de 20 cm.\n",
      "El caracol recorre 30 cm a lo largo del día, quedandose a una altura de 50 cm.\n",
      "LLega la noche y el caracol desciende -20 cm mientras duerme.\n",
      "Comienza el día 4\n",
      "El caracol amanece a una altura de 30 cm.\n",
      "El caracol recorre 30 cm a lo largo del día, quedandose a una altura de 60 cm.\n",
      "LLega la noche y el caracol desciende -20 cm mientras duerme.\n",
      "Comienza el día 5\n",
      "El caracol amanece a una altura de 40 cm.\n",
      "El caracol recorre 30 cm a lo largo del día, quedandose a una altura de 70 cm.\n",
      "LLega la noche y el caracol desciende -20 cm mientras duerme.\n",
      "Comienza el día 6\n",
      "El caracol amanece a una altura de 50 cm.\n",
      "El caracol recorre 30 cm a lo largo del día, quedandose a una altura de 80 cm.\n",
      "LLega la noche y el caracol desciende -20 cm mientras duerme.\n",
      "Comienza el día 7\n",
      "El caracol amanece a una altura de 60 cm.\n",
      "El caracol recorre 30 cm a lo largo del día, quedandose a una altura de 90 cm.\n",
      "LLega la noche y el caracol desciende -20 cm mientras duerme.\n",
      "Comienza el día 8\n",
      "El caracol amanece a una altura de 70 cm.\n",
      "El caracol recorre 30 cm a lo largo del día, quedandose a una altura de 100 cm.\n",
      "LLega la noche y el caracol desciende -20 cm mientras duerme.\n",
      "Comienza el día 9\n",
      "El caracol amanece a una altura de 80 cm.\n",
      "El caracol recorre 30 cm a lo largo del día, quedandose a una altura de 110 cm.\n",
      "LLega la noche y el caracol desciende -20 cm mientras duerme.\n",
      "Comienza el día 10\n",
      "El caracol amanece a una altura de 90 cm.\n",
      "El caracol recorre 30 cm a lo largo del día, quedandose a una altura de 120 cm.\n",
      "LLega la noche y el caracol desciende -20 cm mientras duerme.\n",
      "Comienza el día 11\n",
      "El caracol amanece a una altura de 100 cm.\n",
      "El caracol recorre 30 cm a lo largo del día, quedandose a una altura de 130 cm.\n",
      "El caracol consigue escapar del pozo el día 11.\n"
     ]
    }
   ],
   "source": [
    "while snail_position < well_height:\n",
    "    days += 1\n",
    "    print(\"Comienza el día \" + str(days))\n",
    "    print(\"El caracol amanece a una altura de \" + str(snail_position) + \" cm.\")\n",
    "    \n",
    "    snail_position += daily_distance\n",
    "    print(\"El caracol recorre \" + str(daily_distance) + \" cm a lo largo del día, quedandose a una altura de \" + str(snail_position) + \" cm.\")\n",
    "    if snail_position < well_height:\n",
    "        snail_position += nightly_distance\n",
    "        print(\"LLega la noche y el caracol desciende \" + str(nightly_distance) + \" cm mientras duerme.\")\n",
    "    else:\n",
    "        print(\"El caracol consigue escapar del pozo el día \" + str(days) + \".\")"
   ]
  },
  {
   "cell_type": "markdown",
   "metadata": {},
   "source": [
    "#### 4. Print the solution."
   ]
  },
  {
   "cell_type": "code",
   "execution_count": 20,
   "metadata": {},
   "outputs": [
    {
     "name": "stdout",
     "output_type": "stream",
     "text": [
      "El caracol consigue salir del pozo en 11 días\n"
     ]
    }
   ],
   "source": [
    "print(\"El caracol consigue salir del pozo en \"+ str(days) + \" días.\")"
   ]
  },
  {
   "cell_type": "markdown",
   "metadata": {},
   "source": [
    "## Bonus\n",
    "The distance traveled by the snail each day is now defined by a list.\n",
    "```\n",
    "advance_cm = [30, 21, 33, 77, 44, 45, 23, 45, 12, 34, 55]\n",
    "```\n",
    "On the first day, the snail rises 30cm but during the night it slides 20cm. On the second day, the snail rises 21cm but during the night it slides 20cm, and so on. \n",
    "\n",
    "#### 1. How many days does it take for the snail to escape the well?\n",
    "Follow the same guidelines as in the previous challenge.\n",
    "\n",
    "**Hint**: Remember that the snail gets out of the well when it surpasses the 125cm of height."
   ]
  },
  {
   "cell_type": "code",
   "execution_count": 117,
   "metadata": {},
   "outputs": [
    {
     "name": "stdout",
     "output_type": "stream",
     "text": [
      "Hoy es día 1 y el caracol está en 10\n",
      "Hoy es día 2 y el caracol está en 11\n",
      "Hoy es día 3 y el caracol está en 24\n",
      "Hoy es día 4 y el caracol está en 81\n",
      "Hoy es día 5 y el caracol está en 125\n"
     ]
    }
   ],
   "source": [
    "advance_cm = [30, 21, 33, 77, 44, 45, 23, 45, 12, 34, 55]\n",
    "\n",
    "well_height_b = 125\n",
    "snail_position_b = 0\n",
    "nightly_distance_b = 20\n",
    "days_b = 0\n",
    "\n",
    "while snail_position_b < well_height_b:\n",
    "    advance_of_day = advance_cm[days_b]\n",
    "    snail_position_b += advance_of_day\n",
    "    \n",
    "    if snail_position_b < well_height_b:\n",
    "        snail_position_b -= nightly_distance_b\n",
    "        \n",
    "    days_b += 1\n",
    "    \n",
    "    print(\"Hoy es día \" + str(days_b) + \" y el caracol está en \" + str(snail_position_b))"
   ]
  },
  {
   "cell_type": "markdown",
   "metadata": {},
   "source": [
    "#### 2. What is its maximum displacement in one day? And its minimum? Calculate the displacement using only the travel distance of the days used to get out of the well. \n",
    "**Hint**: Remember that displacement means the total distance risen taking into account that the snail slides at night.  "
   ]
  },
  {
   "cell_type": "code",
   "execution_count": 3,
   "metadata": {},
   "outputs": [
    {
     "name": "stdout",
     "output_type": "stream",
     "text": [
      "Hoy es día 1, el caracol ha recorrido 30cm, y está a una altura de 10cm\n",
      "Hoy es día 2, el caracol ha recorrido 21cm, y está a una altura de 11cm\n",
      "Hoy es día 3, el caracol ha recorrido 33cm, y está a una altura de 24cm\n",
      "Hoy es día 4, el caracol ha recorrido 77cm, y está a una altura de 81cm\n",
      "Hoy es día 5, el caracol ha recorrido 44cm, y está a una altura de 125cm\n",
      "El recorrido máximo antes de salir del pozo y contando la caida de la noche fueron 57cm.\n",
      "El recorrido mínimo antes de salir del pozo y contando la caida de la noche fueron 1cm.\n",
      "El recorrido máximo total del avance del caracol fue 77 cm.\n",
      "El recorrido mínimo total del avance del caracol fue 12 cm.\n"
     ]
    }
   ],
   "source": [
    "advance_cm = [30, 21, 33, 77, 44, 45, 23, 45, 12, 34, 55]\n",
    "\n",
    "well_height_b = 125\n",
    "snail_position_b = 0\n",
    "nightly_distance_b = 20\n",
    "days_b = 0\n",
    "\n",
    "n_max = 0\n",
    "n_min = max(advance_cm)\n",
    "\n",
    "while snail_position_b < well_height_b:\n",
    "    advance_of_day = advance_cm[days_b]\n",
    "    snail_position_b += advance_of_day\n",
    "    real_advance = advance_of_day\n",
    "    \n",
    "    if snail_position_b < well_height_b:\n",
    "        snail_position_b -= nightly_distance_b\n",
    "        real_advance -= nightly_distance_b\n",
    "    \n",
    "    if real_advance >= n_max:\n",
    "        n_max = real_advance\n",
    "    \n",
    "    if real_advance <= n_min:\n",
    "        n_min = real_advance\n",
    "            \n",
    "    days_b += 1\n",
    "    \n",
    "    print(\"Hoy es día \" + str(days_b) + \", el caracol ha recorrido \" + str(advance_of_day) + \"cm,\" + \" y está a una altura de \" + str(snail_position_b) + \"cm\")\n",
    "\n",
    "print(\"El recorrido máximo antes de salir del pozo y contando la caida de la noche fueron \" + str(n_max) + \"cm.\")\n",
    "print(\"El recorrido mínimo antes de salir del pozo y contando la caida de la noche fueron \" + str(n_min) + \"cm.\")\n",
    "print(\"El recorrido máximo total del avance del caracol fue \" + str(max(advance_cm)) + \" cm.\")\n",
    "print(\"El recorrido mínimo total del avance del caracol fue \" + str(min(advance_cm)) + \" cm.\")"
   ]
  },
  {
   "cell_type": "markdown",
   "metadata": {},
   "source": [
    "#### 3. What is its average progress? Take into account the snail slides at night."
   ]
  },
  {
   "cell_type": "code",
   "execution_count": 11,
   "metadata": {},
   "outputs": [
    {
     "name": "stdout",
     "output_type": "stream",
     "text": [
      "Hoy es día 1 y nos encontramos en 10 cm, y queremos llegar a 105\n",
      "Hoy es día 2 y nos encontramos en 11 cm, y queremos llegar a 105\n",
      "Hoy es día 3 y nos encontramos en 24 cm, y queremos llegar a 105\n",
      "Hoy es día 4 y nos encontramos en 81 cm, y queremos llegar a 105\n",
      "Hoy es día 5 y nos encontramos en 105 cm, y queremos llegar a 105\n",
      "El promedio recorrido hasta salir del pozo es de 21 cm al día.\n",
      "El promedio de todo el azance total es de 38 cm al día.\n"
     ]
    }
   ],
   "source": [
    "advance_cm = [30, 21, 33, 77, 44, 45, 23, 45, 12, 34, 55]\n",
    "well_height_b = 125\n",
    "nightly_distance_b = 20\n",
    "all_days = len(advance_cm)\n",
    "\n",
    "target_height_b = well_height_b - nightly_distance_b\n",
    "new_advance = [e - nightly_distance_b for e in advance_cm]\n",
    "total_progress = 0\n",
    "dias = 0\n",
    "\n",
    "while total_progress < target_height_b:\n",
    "    day_progress = new_advance[dias]\n",
    "    total_progress += day_progress\n",
    "    dias += 1\n",
    "    print(\"Hoy es día \" + str(dias) + \" y nos encontramos en \" + str(total_progress) + \" cm, y queremos llegar a \" + str(target_height_b))\n",
    "\n",
    "day_by_day = 0\n",
    "real_advance = 0\n",
    "    \n",
    "while day_by_day < all_days:\n",
    "    day_advance = advance_cm[day_by_day]\n",
    "    real_advance += day_advance\n",
    "    day_by_day += 1\n",
    "    \n",
    "\n",
    "print(\"El promedio recorrido hasta salir del pozo es de \" + str(int(total_progress / dias)) + \" cm al día.\")\n",
    "print(\"El promedio de todo el azance total es de \" + str(int(real_advance / day_by_day)) + \" cm al día.\")"
   ]
  },
  {
   "cell_type": "markdown",
   "metadata": {},
   "source": [
    "#### 4. What is the standard deviation of its displacement? Take into account the snail slides at night."
   ]
  },
  {
   "cell_type": "code",
   "execution_count": null,
   "metadata": {},
   "outputs": [],
   "source": []
  }
 ],
 "metadata": {
  "kernelspec": {
   "display_name": "Python 3",
   "language": "python",
   "name": "python3"
  },
  "language_info": {
   "codemirror_mode": {
    "name": "ipython",
    "version": 3
   },
   "file_extension": ".py",
   "mimetype": "text/x-python",
   "name": "python",
   "nbconvert_exporter": "python",
   "pygments_lexer": "ipython3",
   "version": "3.8.1"
  }
 },
 "nbformat": 4,
 "nbformat_minor": 2
}

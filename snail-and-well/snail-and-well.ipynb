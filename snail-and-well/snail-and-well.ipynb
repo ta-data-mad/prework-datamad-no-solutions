{
 "cells": [
  {
   "cell_type": "markdown",
   "metadata": {},
   "source": [
    "# Snail and well\n",
    "\n",
    "A snail falls at the bottom of a 125 cm well. Each day the snail rises 30 cm. But at night, while sleeping, slides 20 cm because the walls are wet. How many days does it take to escape from the well?\n",
    "\n",
    "TIP: http://puzzles.nigelcoldwell.co.uk/sixtytwo.htm"
   ]
  },
  {
   "cell_type": "markdown",
   "metadata": {},
   "source": [
    "## Solución"
   ]
  },
  {
   "cell_type": "code",
   "execution_count": 1,
   "metadata": {},
   "outputs": [
    {
     "name": "stdout",
     "output_type": "stream",
     "text": [
      "Days = 11\n"
     ]
    }
   ],
   "source": [
    "# Assign problem data to variables with representative names\n",
    "# well height, daily advance, night retreat, accumulated distance\n",
    "well_height=125\n",
    "day_rise=30\n",
    "night_slide=20\n",
    "snail_position=0\n",
    "\n",
    "# Assign 0 to the variable that represents the solution\n",
    "days_to_arrive=0\n",
    "\n",
    "# Write the code that solves the problem\n",
    "\n",
    "while snail_position <= well_height:\n",
    "    snail_position+=day_rise\n",
    "    if snail_position <= well_height:\n",
    "        snail_position=snail_position-night_slide\n",
    "    days_to_arrive+=1\n",
    "\n",
    "# Print the result with print('Days =', days)\n",
    "print(\"Days =\", days_to_arrive)"
   ]
  },
  {
   "cell_type": "markdown",
   "metadata": {},
   "source": [
    "**Expected output**: \n",
    "```\n",
    "Days = 11\n",
    "```"
   ]
  },
  {
   "cell_type": "markdown",
   "metadata": {},
   "source": [
    "## Goals\n",
    "\n",
    "1. Treatment of variables\n",
    "2. Use of loop **while**\n",
    "3. Use of conditional **if-else**\n",
    "4. Print in console"
   ]
  },
  {
   "cell_type": "markdown",
   "metadata": {},
   "source": [
    "## Bonus\n",
    "The distance traveled by the snail is now defined by a list.\n",
    "```\n",
    "advance_cm = [30, 21, 33, 77, 44, 45, 23, 45, 12, 34, 55]\n",
    "```\n",
    "How long does it take to raise the well?\n",
    "\n",
    "What is its maximum displacement in one day? And its minimum?\n",
    "\n",
    "What is its average speed during the day?\n",
    "\n",
    "What is the standard deviation of its displacement during the day?"
   ]
  },
  {
   "cell_type": "code",
   "execution_count": 6,
   "metadata": {},
   "outputs": [
    {
     "name": "stdout",
     "output_type": "stream",
     "text": [
      "Days = 6\n"
     ]
    }
   ],
   "source": [
    "# Assign problem data to variables with representative names\n",
    "# well height, daily advance, night retreat, accumulated distance\n",
    "\n",
    "well_height=125\n",
    "advance_cm = [30, 21, 33, 77, 44, 45, 23, 45, 12, 34, 55]\n",
    "night_slide=20\n",
    "snail_position=0\n",
    "daily_moving=[0]*len(advance_cm)\n",
    "\n",
    "# Assign 0 to the variable that represents the solution\n",
    "days_to_arrive=0\n",
    "maximum=0\n",
    "minimum=0\n",
    "average_speed=0\n",
    "sd_displacement=0\n",
    "\n",
    "# Write the code that solves the problem\n",
    "snail_position_l1=snail_position\n",
    "\n",
    "while snail_position<well_height:\n",
    "    snail_position=snail_position+advance_cm[days_to_arrive]\n",
    "    if snail_position<=well_height:\n",
    "        snail_position=snail_position-night_slide\n",
    "        daily_moving[days_to_arrive]=snail_position-snail_position_l1\n",
    "        days_to_arrive+=1\n",
    "    else:\n",
    "        snail_position=well_height\n",
    "        daily_moving[days_to_arrive]=snail_position-snail_position_l1\n",
    "    snail_position_l1=snail_position\n",
    "    \n",
    "    \n",
    "# Print the result with print('Days =', days)\n",
    "print('Days =', days_to_arrive+1)"
   ]
  },
  {
   "cell_type": "markdown",
   "metadata": {},
   "source": [
    "**Expected output**: \n",
    "```\n",
    "Days = 6\n",
    "```"
   ]
  },
  {
   "cell_type": "code",
   "execution_count": 7,
   "metadata": {},
   "outputs": [
    {
     "name": "stdout",
     "output_type": "stream",
     "text": [
      "maximum: 57\n",
      "minimum 1\n"
     ]
    }
   ],
   "source": [
    "# What is its maximum displacement in a day? And its minimum?\n",
    "maximum=max(daily_moving[:days_to_arrive])\n",
    "print('maximum:',maximum)\n",
    "minimum=min(daily_moving[:days_to_arrive])\n",
    "print('minimum',minimum)"
   ]
  },
  {
   "cell_type": "markdown",
   "metadata": {},
   "source": [
    "**Expected output**: \n",
    "```\n",
    "77 12\n",
    "```"
   ]
  },
  {
   "cell_type": "code",
   "execution_count": 8,
   "metadata": {},
   "outputs": [
    {
     "name": "stdout",
     "output_type": "stream",
     "text": [
      "Average: 20.833333333333332\n"
     ]
    }
   ],
   "source": [
    "# What is its average progress?\n",
    "average=sum(daily_moving[:days_to_arrive+1])/(days_to_arrive+1)\n",
    "print('Average:',average)"
   ]
  },
  {
   "cell_type": "markdown",
   "metadata": {},
   "source": [
    "**Expected output**: \n",
    "```\n",
    "38.09090909090909\n",
    "```"
   ]
  },
  {
   "cell_type": "code",
   "execution_count": 5,
   "metadata": {},
   "outputs": [
    {
     "name": "stdout",
     "output_type": "stream",
     "text": [
      "Standard deviation: 19.68443171269752\n"
     ]
    }
   ],
   "source": [
    "# What is the standard deviation of your displacement during the day?\n",
    "des2=0\n",
    "k=0\n",
    "while k<days_to_arrive+1:\n",
    "    des2=des2+daily_moving[k]**2\n",
    "    k+=1\n",
    "print('Standard deviation:',(1/(days_to_arrive+1)*(des2-days_to_arrive*(average**2)))**0.5)"
   ]
  },
  {
   "cell_type": "markdown",
   "metadata": {},
   "source": [
    "**Expected output**: \n",
    "```\n",
    "17.159437082600803\n",
    "```"
   ]
  }
 ],
 "metadata": {
  "kernelspec": {
   "display_name": "Python 3",
   "language": "python",
   "name": "python3"
  },
  "language_info": {
   "codemirror_mode": {
    "name": "ipython",
    "version": 3
   },
   "file_extension": ".py",
   "mimetype": "text/x-python",
   "name": "python",
   "nbconvert_exporter": "python",
   "pygments_lexer": "ipython3",
   "version": "3.6.9"
  }
 },
 "nbformat": 4,
 "nbformat_minor": 2
}

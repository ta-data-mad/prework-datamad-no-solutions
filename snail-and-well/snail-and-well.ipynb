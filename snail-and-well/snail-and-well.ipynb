{
 "cells": [
  {
   "cell_type": "markdown",
   "metadata": {},
   "source": [
    "# Snail and well\n",
    "\n",
    "A snail falls at the bottom of a 125 cm well. Each day the snail rises 30 cm. But at night, while sleeping, slides 20 cm because the walls are wet. How many days does it take to escape from the well?\n",
    "\n",
    "TIP: http://puzzles.nigelcoldwell.co.uk/sixtytwo.htm"
   ]
  },
  {
   "cell_type": "markdown",
   "metadata": {},
   "source": [
    "## Solución"
   ]
  },
  {
   "cell_type": "code",
   "execution_count": 2,
   "metadata": {},
   "outputs": [
    {
     "name": "stdout",
     "output_type": "stream",
     "text": [
      "Día 1\n",
      "Snail climbs 30 to 30\n",
      "Snail goes down 20 to 10\n",
      "Día 2\n",
      "Snail climbs 30 to 40\n",
      "Snail goes down 20 to 20\n",
      "Día 3\n",
      "Snail climbs 30 to 50\n",
      "Snail goes down 20 to 30\n",
      "Día 4\n",
      "Snail climbs 30 to 60\n",
      "Snail goes down 20 to 40\n",
      "Día 5\n",
      "Snail climbs 30 to 70\n",
      "Snail goes down 20 to 50\n",
      "Día 6\n",
      "Snail climbs 30 to 80\n",
      "Snail goes down 20 to 60\n",
      "Día 7\n",
      "Snail climbs 30 to 90\n",
      "Snail goes down 20 to 70\n",
      "Día 8\n",
      "Snail climbs 30 to 100\n",
      "Snail goes down 20 to 80\n",
      "Día 9\n",
      "Snail climbs 30 to 110\n",
      "Snail goes down 20 to 90\n",
      "Día 10\n",
      "Snail climbs 30 to 120\n",
      "Snail goes down 20 to 100\n",
      "Día 11\n",
      "Snail climbs 30 to 130\n",
      "Snail at top\n",
      "Days = 11\n"
     ]
    }
   ],
   "source": [
    "# Assign problem data to variables with representative names\n",
    "# well height, daily advance, night retreat, accumulated distance\n",
    "well_height = 125\n",
    "daily_distance = 30\n",
    "nightly_distance = 20\n",
    "days = 0\n",
    "\n",
    "# Assign 0 to the variable that represents the solution\n",
    "snail_position = 0\n",
    "\n",
    "# Write the code that solves the problem\n",
    "while snail_position < well_height:\n",
    "    days = days + 1\n",
    "    print ('Día', days)\n",
    "    snail_position = snail_position + daily_distance\n",
    "    print ('Snail climbs',daily_distance,'to',snail_position)\n",
    "    if snail_position < well_height:\n",
    "        snail_position = snail_position - nightly_distance\n",
    "        print ('Snail goes down', nightly_distance, 'to', snail_position)\n",
    "    else:\n",
    "        print ('Snail at top')\n",
    "        break\n",
    "\n",
    "# Print the result with print('Days =', days)\n",
    "print('Days =',days)"
   ]
  },
  {
   "cell_type": "markdown",
   "metadata": {},
   "source": [
    "**Expected output**: \n",
    "```\n",
    "Days = 11\n",
    "```"
   ]
  },
  {
   "cell_type": "markdown",
   "metadata": {},
   "source": [
    "## Goals\n",
    "\n",
    "1. Treatment of variables\n",
    "2. Use of loop **while**\n",
    "3. Use of conditional **if-else**\n",
    "4. Print in console"
   ]
  },
  {
   "cell_type": "markdown",
   "metadata": {},
   "source": [
    "## Bonus\n",
    "The distance traveled by the snail is now defined by a list.\n",
    "```\n",
    "advance_cm = [30, 21, 33, 77, 44, 45, 23, 45, 12, 34, 55]\n",
    "```\n",
    "How long does it take to raise the well?\n",
    "\n",
    "What is its maximum displacement in one day? And its minimum?\n",
    "\n",
    "What is its average speed during the day?\n",
    "\n",
    "What is the standard deviation of its displacement during the day?"
   ]
  },
  {
   "cell_type": "code",
   "execution_count": 6,
   "metadata": {},
   "outputs": [
    {
     "name": "stdout",
     "output_type": "stream",
     "text": [
      "Día 1\n",
      "Snail climbs 30 to 30\n",
      "Snail descends 20 to 10\n",
      "Snail has moved 20\n",
      "Next\n",
      "Día 2\n",
      "Snail climbs 21 to 31\n",
      "Snail descends 20 to 11\n",
      "Snail has moved 12\n",
      "Next\n",
      "Día 3\n",
      "Snail climbs 33 to 44\n",
      "Snail descends 20 to 24\n",
      "Snail has moved 37\n",
      "Next\n",
      "Día 4\n",
      "Snail climbs 77 to 101\n",
      "Snail descends 20 to 81\n",
      "Snail has moved 138\n",
      "Next\n",
      "Día 5\n",
      "Snail climbs 44 to 125\n",
      "Snail descends 20 to 105\n",
      "Snail has moved 129\n",
      "Next\n",
      "Día 6\n",
      "Snail climbs 45 to 150\n",
      "Snail descends 20 to 130\n",
      "Snail has moved 155\n",
      "Snail at top\n",
      "Days =  6\n"
     ]
    }
   ],
   "source": [
    "# Assign problem data to variables with representative names\n",
    "# well height, daily advance, night retreat, accumulated distance\n",
    "advance_cm = [30, 21, 33, 77, 44, 45, 23, 45, 12, 34, 55]\n",
    "snail_position = 0\n",
    "nightly_distance = 20\n",
    "well_height = 125\n",
    "accumulated_distance = 0\n",
    "\n",
    "# Assign 0 to the variable that represents the solution\n",
    "days = 0\n",
    "my_list=[]\n",
    "# Write the code that solves the problem\n",
    "for daily_move in advance_cm:\n",
    "    days = days + 1 \n",
    "    print ('Día',days)\n",
    "    snail_position = snail_position + daily_move\n",
    "    print ('Snail climbs', daily_move, 'to', snail_position)\n",
    "    snail_position = snail_position - nightly_distance \n",
    "    print ('Snail descends', nightly_distance, 'to', snail_position)\n",
    "    accumulated_distance = snail_position + daily_move - nightly_distance\n",
    "    print('Snail has moved', accumulated_distance)\n",
    "    my_list.append(accumulated_distance)\n",
    "    if snail_position <= well_height:\n",
    "        print('Next')\n",
    "    else: \n",
    "        print ('Snail at top')\n",
    "        break\n",
    "print('Days = ',days)\n",
    "# Print the result with print('Days =', days)\n"
   ]
  },
  {
   "cell_type": "markdown",
   "metadata": {},
   "source": [
    "**Expected output**: \n",
    "```\n",
    "Days = 6\n",
    "```"
   ]
  },
  {
   "cell_type": "code",
   "execution_count": 7,
   "metadata": {},
   "outputs": [
    {
     "name": "stdout",
     "output_type": "stream",
     "text": [
      "77\n",
      "12\n"
     ]
    }
   ],
   "source": [
    "# What is its maximum displacement in a day? And its minimum?\n",
    "print(max(advance_cm))\n",
    "print(min(advance_cm))"
   ]
  },
  {
   "cell_type": "markdown",
   "metadata": {},
   "source": [
    "**Expected output**: \n",
    "```\n",
    "77 12\n",
    "```"
   ]
  },
  {
   "cell_type": "code",
   "execution_count": 9,
   "metadata": {},
   "outputs": [
    {
     "data": {
      "text/plain": [
       "38.09090909090909"
      ]
     },
     "execution_count": 9,
     "metadata": {},
     "output_type": "execute_result"
    }
   ],
   "source": [
    "# What is its average progress?\n",
    "sum(advance_cm)/len(advance_cm)"
   ]
  },
  {
   "cell_type": "markdown",
   "metadata": {},
   "source": [
    "**Expected output**: \n",
    "```\n",
    "38.09090909090909\n",
    "```"
   ]
  },
  {
   "cell_type": "code",
   "execution_count": 10,
   "metadata": {},
   "outputs": [
    {
     "data": {
      "text/plain": [
       "17.159437082600803"
      ]
     },
     "execution_count": 10,
     "metadata": {},
     "output_type": "execute_result"
    }
   ],
   "source": [
    "# What is the standard deviation of your displacement during the day?\n",
    "import statistics\n",
    "\n",
    "statistics.pstdev(advance_cm)"
   ]
  },
  {
   "cell_type": "markdown",
   "metadata": {},
   "source": [
    "**Expected output**: \n",
    "```\n",
    "17.159437082600803\n",
    "```"
   ]
  }
 ],
 "metadata": {
  "kernelspec": {
   "display_name": "Python 3",
   "language": "python",
   "name": "python3"
  },
  "language_info": {
   "codemirror_mode": {
    "name": "ipython",
    "version": 3
   },
   "file_extension": ".py",
   "mimetype": "text/x-python",
   "name": "python",
   "nbconvert_exporter": "python",
   "pygments_lexer": "ipython3",
   "version": "3.8.3"
  }
 },
 "nbformat": 4,
 "nbformat_minor": 2
}

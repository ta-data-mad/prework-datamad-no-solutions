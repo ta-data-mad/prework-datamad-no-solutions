{
 "cells": [
  {
   "cell_type": "markdown",
   "metadata": {},
   "source": [
    "# Snail and well\n",
    "\n",
    "A snail falls at the bottom of a 125 cm well. Each day the snail rises 30 cm. But at night, while sleeping, slides 20 cm because the walls are wet. How many days does it take to escape from the well?\n",
    "\n",
    "TIP: http://puzzles.nigelcoldwell.co.uk/sixtytwo.htm"
   ]
  },
  {
   "cell_type": "markdown",
   "metadata": {},
   "source": [
    "## Solución"
   ]
  },
  {
   "cell_type": "code",
   "execution_count": 1,
   "metadata": {},
   "outputs": [
    {
     "name": "stdout",
     "output_type": "stream",
     "text": [
      "Days = 11\n"
     ]
    }
   ],
   "source": [
    "# Assign problem data to variables with representative names\n",
    "# well height, daily advance, night retreat, accumulated distance\n",
    "# Assign 0 to the variable that represents the solution\n",
    "well_height=125\n",
    "daily_advance=30\n",
    "night_retreat=-20\n",
    "accumulated_distance=0\n",
    "days=0\n",
    "\n",
    "# Write the code that solves the problem\n",
    "\n",
    "while well_height >= accumulated_distance:\n",
    "    \n",
    "    accumulated_distance+=daily_advance\n",
    "    days+=1\n",
    "    \n",
    "    if well_height >= accumulated_distance:\n",
    "        \n",
    "        accumulated_distance+=night_retreat\n",
    "        \n",
    "# Print the result with print('Days =', days)\n",
    "print('Days =',days)"
   ]
  },
  {
   "cell_type": "markdown",
   "metadata": {},
   "source": [
    "**Expected output**: \n",
    "```\n",
    "Days = 11\n",
    "```"
   ]
  },
  {
   "cell_type": "markdown",
   "metadata": {},
   "source": [
    "## Goals\n",
    "\n",
    "1. Treatment of variables\n",
    "2. Use of loop **while**\n",
    "3. Use of conditional **if-else**\n",
    "4. Print in console"
   ]
  },
  {
   "cell_type": "markdown",
   "metadata": {},
   "source": [
    "## Bonus\n",
    "The distance traveled by the snail is now defined by a list.\n",
    "```\n",
    "advance_cm = [30, 21, 33, 77, 44, 45, 23, 45, 12, 34, 55]\n",
    "```\n",
    "How long does it take to raise the well?\n",
    "\n",
    "What is its maximum displacement in one day? And its minimum?\n",
    "\n",
    "What is its average speed during the day?\n",
    "\n",
    "What is the standard deviation of its displacement during the day?"
   ]
  },
  {
   "cell_type": "code",
   "execution_count": 2,
   "metadata": {},
   "outputs": [
    {
     "name": "stdout",
     "output_type": "stream",
     "text": [
      "On day 1 the snail moves forward 30 cm , current accumulated distance:  30 cm\n",
      "By night 1  the snail slides 20 cm back, current accumulated distance: 10 cm\n",
      "On day 2 the snail moves forward 21 cm , current accumulated distance:  31 cm\n",
      "By night 2  the snail slides 20 cm back, current accumulated distance: 11 cm\n",
      "On day 3 the snail moves forward 33 cm , current accumulated distance:  44 cm\n",
      "By night 3  the snail slides 20 cm back, current accumulated distance: 24 cm\n",
      "On day 4 the snail moves forward 77 cm , current accumulated distance:  101 cm\n",
      "By night 4  the snail slides 20 cm back, current accumulated distance: 81 cm\n",
      "On day 5 the snail moves forward 44 cm , current accumulated distance:  125 cm\n",
      "Days =  5\n"
     ]
    }
   ],
   "source": [
    "# Assign problem data to variables with representative names\n",
    "# well height, daily advance, night retreat, accumulated distance\n",
    "# Assign 0 to the variable that represents the solution\n",
    "advance_cm = [30, 21, 33, 77, 44, 45, 23, 45, 12, 34, 55]\n",
    "well_height= 125\n",
    "night_retreat=-20\n",
    "accumulated_distance=0\n",
    "Days=0\n",
    "\n",
    "# Write the code that solves the problem\n",
    "\n",
    "for daily_advance in advance_cm:\n",
    "    Days+=1\n",
    "    accumulated_distance+= daily_advance\n",
    "    print(\"On day\",Days,\"the snail moves forward\",daily_advance,\n",
    "          \"cm , current accumulated distance: \", accumulated_distance,\"cm\")\n",
    "   \n",
    "    if well_height <= accumulated_distance:\n",
    "        break\n",
    "    else:\n",
    "        accumulated_distance+= night_retreat \n",
    "        print(\"By night\",Days,\" the snail slides 20 cm back, current accumulated distance:\", accumulated_distance,\"cm\")\n",
    "        \n",
    "# Print the result with print('Days =', days)\n",
    "print('Days = ', Days)"
   ]
  },
  {
   "cell_type": "markdown",
   "metadata": {},
   "source": [
    "**Expected output**: \n",
    "```\n",
    "Days = 6\n",
    "```"
   ]
  },
  {
   "cell_type": "code",
   "execution_count": 3,
   "metadata": {},
   "outputs": [
    {
     "name": "stdout",
     "output_type": "stream",
     "text": [
      "Maximum displacement is :  77 cm\n",
      "Minimum displacement is :  12 cm\n"
     ]
    }
   ],
   "source": [
    "# What is its maximum displacement in a day? And its minimum?\n",
    "advance_cm = [30, 21, 33, 77, 44, 45, 23, 45, 12, 34, 55]\n",
    "\n",
    "Minimum_displacement= min(advance_cm)\n",
    "Maximum_displacement= max(advance_cm)    \n",
    "\n",
    "print(\"Maximum displacement is : \",Maximum_displacement,\"cm\")\n",
    "print(\"Minimum displacement is : \",Minimum_displacement,\"cm\")\n",
    "    "
   ]
  },
  {
   "cell_type": "markdown",
   "metadata": {},
   "source": [
    "**Expected output**: \n",
    "```\n",
    "77 12\n",
    "```"
   ]
  },
  {
   "cell_type": "code",
   "execution_count": 4,
   "metadata": {},
   "outputs": [
    {
     "name": "stdout",
     "output_type": "stream",
     "text": [
      "Average progress is  : 38.09090909090909\n"
     ]
    }
   ],
   "source": [
    "# What is its average progress?\n",
    "advance_cm = [30, 21, 33, 77, 44, 45, 23, 45, 12, 34, 55]\n",
    "\n",
    "avg=sum(advance_cm)/len(advance_cm)\n",
    "\n",
    "print(\"Average progress is  :\", avg)"
   ]
  },
  {
   "cell_type": "markdown",
   "metadata": {},
   "source": [
    "**Expected output**: \n",
    "```\n",
    "38.09090909090909\n",
    "```"
   ]
  },
  {
   "cell_type": "code",
   "execution_count": 5,
   "metadata": {},
   "outputs": [
    {
     "name": "stdout",
     "output_type": "stream",
     "text": [
      "The standard deviation during the day is : 17.159437082600803\n"
     ]
    }
   ],
   "source": [
    "# What is the standard deviation of your displacement during the day?\n",
    "\n",
    "#To calculate the standard deviation of those numbers:\n",
    "#Work out the Mean (the simple average of the numbers)\n",
    "#Then for each number: subtract the Mean and square the result.\n",
    "#Then work out the mean of those squared differences.\n",
    "#Take the square root of that and we are done!\n",
    "\n",
    "import math\n",
    "\n",
    "\n",
    "new_list=[]\n",
    "\n",
    "mean=sum(advance_cm)/len(advance_cm)\n",
    "\n",
    "for i in advance_cm:\n",
    "    new_list.append((i-mean)**2)\n",
    "    \n",
    "new_list_mean=sum(new_list)/len(new_list)\n",
    "\n",
    "standard_deviation=math.sqrt(new_list_mean)\n",
    "\n",
    "print(\"The standard deviation during the day is :\" ,standard_deviation)"
   ]
  },
  {
   "cell_type": "markdown",
   "metadata": {},
   "source": [
    "**Expected output**: \n",
    "```\n",
    "17.159437082600803\n",
    "```"
   ]
  },
  {
   "cell_type": "code",
   "execution_count": null,
   "metadata": {},
   "outputs": [],
   "source": []
  }
 ],
 "metadata": {
  "kernelspec": {
   "display_name": "Python 3",
   "language": "python",
   "name": "python3"
  },
  "language_info": {
   "codemirror_mode": {
    "name": "ipython",
    "version": 3
   },
   "file_extension": ".py",
   "mimetype": "text/x-python",
   "name": "python",
   "nbconvert_exporter": "python",
   "pygments_lexer": "ipython3",
   "version": "3.8.3"
  }
 },
 "nbformat": 4,
 "nbformat_minor": 2
}

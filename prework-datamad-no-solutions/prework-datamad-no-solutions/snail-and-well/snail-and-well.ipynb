{
 "cells": [
  {
   "cell_type": "markdown",
   "metadata": {},
   "source": [
    "# Snail and well\n",
    "\n",
    "A snail falls at the bottom of a 125 cm well. Each day the snail rises 30 cm. But at night, while sleeping, slides 20 cm because the walls are wet. How many days does it take to escape from the well?\n",
    "\n",
    "TIP: http://puzzles.nigelcoldwell.co.uk/sixtytwo.htm"
   ]
  },
  {
   "cell_type": "markdown",
   "metadata": {},
   "source": [
    "## Solución"
   ]
  },
  {
   "cell_type": "code",
   "execution_count": 1,
   "metadata": {},
   "outputs": [],
   "source": [
    "# Assign problem data to variables with representative names\n",
    "# well height, daily advance, night retreat, accumulated distance\n",
    "well_height = 125\n",
    "daily_distance = 30\n",
    "nightly_distance = 20\n",
    "snail_position = 0\n",
    "\n",
    "# Assign 0 to the variable that represents the solution\n",
    "days = 0\n",
    "\n",
    "# Write the code that solves the problem\n",
    "while snail_position <= well_height:\n",
    "    snail_position += daily_distance\n",
    "    snail_position -= nightly_distance\n",
    "    days += 1\n",
    " \n",
    "\n",
    "# Print the result with print('Days =', days)\n",
    "\n",
    "print('It will take the snail,', days, 'days to get out of the well')"
   ]
  },
  {
   "cell_type": "markdown",
   "metadata": {},
   "source": [
    "**Expected output**: \n",
    "```\n",
    "Days = 11\n",
    "```"
   ]
  },
  {
   "cell_type": "markdown",
   "metadata": {},
   "source": [
    "## Goals\n",
    "\n",
    "1. Treatment of variables\n",
    "2. Use of loop **while**\n",
    "3. Use of conditional **if-else**\n",
    "4. Print in console"
   ]
  },
  {
   "cell_type": "markdown",
   "metadata": {},
   "source": [
    "## Bonus\n",
    "The distance traveled by the snail is now defined by a list.\n",
    "```\n",
    "advance_cm = [30, 21, 33, 77, 44, 45, 23, 45, 12, 34, 55]\n",
    "```\n",
    "How long does it take to raise the well?\n",
    "\n",
    "What is its maximum displacement in one day? And its minimum?\n",
    "\n",
    "What is its average speed during the day?\n",
    "\n",
    "What is the standard deviation of its displacement during the day?"
   ]
  },
  {
   "cell_type": "code",
   "execution_count": 1,
   "metadata": {},
   "outputs": [
    {
     "name": "stdout",
     "output_type": "stream",
     "text": [
      "It will take the snail, 6 days to get out of the well\n"
     ]
    }
   ],
   "source": [
    "# Assign problem data to variables with representative names\n",
    "# well height, daily advance, night retreat, accumulated distance\n",
    "well_height = 125\n",
    "daily_distance = 30\n",
    "nightly_distance = 20\n",
    "snail_position = 0\n",
    "advance_cm = [30, 21, 33, 77, 44, 45, 23, 45, 12, 34, 55]\n",
    "progress = 0\n",
    "displacement =[]\n",
    "\n",
    "# Assign 0 to the variable that represents the solution\n",
    "days = 0\n",
    "\n",
    "# Write the code that solves the problem\n",
    "\n",
    "while snail_position <= well_height:\n",
    "    snail_position += advance_cm[days]\n",
    "    snail_position -= nightly_distance\n",
    "    days += 1\n",
    "    \n",
    "\n",
    "# Print the result with print('Days =', days)\n",
    "\n",
    "    \n",
    "print('It will take the snail,', days, 'days to get out of the well')\n",
    "\n",
    "#Está hecho como lo pedían en el prework de BCN"
   ]
  },
  {
   "cell_type": "markdown",
   "metadata": {},
   "source": [
    "**Expected output**: \n",
    "```\n",
    "Days = 6\n",
    "```"
   ]
  },
  {
   "cell_type": "code",
   "execution_count": 2,
   "metadata": {},
   "outputs": [
    {
     "name": "stdout",
     "output_type": "stream",
     "text": [
      "The minimum displacement is:  1\n",
      "The maximum displacement is:  57\n"
     ]
    }
   ],
   "source": [
    "# What is its maximum displacement in a day? And its minimum?\n",
    "well_height = 125\n",
    "daily_distance = 30\n",
    "nightly_distance = 20\n",
    "snail_position = 0\n",
    "days = 0\n",
    "advance_cm = [30, 21, 33, 77, 44, 45, 23, 45, 12, 34, 55]\n",
    "progress = 0\n",
    "displacement =[]\n",
    "\n",
    "\n",
    "while snail_position <= well_height:\n",
    "    snail_position += advance_cm[days]\n",
    "    snail_position -= nightly_distance\n",
    "    progress = advance_cm[days] - nightly_distance\n",
    "    displacement.append(progress)\n",
    "    days += 1\n",
    "    \n",
    "    \n",
    "print('The minimum displacement is: ', min(displacement))\n",
    "print('The maximum displacement is: ', max(displacement))\n",
    "\n",
    "#Está hecho como lo pedían en el prework de BCN"
   ]
  },
  {
   "cell_type": "markdown",
   "metadata": {},
   "source": [
    "**Expected output**: \n",
    "```\n",
    "77 12\n",
    "```"
   ]
  },
  {
   "cell_type": "code",
   "execution_count": 3,
   "metadata": {},
   "outputs": [
    {
     "name": "stdout",
     "output_type": "stream",
     "text": [
      "Average progress is: 43.33\n"
     ]
    }
   ],
   "source": [
    "# What is its average progress?\n",
    "well_height = 125\n",
    "daily_distance = 30\n",
    "nightly_distance = 20\n",
    "snail_position = 0\n",
    "days = 0\n",
    "advance_cm = [30, 21, 33, 77, 44, 45, 23, 45, 12, 34, 55]\n",
    "progress = 0\n",
    "\n",
    "while snail_position <= well_height:\n",
    "    snail_position += advance_cm[days]\n",
    "    snail_position -= nightly_distance\n",
    "    progress += (advance_cm[days] - nightly_distance)\n",
    "    average = progress / len(str(progress -1))\n",
    "    days += 1\n",
    "    \n",
    "print('Average progress is:', round(average, 2))\n",
    "\n",
    "#Está hecho como lo pedían en el prework de BCN"
   ]
  },
  {
   "cell_type": "markdown",
   "metadata": {},
   "source": [
    "**Expected output**: \n",
    "```\n",
    "38.09090909090909\n",
    "```"
   ]
  },
  {
   "cell_type": "code",
   "execution_count": 4,
   "metadata": {},
   "outputs": [
    {
     "name": "stdout",
     "output_type": "stream",
     "text": [
      "The standard deviation of the displacement is:  52.08\n"
     ]
    }
   ],
   "source": [
    "# What is the standard deviation of your displacement during the day?\n",
    "import statistics\n",
    "\n",
    "well_height = 125\n",
    "daily_distance = 30\n",
    "nightly_distance = 20\n",
    "snail_position = 0\n",
    "days = 0\n",
    "advance_cm = [30, 21, 33, 77, 44, 45, 23, 45, 12, 34, 55]\n",
    "progress = 0\n",
    "displacements =[]\n",
    "\n",
    "while snail_position <= well_height:\n",
    "    snail_position += advance_cm[days]\n",
    "    snail_position -= nightly_distance\n",
    "    progress += (advance_cm[days] - nightly_distance)\n",
    "    displacements.append(progress)\n",
    "    days += 1\n",
    "standard_deviation = statistics.stdev(displacements)\n",
    "print('The standard deviation of the displacement is: ', round(standard_deviation, 2))\n",
    "\n",
    "#Está hecho como lo pedían en el prework de BCN"
   ]
  },
  {
   "cell_type": "markdown",
   "metadata": {},
   "source": [
    "**Expected output**: \n",
    "```\n",
    "17.159437082600803\n",
    "```"
   ]
  }
 ],
 "metadata": {
  "kernelspec": {
   "display_name": "Python 3",
   "language": "python",
   "name": "python3"
  },
  "language_info": {
   "codemirror_mode": {
    "name": "ipython",
    "version": 3
   },
   "file_extension": ".py",
   "mimetype": "text/x-python",
   "name": "python",
   "nbconvert_exporter": "python",
   "pygments_lexer": "ipython3",
   "version": "3.7.5"
  }
 },
 "nbformat": 4,
 "nbformat_minor": 2
}

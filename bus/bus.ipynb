{
 "cells": [
  {
   "cell_type": "markdown",
   "metadata": {},
   "source": [
    "<img src=\"https://bit.ly/2VnXWr2\" width=\"100\" align=\"left\">"
   ]
  },
  {
   "cell_type": "markdown",
   "metadata": {},
   "source": [
    "# Bus\n",
    "\n",
    "This bus has a passenger entry and exit control system to monitor the number of occupants it carries and thus detect when there are too many.\n",
    "\n",
    "At each stop, the entry and exit of passengers is represented by a tuple consisting of two integer numbers.\n",
    "```\n",
    "bus_stop = (in, out)\n",
    "```\n",
    "The succession of stops is represented by a list of these tuples.\n",
    "```\n",
    "stops = [(in1, out1), (in2, out2), (in3, out3), (in4, out4)]\n",
    "```\n",
    "\n",
    "## Tools\n",
    "You don't necessarily need to use all the tools. Maybe you opt to use some of them or completely different ones, they are given to help you shape the exercise. Programming exercises can be solved in many different ways.\n",
    "* Data structures: **lists, tuples**\n",
    "* Loop: **while/for loops**\n",
    "* Functions: **min, max, len**\n",
    "\n",
    "## Tasks"
   ]
  },
  {
   "cell_type": "code",
   "execution_count": 2,
   "metadata": {},
   "outputs": [],
   "source": [
    "# Variables\n",
    "stops = [(10, 0), (4, 1), (3, 5), (3, 4), (5, 1), (1, 5), (5, 8), (4, 6), (2, 3)]"
   ]
  },
  {
   "cell_type": "markdown",
   "metadata": {},
   "source": [
    "#### 1. Calculate the number of stops."
   ]
  },
  {
   "cell_type": "code",
   "execution_count": 3,
   "metadata": {},
   "outputs": [
    {
     "name": "stdout",
     "output_type": "stream",
     "text": [
      "El autobus efectua un total de 9 paradas.\n"
     ]
    }
   ],
   "source": [
    "# Número de paradas\n",
    "n_stops = len(stops)\n",
    "\n",
    "print(\"El autobus efectua un total de \" + str(n_stops) + \" paradas.\")"
   ]
  },
  {
   "cell_type": "markdown",
   "metadata": {},
   "source": [
    "#### 2. Assign to a variable a list whose elements are the number of passengers at each stop (in-out).\n",
    "Each item depends on the previous item in the list + in - out."
   ]
  },
  {
   "cell_type": "code",
   "execution_count": 4,
   "metadata": {},
   "outputs": [
    {
     "name": "stdout",
     "output_type": "stream",
     "text": [
      "En la parada 1: entran 10 pasajeros y salen 0 pasajeros\n",
      "El bus contiene un total de 10 pasajeros\n",
      "En la parada 2: entran 4 pasajeros y salen 1 pasajeros\n",
      "El bus contiene un total de 13 pasajeros\n",
      "En la parada 3: entran 3 pasajeros y salen 5 pasajeros\n",
      "El bus contiene un total de 11 pasajeros\n",
      "En la parada 4: entran 3 pasajeros y salen 4 pasajeros\n",
      "El bus contiene un total de 10 pasajeros\n",
      "En la parada 5: entran 5 pasajeros y salen 1 pasajeros\n",
      "El bus contiene un total de 14 pasajeros\n",
      "En la parada 6: entran 1 pasajeros y salen 5 pasajeros\n",
      "El bus contiene un total de 10 pasajeros\n",
      "En la parada 7: entran 5 pasajeros y salen 8 pasajeros\n",
      "El bus contiene un total de 7 pasajeros\n",
      "En la parada 8: entran 4 pasajeros y salen 6 pasajeros\n",
      "El bus contiene un total de 5 pasajeros\n",
      "En la parada 9: entran 2 pasajeros y salen 3 pasajeros\n",
      "El bus contiene un total de 4 pasajeros\n",
      "[10, 13, 11, 10, 14, 10, 7, 5, 4]\n"
     ]
    }
   ],
   "source": [
    "total_passengers = 0\n",
    "true_passenger = []\n",
    "\n",
    "for current_stop in range(n_stops):\n",
    "    parada = stops[current_stop]\n",
    "    parada_in = parada[0]\n",
    "    parada_out = parada[1]\n",
    "    current_p = parada_in - parada_out\n",
    "    total_passengers += current_p\n",
    "    true_passenger.append(total_passengers)\n",
    "    \n",
    "    print(\"En la parada \" + str(current_stop + 1) + \": entran \" + str(parada_in) + \" pasajeros y salen \" + str(parada_out) + \" pasajeros\")\n",
    "    print(\"El bus contiene un total de \" + str(total_passengers) + \" pasajeros\")\n",
    "\n",
    "print(true_passenger)\n"
   ]
  },
  {
   "cell_type": "markdown",
   "metadata": {},
   "source": [
    "#### 3. Find the maximum occupation of the bus."
   ]
  },
  {
   "cell_type": "code",
   "execution_count": 5,
   "metadata": {},
   "outputs": [
    {
     "name": "stdout",
     "output_type": "stream",
     "text": [
      "El número máximo de pasajeros transportados por el bus al mismo tiempo fueron 14 pasajeros\n"
     ]
    }
   ],
   "source": [
    "total_passengers = 0\n",
    "max_occupation = 0\n",
    "\n",
    "for current_stop in range(n_stops):\n",
    "    parada = stops[current_stop]\n",
    "    parada_in = parada[0]\n",
    "    parada_out = parada[1]\n",
    "    current_p = parada_in - parada_out\n",
    "    total_passengers += current_p\n",
    "    \n",
    "    if total_passengers > max_occupation:\n",
    "        max_occupation = total_passengers\n",
    "    \n",
    "print(\"El número máximo de pasajeros transportados por el bus al mismo tiempo fueron \" + str(max_occupation) + \" pasajeros\")"
   ]
  },
  {
   "cell_type": "markdown",
   "metadata": {},
   "source": [
    "#### 4. Calculate the average occupation. And the standard deviation."
   ]
  },
  {
   "cell_type": "code",
   "execution_count": 8,
   "metadata": {},
   "outputs": [
    {
     "name": "stdout",
     "output_type": "stream",
     "text": [
      "El promedio de ocupación del bus es de 9 pasajeros por parada\n"
     ]
    }
   ],
   "source": [
    "import math\n",
    "\n",
    "total_passengers = 0\n",
    "max_occupation = 0\n",
    "average_occupation = 0\n",
    "\n",
    "for current_stop in range(n_stops):\n",
    "    parada = stops[current_stop]\n",
    "    parada_in = parada[0]\n",
    "    parada_out = parada[1]\n",
    "    current_p = parada_in - parada_out\n",
    "    total_passengers += current_p\n",
    "    \n",
    "    if total_passengers > max_occupation:\n",
    "        max_occupation = total_passengers\n",
    "    \n",
    "    average_occupation += total_passengers\n",
    "\n",
    "media = average_occupation / n_stops\n",
    "    \n",
    "print(\"El promedio de ocupación del bus es de \" + str(int(average_occupation / n_stops)) + \" pasajeros por parada\")"
   ]
  },
  {
   "cell_type": "code",
   "execution_count": 9,
   "metadata": {},
   "outputs": [
    {
     "name": "stdout",
     "output_type": "stream",
     "text": [
      "La varianza es 10.222222222222221\n",
      "La desviación estandar es 3.197221015541813\n"
     ]
    }
   ],
   "source": [
    "# Desviación estandar\n",
    "\n",
    "first_result = 0\n",
    "second_result = 0\n",
    "\n",
    "for current_stop in range(n_stops):\n",
    "    elements = true_passenger[current_stop]\n",
    "    first_result = (elements - media)**2\n",
    "    second_result += first_result\n",
    "    current_stop += 1\n",
    "\n",
    "variance = second_result / n_stops\n",
    "\n",
    "print(\"La varianza es \" + str(variance))\n",
    "\n",
    "desviación_estandar = math.sqrt(variance)\n",
    "\n",
    "print(\"La desviación estandar es \" + str(desviación_estandar))\n",
    "    "
   ]
  }
 ],
 "metadata": {
  "kernelspec": {
   "display_name": "Python 3",
   "language": "python",
   "name": "python3"
  },
  "language_info": {
   "codemirror_mode": {
    "name": "ipython",
    "version": 3
   },
   "file_extension": ".py",
   "mimetype": "text/x-python",
   "name": "python",
   "nbconvert_exporter": "python",
   "pygments_lexer": "ipython3",
   "version": "3.8.1"
  }
 },
 "nbformat": 4,
 "nbformat_minor": 2
}

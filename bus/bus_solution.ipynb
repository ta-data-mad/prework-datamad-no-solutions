{
 "cells": [],
 "metadata": {},
 "nbformat": 4,
 "nbformat_minor": 2
}
# variables
stops = [(10, 0), (4, 1), (3, 5), (3, 4), (5, 1), (1, 5), (5, 8), (4, 6), (2, 3)]

# 1. Calculate the number of stops.
number_stops = len(stops)
print(number_stops)

# 2. Assign a variable a list whose elements are the number of passengers in each stop: 
# Each item depends on the previous item in the list + in - out.
number_passengers = []
passenger = 0
for i in stops:
    pass_stop = passenger + i[0] - i[1]
    number_passengers.append(pass_stop)
    passenger = pass_stop
print(number_passengers)

# 3. Find the maximum occupation of the bus.
print(max(number_passengers))

# 4. Calculate the average occupation. And the standard deviation.
av_occupation = sum(number_passengers)/len(number_passengers)
print(av_occupation)

import math
suma = 0
for i in number_passengers:
    suma += (i - av_occupation)**2

numero = suma/len(number_passengers)   
st_av_occupation = math.sqrt(numero)
print(st_av_occupation)
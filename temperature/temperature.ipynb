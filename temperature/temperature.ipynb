{
 "cells": [
  {
   "cell_type": "markdown",
   "metadata": {},
   "source": [
    "<img src=\"https://bit.ly/2VnXWr2\" width=\"100\" align=\"left\">"
   ]
  },
  {
   "cell_type": "markdown",
   "metadata": {},
   "source": [
    "# Temperature Sensor\n",
    "\n",
    "There is a temperature sensor in the processor of your company's server. The company wants to analyze the data provided by the sensor to decide if they should change the cooling system for a better one. As changing the cooling system is expensive and you are an excellent data analyst, you can't make a decision without basis.\n",
    "\n",
    "## Tools\n",
    "You don't necessarily need to use all the tools. Maybe you opt to use some of them or completely different ones, they are given to help you shape the exercise. Programming exercises can be solved in many different ways.\n",
    "1. Data structures: **lists**\n",
    "2. Loops: **list comprehension**\n",
    "3. Functions: **min, max, print, len**\n",
    "4. Conditional statements: **if-elif-else**\n",
    "\n",
    "## Tasks\n",
    "The temperatures measured throughout the 24 hours of a day are:"
   ]
  },
  {
   "cell_type": "code",
   "execution_count": 1,
   "metadata": {},
   "outputs": [],
   "source": [
    "temperatures_C = [33, 66, 65, 0, 59, 60, 62, 64, 70, 76, 80, 81, 80, 83, 90, 79, 61, 53, 50, 49, 53, 48, 45, 39]"
   ]
  },
  {
   "cell_type": "markdown",
   "metadata": {},
   "source": [
    "The first element of the list is the temperature at 12am, the second element is the temperature at 1am, and so on. \n",
    "\n",
    "The company has decided that if one of the following events occurs, then the cooling system needs to be replaced for a new one to avoid damaging the processor.\n",
    "* More than 4 temperatures are greater than or equal to 70ºC.\n",
    "* Any temperature is above 80ºC.\n",
    "* The average temperature exceeds 65ºC.\n",
    "\n",
    "Follow the steps so that you can make the decision.\n",
    "\n",
    "#### 1. Find the minimum temperature of the day and store it in a variable."
   ]
  },
  {
   "cell_type": "code",
   "execution_count": 2,
   "metadata": {},
   "outputs": [
    {
     "name": "stdout",
     "output_type": "stream",
     "text": [
      "Minimum temperature of the day:  0\n"
     ]
    }
   ],
   "source": [
    "min_temp=min(temperatures_C)\n",
    "print(\"Minimum temperature of the day: \", min_temp)"
   ]
  },
  {
   "cell_type": "markdown",
   "metadata": {},
   "source": [
    "#### 2. Find the maximum temperature of the day and store it in a variable."
   ]
  },
  {
   "cell_type": "code",
   "execution_count": 3,
   "metadata": {},
   "outputs": [
    {
     "name": "stdout",
     "output_type": "stream",
     "text": [
      "Maximum temperature of the day:  90\n"
     ]
    }
   ],
   "source": [
    "max_temp=max(temperatures_C)\n",
    "print(\"Maximum temperature of the day: \", max_temp)"
   ]
  },
  {
   "cell_type": "markdown",
   "metadata": {},
   "source": [
    "#### 3. Create a list with the temperatures that are greater than or equal to 70ºC. Store it in a variable."
   ]
  },
  {
   "cell_type": "code",
   "execution_count": 4,
   "metadata": {},
   "outputs": [
    {
     "name": "stdout",
     "output_type": "stream",
     "text": [
      "Temperatures that are greater than or equal to 70ºC:  [70, 76, 79, 80, 81, 83, 90]\n"
     ]
    }
   ],
   "source": [
    "high_temperatures=[]\n",
    "for temperature in temperatures_C:\n",
    "    if temperature >=70 and temperature not in high_temperatures:\n",
    "        high_temperatures.append(temperature)\n",
    "\n",
    "high_temperatures.sort()\n",
    "print(\"Temperatures that are greater than or equal to 70ºC: \", high_temperatures)"
   ]
  },
  {
   "cell_type": "markdown",
   "metadata": {},
   "source": [
    "#### 4. Find the average temperature of the day and store it in a variable."
   ]
  },
  {
   "cell_type": "code",
   "execution_count": 5,
   "metadata": {},
   "outputs": [
    {
     "name": "stdout",
     "output_type": "stream",
     "text": [
      "Average temperature of the day:  60.25\n"
     ]
    }
   ],
   "source": [
    "avg_temperature=sum(temperatures_C)/len(temperatures_C)\n",
    "print(\"Average temperature of the day: \", avg_temperature)"
   ]
  },
  {
   "cell_type": "markdown",
   "metadata": {},
   "source": [
    "#### 5. Imagine that there was a sensor failure at 3am and the data for that specific hour was not recorded. How would you estimate the missing value? Replace the current value of the list at 3am for an estimation. "
   ]
  },
  {
   "cell_type": "code",
   "execution_count": 6,
   "metadata": {},
   "outputs": [
    {
     "name": "stdout",
     "output_type": "stream",
     "text": [
      "Wrong temperature at 3am:  0\n",
      "Correct temperature at 3am:  62.0\n",
      "\n",
      "New temperature list:\n",
      " [33, 66, 65, 62.0, 59, 60, 62, 64, 70, 76, 80, 81, 80, 83, 90, 79, 61, 53, 50, 49, 53, 48, 45, 39]\n"
     ]
    }
   ],
   "source": [
    "missing_value_wrong=temperatures_C[3]\n",
    "print(\"Wrong temperature at 3am: \", missing_value_wrong)\n",
    "\n",
    "missing_value_correct=(temperatures_C[2]+temperatures_C[4])/2\n",
    "print(\"Correct temperature at 3am: \", missing_value_correct)\n",
    "temperatures_C[3]=missing_value_correct\n",
    "print(\"\\nNew temperature list:\\n\", temperatures_C)"
   ]
  },
  {
   "cell_type": "markdown",
   "metadata": {},
   "source": [
    "#### 6. Bonus: the maintenance staff is from the United States and does not understand the international metric system. Help them by converting the temperatures from Celsius to Fahrenheit.\n",
    "To know more about temperature conversion check this [link](https://en.wikipedia.org/wiki/Conversion_of_units_of_temperature).\n",
    "\n",
    "**Formula**: \n",
    "\n",
    "$F = 1.8 * C + 32$"
   ]
  },
  {
   "cell_type": "code",
   "execution_count": 7,
   "metadata": {},
   "outputs": [
    {
     "name": "stdout",
     "output_type": "stream",
     "text": [
      "Temperature list in Fahrenheit: [91.4, 150.8, 149.0, 143.6, 138.2, 140.0, 143.6, 147.2, 158.0, 168.8, 176.0, 177.8, 176.0, 181.4, 194.0, 174.2, 141.8, 127.4, 122.0, 120.2, 127.4, 118.4, 113.0, 102.2]\n"
     ]
    }
   ],
   "source": [
    "temperatures_F=[]\n",
    "for temperature in temperatures_C:\n",
    "    temperatures_f=round(1.8*temperature+32,2)\n",
    "    temperatures_F.append(temperatures_f)\n",
    "\n",
    "print(\"Temperature list in Fahrenheit:\", temperatures_F)"
   ]
  },
  {
   "cell_type": "markdown",
   "metadata": {},
   "source": [
    "#### 7. Make a decision!\n",
    "Now it's time to make a decision taking into account what you have seen until now. \n",
    "\n",
    "Remember that if one of the following events occurs, then the cooling system needs to be replaced for a new one to avoid damaging the processor.\n",
    "* More than 4 temperatures are greater than or equal to 70ºC.\n",
    "* Any temperature is above 80ºC.\n",
    "* The average temperature exceeds 65ºC.\n",
    "\n",
    "#### To make your decision, check if any of the three conditions above is met. You might need to use some of the variables you created in steps 1 to 6. Print a message to show if the cooling system needs to be changed or not."
   ]
  },
  {
   "cell_type": "code",
   "execution_count": 8,
   "metadata": {},
   "outputs": [
    {
     "name": "stdout",
     "output_type": "stream",
     "text": [
      "The cooling system needs to be changed\n"
     ]
    }
   ],
   "source": [
    "cont=0;\n",
    "flag=0;\n",
    "\n",
    "avg_temp_C=sum(temperatures_C)/len(temperatures_C)\n",
    "\n",
    "for temperature in temperatures_C:\n",
    "    if temperature>=70:\n",
    "        cont+=1;\n",
    "    if cont>3 or avg_temp_C>65 or temperature>80:\n",
    "        flag=\"True\"\n",
    "\n",
    "if flag==\"True\":\n",
    "    print(\"The cooling system needs to be changed\")\n",
    "else:\n",
    "    print(\"The cooling system doesn't need to be changed\")"
   ]
  },
  {
   "cell_type": "markdown",
   "metadata": {},
   "source": [
    "## Bonus\n",
    "\n",
    "The company has decided that the decision you made is not valid. They want you to analyze the data again but this time, the conditions that need to be met in order to change the cooling system are different.\n",
    "\n",
    "This time, if one of the following events occurs, then the cooling system needs to be replaced:\n",
    "* The temperature is greater than 70ºC during more than 4 consecutive hours.\n",
    "* Any temperature is above 80ºC.\n",
    "* The average temperature exceeds 65ºC.\n",
    "\n",
    "Follow the steps so that you can make the decision.\n",
    "\n",
    "#### 1. Create a list with the hours where the temperature is greater than 70ºC. Store it in a variable."
   ]
  },
  {
   "cell_type": "code",
   "execution_count": 9,
   "metadata": {},
   "outputs": [
    {
     "name": "stdout",
     "output_type": "stream",
     "text": [
      "[0, 0, 0, 0, 0, 0, 0, 0, 70, 76, 80, 81, 80, 83, 90, 79, 0, 0, 0, 0, 0, 0, 0, 0]\n"
     ]
    }
   ],
   "source": [
    "temperatures_70=[]\n",
    "for temperature in temperatures_C:\n",
    "    if temperature >=70:\n",
    "        temperatures_70.append(temperature)\n",
    "    else:\n",
    "        temperatures_70.append(0)\n",
    "        \n",
    "print(temperatures_70)"
   ]
  },
  {
   "cell_type": "markdown",
   "metadata": {},
   "source": [
    "#### 2. Check if the list you created in step 1 has more than 4 consecutive hours. "
   ]
  },
  {
   "cell_type": "code",
   "execution_count": 10,
   "metadata": {},
   "outputs": [
    {
     "name": "stdout",
     "output_type": "stream",
     "text": [
      "The list has more than 4 consecutive hours with +70ºC\n"
     ]
    }
   ],
   "source": [
    "cont=0\n",
    "flag=0\n",
    "for temperature in temperatures_70:\n",
    "    if temperature>0 and cont<4:\n",
    "        cont+=1\n",
    "    elif temperature==0 and cont<4:\n",
    "        cont=0\n",
    "\n",
    "if cont==4:\n",
    "    flag=\"True\"\n",
    "    print(\"The list has more than 4 consecutive hours with +70ºC\")"
   ]
  },
  {
   "cell_type": "markdown",
   "metadata": {},
   "source": [
    "#### 3. Make the decision!\n",
    "To make your decision, check if any of the three conditions is met. Print a message to show if the cooling system needs to be changed or not."
   ]
  },
  {
   "cell_type": "code",
   "execution_count": 11,
   "metadata": {},
   "outputs": [
    {
     "name": "stdout",
     "output_type": "stream",
     "text": [
      "The cooling system needs to be changed\n"
     ]
    }
   ],
   "source": [
    "for temperature in temperatures_C:\n",
    "    if avg_temp_C>65 or temperature>80:\n",
    "        flag=\"True\"\n",
    "\n",
    "if flag==\"True\":\n",
    "    print(\"The cooling system needs to be changed\")\n",
    "else:\n",
    "    print(\"The cooling system doesn't need to be changed\")"
   ]
  },
  {
   "cell_type": "markdown",
   "metadata": {},
   "source": [
    "#### 4. Find the average value of the temperature lists (ºC and ºF). What is the relation between both average values?"
   ]
  },
  {
   "cell_type": "code",
   "execution_count": 12,
   "metadata": {},
   "outputs": [
    {
     "name": "stdout",
     "output_type": "stream",
     "text": [
      "Average value of temperatures_C:  62.833333333333336\n",
      "Average value of temperatures_F:  145.1\n",
      "Calculating the average temperature in F from the average temperatures in C: 145.1\n"
     ]
    }
   ],
   "source": [
    "print(\"Average value of temperatures_C: \", avg_temp_C)\n",
    "avg_temp_F=sum(temperatures_F)/len(temperatures_F)\n",
    "print(\"Average value of temperatures_F: \", avg_temp_F)\n",
    "\n",
    "Calculation_temp_F_from_temp_C=round((9/5)*avg_temp_C+32,2)\n",
    "print(\"Calculating the average temperature in F from the average temperatures in C:\", Calculation_temp_F_from_temp_C)"
   ]
  },
  {
   "cell_type": "markdown",
   "metadata": {},
   "source": [
    "#### 5. Find the standard deviation of the temperature lists (ºC and ºF). What is the relation between both standard deviations?"
   ]
  },
  {
   "cell_type": "code",
   "execution_count": 13,
   "metadata": {},
   "outputs": [
    {
     "name": "stdout",
     "output_type": "stream",
     "text": [
      "Stardard deviation of temperatures_C:  14.94821980579356\n",
      "Stardard deviation of temperatures_F:  26.906795650428407\n",
      "We cannot obtain one standard deviaton from the other using the same relation as in step 4.\n",
      "Dividing the deviation in ºC by the deviation in ºF, the new relation would be:  0.5555555555555556\n"
     ]
    }
   ],
   "source": [
    "import statistics\n",
    "dev_temperatures_C=statistics.stdev(temperatures_C)\n",
    "dev_temperatures_F=statistics.stdev(temperatures_F)\n",
    "print(\"Stardard deviation of temperatures_C: \", dev_temperatures_C)\n",
    "print(\"Stardard deviation of temperatures_F: \", dev_temperatures_F)\n",
    "print(\"We cannot obtain one standard deviaton from the other using the same relation as in step 4.\")\n",
    "print(\"Dividing the deviation in ºC by the deviation in ºF, the new relation would be: \", dev_temperatures_C/dev_temperatures_F)\n",
    "\n"
   ]
  }
 ],
 "metadata": {
  "kernelspec": {
   "display_name": "Python 3",
   "language": "python",
   "name": "python3"
  },
  "language_info": {
   "codemirror_mode": {
    "name": "ipython",
    "version": 3
   },
   "file_extension": ".py",
   "mimetype": "text/x-python",
   "name": "python",
   "nbconvert_exporter": "python",
   "pygments_lexer": "ipython3",
   "version": "3.7.6"
  }
 },
 "nbformat": 4,
 "nbformat_minor": 2
}

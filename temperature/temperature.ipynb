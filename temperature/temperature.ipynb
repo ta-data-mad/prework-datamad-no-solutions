{
 "cells": [
  {
   "cell_type": "markdown",
   "metadata": {},
   "source": [
    "<img src=\"https://bit.ly/2VnXWr2\" width=\"100\" align=\"left\">"
   ]
  },
  {
   "cell_type": "markdown",
   "metadata": {},
   "source": [
    "# Temperature Sensor\n",
    "\n",
    "There is a temperature sensor in the processor of your company's server. The company wants to analyze the data provided by the sensor to decide if they should change the cooling system for a better one. As changing the cooling system is expensive and you are an excellent data analyst, you can't make a decision without basis.\n",
    "\n",
    "## Tools\n",
    "You don't necessarily need to use all the tools. Maybe you opt to use some of them or completely different ones, they are given to help you shape the exercise. Programming exercises can be solved in many different ways.\n",
    "1. Data structures: **lists**\n",
    "2. Loops: **list comprehension**\n",
    "3. Functions: **min, max, print, len**\n",
    "4. Conditional statements: **if-elif-else**\n",
    "\n",
    "## Tasks\n",
    "The temperatures measured throughout the 24 hours of a day are:"
   ]
  },
  {
   "cell_type": "code",
   "execution_count": 48,
   "metadata": {},
   "outputs": [],
   "source": [
    "temperatures_C = [33, 66, 65, 0, 59, 60, 62, 64, 70, 76, 80, 81, 80, 83, 90, 79, 61, 53, 50, 49, 53, 48, 45, 39]"
   ]
  },
  {
   "cell_type": "markdown",
   "metadata": {},
   "source": [
    "The first element of the list is the temperature at 12am, the second element is the temperature at 1am, and so on. \n",
    "\n",
    "The company has decided that if one of the following events occurs, then the cooling system needs to be replaced for a new one to avoid damaging the processor.\n",
    "* More than 4 temperatures are greater than or equal to 70ºC.\n",
    "* Any temperature is above 80ºC.\n",
    "* The average temperature exceeds 65ºC.\n",
    "\n",
    "Follow the steps so that you can make the decision.\n",
    "\n",
    "#### 1. Find the minimum temperature of the day and store it in a variable."
   ]
  },
  {
   "cell_type": "code",
   "execution_count": 49,
   "metadata": {},
   "outputs": [
    {
     "name": "stdout",
     "output_type": "stream",
     "text": [
      "0\n"
     ]
    }
   ],
   "source": [
    "temp_min = min(temperatures_C)\n",
    "\n",
    "print(temp_min)"
   ]
  },
  {
   "cell_type": "markdown",
   "metadata": {},
   "source": [
    "#### 2. Find the maximum temperature of the day and store it in a variable."
   ]
  },
  {
   "cell_type": "code",
   "execution_count": 50,
   "metadata": {},
   "outputs": [
    {
     "name": "stdout",
     "output_type": "stream",
     "text": [
      "90\n"
     ]
    }
   ],
   "source": [
    "temp_max = max(temperatures_C)\n",
    "\n",
    "print(temp_max)"
   ]
  },
  {
   "cell_type": "markdown",
   "metadata": {},
   "source": [
    "#### 3. Create a list with the temperatures that are greater than or equal to 70ºC. Store it in a variable."
   ]
  },
  {
   "cell_type": "code",
   "execution_count": 51,
   "metadata": {},
   "outputs": [
    {
     "name": "stdout",
     "output_type": "stream",
     "text": [
      "[70, 76, 80, 81, 80, 83, 90, 79]\n"
     ]
    }
   ],
   "source": [
    "event70 = 70\n",
    "event90 = 90\n",
    "event65 = 65\n",
    "\n",
    "same_higher_sev = [e for e in temperatures_C if e >= event70]\n",
    "\n",
    "print(same_higher_sev)"
   ]
  },
  {
   "cell_type": "markdown",
   "metadata": {},
   "source": [
    "#### 4. Find the average temperature of the day and store it in a variable."
   ]
  },
  {
   "cell_type": "code",
   "execution_count": 52,
   "metadata": {},
   "outputs": [
    {
     "name": "stdout",
     "output_type": "stream",
     "text": [
      "60.25\n"
     ]
    }
   ],
   "source": [
    "sum_temp = sum(temperatures_C)\n",
    "hours_day = len(temperatures_C)\n",
    "\n",
    "average_temp = sum_temp / hours_day\n",
    "\n",
    "print(average_temp)"
   ]
  },
  {
   "cell_type": "markdown",
   "metadata": {},
   "source": [
    "#### 5. Imagine that there was a sensor failure at 3am and the data for that specific hour was not recorded. How would you estimate the missing value? Replace the current value of the list at 3am for an estimation. "
   ]
  },
  {
   "cell_type": "code",
   "execution_count": 53,
   "metadata": {},
   "outputs": [
    {
     "name": "stdout",
     "output_type": "stream",
     "text": [
      "62\n",
      "[33, 66, 65, 62, 59, 60, 62, 64, 70, 76, 80, 81, 80, 83, 90, 79, 61, 53, 50, 49, 53, 48, 45, 39]\n"
     ]
    }
   ],
   "source": [
    "# Voy a crear un valor intermedio entre las temperaturas colindantes a esta:\n",
    "hour = 3\n",
    "estimated_temp = int((temperatures_C[hour - 1] + temperatures_C[hour + 1]) / 2)\n",
    "\n",
    "print(estimated_temp)\n",
    "\n",
    "temperatures_C[3] = estimated_temp\n",
    "\n",
    "print(temperatures_C)"
   ]
  },
  {
   "cell_type": "markdown",
   "metadata": {},
   "source": [
    "#### 6. Bonus: the maintenance staff is from the United States and does not understand the international metric system. Help them by converting the temperatures from Celsius to Fahrenheit.\n",
    "To know more about temperature conversion check this [link](https://en.wikipedia.org/wiki/Conversion_of_units_of_temperature).\n",
    "\n",
    "**Formula**: \n",
    "\n",
    "$F = 1.8 * C + 32$"
   ]
  },
  {
   "cell_type": "code",
   "execution_count": 60,
   "metadata": {},
   "outputs": [
    {
     "name": "stdout",
     "output_type": "stream",
     "text": [
      "[196.52, 303.44000000000005, 300.2, 290.48, 280.76, 284.0, 290.48, 296.96, 316.40000000000003, 335.84000000000003, 348.8, 352.04, 348.8, 358.52000000000004, 381.2, 345.56, 287.24, 261.32000000000005, 251.6, 248.36, 261.32000000000005, 245.12, 235.4, 215.96]\n"
     ]
    }
   ],
   "source": [
    "actual_hour = 0\n",
    "all_day = len(temperatures_C)\n",
    "\n",
    "while actual_hour < all_day:\n",
    "    temp_c = temperatures_C[actual_hour]\n",
    "    temp_f = 1.8 * float(temp_c) + 32\n",
    "    temperatures_C[actual_hour] = temp_f\n",
    "    actual_hour += 1\n",
    "\n",
    "print(temperatures_C)"
   ]
  },
  {
   "cell_type": "markdown",
   "metadata": {},
   "source": [
    "#### 7. Make a decision!\n",
    "Now it's time to make a decision taking into account what you have seen until now. \n",
    "\n",
    "Remember that if one of the following events occurs, then the cooling system needs to be replaced for a new one to avoid damaging the processor.\n",
    "* More than 4 temperatures are greater than or equal to 70ºC.\n",
    "* Any temperature is above 80ºC.\n",
    "* The average temperature exceeds 65ºC.\n",
    "\n",
    "#### To make your decision, check if any of the three conditions above is met. You might need to use some of the variables you created in steps 1 to 6. Print a message to show if the cooling system needs to be changed or not."
   ]
  },
  {
   "cell_type": "code",
   "execution_count": 8,
   "metadata": {
    "scrolled": true
   },
   "outputs": [
    {
     "name": "stdout",
     "output_type": "stream",
     "text": [
      "102.2\n",
      "91.4\n"
     ]
    }
   ],
   "source": [
    "temp_min = min(temperatures_C)\n",
    "temp_max = max(temperatures_C)\n",
    "print(temp_max)"
   ]
  },
  {
   "cell_type": "code",
   "execution_count": 12,
   "metadata": {},
   "outputs": [
    {
     "name": "stdout",
     "output_type": "stream",
     "text": [
      "True\n",
      "158.0\n"
     ]
    }
   ],
   "source": [
    "event70 = 70\n",
    "event80 = 80\n",
    "event65 = 65\n",
    "\n",
    "event70_f = 1.8 * event70 + 32\n",
    "event80_f = 1.8 * event80 + 32\n",
    "event65_f = 1.8 * event65 + 32\n",
    "\n",
    "actual_hour = 0\n",
    "all_day = len(temperatures_C)\n",
    "\n",
    "counter_1 = 0\n",
    "counter_2 = 0\n",
    "counter_3 = 0\n",
    "\n",
    "while actual_hour < all_day:\n",
    "    actual_temp = float(temperatures_C[actual_hour])\n",
    "    \n",
    "    if actual_temp >= event70_f:\n",
    "        counter_1 += 1\n",
    "        \n",
    "    if actual_temp > event80_f:\n",
    "        counter_2 += 1\n",
    "    \n",
    "    if average_temp > event65_f:\n",
    "        counter_3 += 1\n",
    "    \n",
    "    actual_hour += 1\n",
    "\n",
    "if counter_1 > 4:\n",
    "    print(True)\n",
    "\n",
    "elif counter_2 >= 1:\n",
    "    print(True)\n",
    "    \n",
    "elif counter_3 > average_temp:\n",
    "    print(True)\n"
   ]
  },
  {
   "cell_type": "markdown",
   "metadata": {},
   "source": [
    "## Bonus\n",
    "\n",
    "The company has decided that the decision you made is not valid. They want you to analyze the data again but this time, the conditions that need to be met in order to change the cooling system are different.\n",
    "\n",
    "This time, if one of the following events occurs, then the cooling system needs to be replaced:\n",
    "* The temperature is greater than 70ºC during more than 4 consecutive hours.\n",
    "* Any temperature is above 80ºC.\n",
    "* The average temperature exceeds 65ºC.\n",
    "\n",
    "Follow the steps so that you can make the decision.\n",
    "\n",
    "#### 1. Create a list with the hours where the temperature is greater than 70ºC. Store it in a variable."
   ]
  },
  {
   "cell_type": "code",
   "execution_count": 21,
   "metadata": {
    "scrolled": true
   },
   "outputs": [
    {
     "name": "stdout",
     "output_type": "stream",
     "text": [
      "[8, 9, 10, 11, 12, 13, 14, 15]\n"
     ]
    }
   ],
   "source": [
    "temperaturesc_bonus = [33, 66, 65, 62, 59, 60, 62, 64, 70, 76, 80, 81, 80, 83, 90, 79, 61, 53, 50, 49, 53, 48, 45, 39]\n",
    "temp_sup = 70\n",
    "hour = 0\n",
    "all_hours = len(temperaturesc_bonus)\n",
    "\n",
    "hours_sup70 = []\n",
    "\n",
    "while hour < all_hours:\n",
    "    current_temp = temperaturesc_bonus[hour]\n",
    "    \n",
    "    if current_temp >= temp_sup:\n",
    "        hours_sup70.append(hour)\n",
    "    \n",
    "    hour += 1\n",
    "\n",
    "print(hours_sup70)"
   ]
  },
  {
   "cell_type": "markdown",
   "metadata": {},
   "source": [
    "#### 2. Check if the list you created in step 1 has more than 4 consecutive hours. "
   ]
  },
  {
   "cell_type": "code",
   "execution_count": 45,
   "metadata": {},
   "outputs": [
    {
     "name": "stdout",
     "output_type": "stream",
     "text": [
      "True\n"
     ]
    }
   ],
   "source": [
    "all_hours = len(hours_sup70)\n",
    "current_hour = 0\n",
    "consecutive_hours = 4\n",
    "\n",
    "counter = 0\n",
    "analisys_hour = 0\n",
    "\n",
    "while current_hour < all_hours:\n",
    "    hour_to_analisys = hours_sup70[analisys_hour]\n",
    "    hour = hours_sup70[current_hour]\n",
    "    \n",
    "    if counter == consecutive_hours:\n",
    "        print(True)\n",
    "        break\n",
    "    \n",
    "    if hour - counter == hour_to_analisys:\n",
    "        counter += 1\n",
    "    \n",
    "    elif hour - counter != hour_to_analisys:\n",
    "        analisys_hour = current_hour\n",
    "        counter = 0\n",
    "        \n",
    "    current_hour += 1\n",
    "    "
   ]
  },
  {
   "cell_type": "markdown",
   "metadata": {},
   "source": [
    "#### 3. Make the decision!\n",
    "To make your decision, check if any of the three conditions is met. Print a message to show if the cooling system needs to be changed or not."
   ]
  },
  {
   "cell_type": "code",
   "execution_count": null,
   "metadata": {},
   "outputs": [],
   "source": []
  },
  {
   "cell_type": "markdown",
   "metadata": {},
   "source": [
    "#### 4. Find the average value of the temperature lists (ºC and ºF). What is the relation between both average values?"
   ]
  },
  {
   "cell_type": "code",
   "execution_count": 61,
   "metadata": {},
   "outputs": [
    {
     "name": "stdout",
     "output_type": "stream",
     "text": [
      "62.833333333333336\n",
      "293.18\n"
     ]
    }
   ],
   "source": [
    "import statistics\n",
    "\n",
    "print(statistics.mean(temperaturesc_bonus))\n",
    "print(statistics.mean(temperatures_C))\n"
   ]
  },
  {
   "cell_type": "markdown",
   "metadata": {},
   "source": [
    "#### 5. Find the standard deviation of the temperature lists (ºC and ºF). What is the relation between both standard deviations?"
   ]
  },
  {
   "cell_type": "code",
   "execution_count": 62,
   "metadata": {},
   "outputs": [
    {
     "name": "stdout",
     "output_type": "stream",
     "text": [
      "14.633485192833897\n",
      "47.41249202478183\n"
     ]
    }
   ],
   "source": [
    "print(statistics.pstdev(temperaturesc_bonus))\n",
    "print(statistics.pstdev(temperatures_C))"
   ]
  },
  {
   "cell_type": "code",
   "execution_count": null,
   "metadata": {},
   "outputs": [],
   "source": []
  }
 ],
 "metadata": {
  "kernelspec": {
   "display_name": "Python 3",
   "language": "python",
   "name": "python3"
  },
  "language_info": {
   "codemirror_mode": {
    "name": "ipython",
    "version": 3
   },
   "file_extension": ".py",
   "mimetype": "text/x-python",
   "name": "python",
   "nbconvert_exporter": "python",
   "pygments_lexer": "ipython3",
   "version": "3.8.1"
  }
 },
 "nbformat": 4,
 "nbformat_minor": 2
}

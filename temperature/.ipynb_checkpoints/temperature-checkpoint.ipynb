{
 "cells": [
  {
   "cell_type": "markdown",
   "metadata": {},
   "source": [
    "# Processor temperature\n",
    "\n",
    "We have a temperature sensor in the processor of our company's server. We want to analyze the data provided to determinate whether we should change the cooling system for a better one. It is expensive and as a data analyst we cannot make decisions without a basis.\n",
    "\n",
    "We provide the temperatures measured throughout the 24 hours of a day in a list-type data structure composed of 24 integers:\n",
    "```\n",
    "temperatures_C = [33,66,65,0,59,60,62,64,70,76,80,69,80,83,68,79,61,53,50,49,53,48,45,39]\n",
    "```\n",
    "\n",
    "## Goals\n",
    "\n",
    "1. Treatment of lists\n",
    "2. Use of loop or list comprenhention\n",
    "3. Calculation of the mean, minimum and maximum.\n",
    "4. Filtering of lists.\n",
    "5. Interpolate an outlier.\n",
    "6. Logical operators.\n",
    "7. Print"
   ]
  },
  {
   "cell_type": "markdown",
   "metadata": {},
   "source": [
    "## Temperature graph\n",
    "To facilitate understanding, the temperature graph is shown below. You do not have to do anything in this section. The test starts in **Problem**."
   ]
  },
  {
   "cell_type": "code",
   "execution_count": 2,
   "metadata": {},
   "outputs": [
    {
     "ename": "SyntaxError",
     "evalue": "invalid syntax (<ipython-input-2-08855e4a86fa>, line 3)",
     "output_type": "error",
     "traceback": [
      "\u001b[0;36m  File \u001b[0;32m\"<ipython-input-2-08855e4a86fa>\"\u001b[0;36m, line \u001b[0;32m3\u001b[0m\n\u001b[0;31m    matplotlib inline\u001b[0m\n\u001b[0m                    ^\u001b[0m\n\u001b[0;31mSyntaxError\u001b[0m\u001b[0;31m:\u001b[0m invalid syntax\n"
     ]
    }
   ],
   "source": [
    "# import\n",
    "import matplotlib.pyplot as plt\n",
    "%matplotlib inline\n",
    "\n",
    "# axis x, axis y\n",
    "y = [33,66,65,0,59,60,62,64,70,76,80,81,80,83,90,79,61,53,50,49,53,48,45,39]\n",
    "x = list(range(len(y)))\n",
    "\n",
    "# plot\n",
    "plt.plot(x, y)\n",
    "plt.axhline(y=70, linewidth=1, color='r')\n",
    "plt.xlabel('hours')\n",
    "plt.ylabel('Temperature ºC')\n",
    "plt.title('Temperatures of our server throughout the day')"
   ]
  },
  {
   "cell_type": "markdown",
   "metadata": {},
   "source": [
    "## Problem\n",
    "\n",
    "If the sensor detects more than 4 hours with temperatures greater than or equal to 70ºC or any temperature above 80ºC or the average exceeds 65ºC throughout the day, we must give the order to change the cooling system to avoid damaging the processor.\n",
    "\n",
    "We will guide you step by step so you can make the decision by calculating some intermediate steps:\n",
    "\n",
    "1. Minimum temperature\n",
    "2. Maximum temperature\n",
    "3. Temperatures equal to or greater than 70ºC\n",
    "4. Average temperatures throughout the day.\n",
    "5. If there was a sensor failure at 03:00 and we did not capture the data, how would you estimate the value that we lack? Correct that value in the list of temperatures.\n",
    "6. Bonus: Our maintenance staff is from the United States and does not understand the international metric system. Pass temperatures to Degrees Fahrenheit.\n",
    "\n",
    "Formula: F = 1.8 * C + 32\n",
    "\n",
    "web: https://en.wikipedia.org/wiki/Conversion_of_units_of_temperature\n"
   ]
  },
  {
   "cell_type": "code",
   "execution_count": 3,
   "metadata": {},
   "outputs": [
    {
     "name": "stdout",
     "output_type": "stream",
     "text": [
      "minimun = 0\n"
     ]
    }
   ],
   "source": [
    "# assign a variable to the list of temperatures\n",
    "temperatures_C = [33,66,65,0,59,60,62,64,70,76,80,81,80,83,90,79,61,53,50,49,53,48,45,39]\n",
    "\n",
    "# 1. Calculate the minimum of the list and print the value using print()\n",
    "tempMin = min(temperatures_C)\n",
    "print('minimun =',tempMin)"
   ]
  },
  {
   "cell_type": "markdown",
   "metadata": {},
   "source": [
    "**Expected output**: \n",
    "```\n",
    "minimum = 0\n",
    "```"
   ]
  },
  {
   "cell_type": "code",
   "execution_count": 4,
   "metadata": {},
   "outputs": [
    {
     "name": "stdout",
     "output_type": "stream",
     "text": [
      "maximum = 90\n"
     ]
    }
   ],
   "source": [
    "# 2. Calculate the maximum of the list and print the value using print()\n",
    "tempMax = max(temperatures_C)\n",
    "print('maximum =', tempMax)"
   ]
  },
  {
   "cell_type": "markdown",
   "metadata": {},
   "source": [
    "**Expected output**: \n",
    "```\n",
    "maximum = 90\n",
    "```"
   ]
  },
  {
   "cell_type": "code",
   "execution_count": 5,
   "metadata": {},
   "outputs": [
    {
     "name": "stdout",
     "output_type": "stream",
     "text": [
      "temperatures higher or equal than 70ºC [76, 80, 81, 80, 83, 90, 79]\n"
     ]
    }
   ],
   "source": [
    "# 3. Items in the list that are greater than 70ºC and print the result\n",
    "tempSup70 = [t for t in temperatures_C if t > 70]\n",
    "print('temperatures higher or equal than 70ºC', tempSup70)"
   ]
  },
  {
   "cell_type": "markdown",
   "metadata": {},
   "source": [
    "**Expected output**: \n",
    "```\n",
    "temperatures higher or equal than 70ºC [70, 76, 80, 81, 80, 83, 90, 79]\n",
    "```"
   ]
  },
  {
   "cell_type": "code",
   "execution_count": 6,
   "metadata": {},
   "outputs": [
    {
     "name": "stdout",
     "output_type": "stream",
     "text": [
      "mean = 60.25\n"
     ]
    }
   ],
   "source": [
    "# 4. Calculate the mean temperature throughout the day and print the result\n",
    "temp_avrg = sum(temperatures_C) / len(temperatures_C)\n",
    "print('mean =', temp_avrg)"
   ]
  },
  {
   "cell_type": "markdown",
   "metadata": {},
   "source": [
    "**Expected output**: \n",
    "```\n",
    "mean = 60.25\n",
    "```"
   ]
  },
  {
   "cell_type": "code",
   "execution_count": 7,
   "metadata": {},
   "outputs": [
    {
     "name": "stdout",
     "output_type": "stream",
     "text": [
      "Estimation of the temperature at 3:00 = 62.0\n"
     ]
    }
   ],
   "source": [
    "# 5.1 Solve the fault in the sensor by estimating a value\n",
    "# Reemplazar el valor de las 3 por el promedio de la temperatura de las 2 y las 4\n",
    "# Calcular el promedio de temperatura \n",
    "temp3 = (temperatures_C[2] + temperatures_C[4]) / 2\n",
    "print('Estimation of the temperature at 3:00 =', temp3)"
   ]
  },
  {
   "cell_type": "markdown",
   "metadata": {},
   "source": [
    "**Expected output**: \n",
    "```\n",
    "Estimation of the temperature at 3:00 = 62.0\n",
    "```"
   ]
  },
  {
   "cell_type": "code",
   "execution_count": 8,
   "metadata": {},
   "outputs": [
    {
     "name": "stdout",
     "output_type": "stream",
     "text": [
      "Corrected temperatures after estimation: [33, 66, 65, 62.0, 59, 60, 62, 64, 70, 76, 80, 81, 80, 83, 90, 79, 61, 53, 50, 49, 53, 48, 45, 39]\n"
     ]
    }
   ],
   "source": [
    "# 5.2 Update of the estimated value at 03:00 on the list\n",
    "temperatures_C[3] = temp3\n",
    "print('Corrected temperatures after estimation:', temperatures_C)"
   ]
  },
  {
   "cell_type": "markdown",
   "metadata": {},
   "source": [
    "**Expected output**: \n",
    "```\n",
    "Corrected temperatures after estimation:  [33, 66, 65, 62.0, 59, 60, 62, 64, 70, 76, 80, 81, 80, 83, 90, 79, 61, 53, 50, 49, 53, 48, 45, 39]\n",
    "```"
   ]
  },
  {
   "cell_type": "code",
   "execution_count": 9,
   "metadata": {},
   "outputs": [
    {
     "name": "stdout",
     "output_type": "stream",
     "text": [
      "Temperatures in Fahrenheit Grades = [91.4, 150.8, 149.0, 143.60000000000002, 138.2, 140.0, 143.60000000000002, 147.2, 158.0, 168.8, 176.0, 177.8, 176.0, 181.4, 194.0, 174.20000000000002, 141.8, 127.4, 122.0, 120.2, 127.4, 118.4, 113.0, 102.2]\n"
     ]
    }
   ],
   "source": [
    "# Bonus: convert the list of ºC to ºFarenheit\n",
    "# Lista para almacenar las temperaturas en F\n",
    "temperatures_F = []\n",
    "# Bucle para calcularlas\n",
    "for t in temperatures_C:\n",
    "    F = 1.8*t + 32\n",
    "    temperatures_F.append(F)\n",
    "\n",
    "print('Temperatures in Fahrenheit Grades =', temperatures_F)\n"
   ]
  },
  {
   "cell_type": "markdown",
   "metadata": {},
   "source": [
    "**Expected output**: \n",
    "```\n",
    "Temperatures in Fahrenheit Grades = [91.4, 150.8, 149.0, 143.60000000000002, 138.2, 140.0, 143.60000000000002, 147.2, 158.0, 168.8, 176.0, 177.8, 176.0, 181.4, 194.0, 174.20000000000002, 141.8, 127.4, 122.0, 120.2, 127.4, 118.4, 113.0, 102.2]\n",
    "```"
   ]
  },
  {
   "cell_type": "markdown",
   "metadata": {},
   "source": [
    "## Take the decision\n",
    "Remember that if the sensor detects more than 4 hours with temperatures greater than or equal to 70ºC or any temperature higher than 80ºC or the average was higher than 65ºC throughout the day, we must give the order to change the cooling system to avoid the danger of damaging the equipment:\n",
    "* more than 4 hours with temperatures greater than or equal to 70ºC\n",
    "* some temperature higher than 80ºC\n",
    "* average was higher than 65ºC throughout the day\n",
    "If any of these three is met, the cooling system must be changed.\n"
   ]
  },
  {
   "cell_type": "code",
   "execution_count": 10,
   "metadata": {},
   "outputs": [],
   "source": [
    "# Print True or False depending on whether you would change the cooling system or not\n",
    "# Crear una nueva lista para almacenar las temperaturas mayores o iguales a 70\n",
    "tempSupIg70 = [t for t in temperatures_C if t >= 70]\n",
    "# Crear una nueva lista para almacenar las temperaturas por encima de 80\n",
    "tempSup80 = [t for t in temperatures_C if t > 80]\n",
    "        \n",
    "# Evaluar las condiciones y mostrar el mensaje pertinente\n",
    "if (len(tempSup70) >= 4) | (len(tempSup80) > 0) | (temp_avrg > 65):\n",
    "    True\n",
    "else:\n",
    "    False\n"
   ]
  },
  {
   "cell_type": "markdown",
   "metadata": {},
   "source": [
    "**Expected output**: \n",
    "```\n",
    "True\n",
    "```"
   ]
  },
  {
   "cell_type": "markdown",
   "metadata": {},
   "source": [
    "## Future improvements\n",
    "1. We want the hours (not the temperatures) whose temperature exceeds 70ºC\n",
    "2. Condition that those hours are more than 4 consecutive and consecutive, not simply the sum of the whole set. Is this condition met?\n",
    "3. Average of each of the lists (ºC and ºF). How they relate?\n",
    "4. Standard deviation of each of the lists. How they relate?\n"
   ]
  },
  {
   "cell_type": "code",
   "execution_count": 11,
   "metadata": {},
   "outputs": [],
   "source": [
    "# 1. We want the hours (not the temperatures) whose temperature exceeds 70ºC\n",
    "# Enumerar la lista de temperaturas\n",
    "horasytemp = list(enumerate(temperatures_C))\n",
    "# Sacar las horas con temperaturas mayores a 70\n",
    "horas70 = [i[0] for i in horasytemp if i[1] >= 70]\n"
   ]
  },
  {
   "cell_type": "code",
   "execution_count": 30,
   "metadata": {},
   "outputs": [
    {
     "name": "stdout",
     "output_type": "stream",
     "text": [
      "[8, 9, 10, 11, 12, 13, 14, 15]\n"
     ]
    }
   ],
   "source": [
    "print(horas70)"
   ]
  },
  {
   "cell_type": "markdown",
   "metadata": {},
   "source": [
    "**Expected output**: \n",
    "```\n",
    "[8, 9, 10, 11, 12, 13, 14, 15]```"
   ]
  },
  {
   "cell_type": "code",
   "execution_count": 12,
   "metadata": {},
   "outputs": [
    {
     "data": {
      "text/plain": [
       "True"
      ]
     },
     "execution_count": 12,
     "metadata": {},
     "output_type": "execute_result"
    }
   ],
   "source": [
    "# 2. Condition that those hours are more than 4 consecutive and consecutive, not simply the sum of the whole set. Is this condition met?\n",
    "\n",
    "# La lista de horas ordenadas debe ser igual al rango de los números que la componen\n",
    "# en intervalos de 1\n",
    "sorted(horas70) == list(range(min(horas70), max(horas70)+1)) "
   ]
  },
  {
   "cell_type": "markdown",
   "metadata": {},
   "source": [
    "**Expected output**: \n",
    "```\n",
    "True\n",
    "```"
   ]
  },
  {
   "cell_type": "code",
   "execution_count": 17,
   "metadata": {},
   "outputs": [
    {
     "name": "stdout",
     "output_type": "stream",
     "text": [
      "Media Cº = 62.833333333333336\n",
      "Media Fº = 145.1\n",
      "145.1 145.10000000000002\n"
     ]
    }
   ],
   "source": [
    "# 3. Average of each of the lists (ºC and ºF). How they relate?\n",
    "# Media de la temperatura en ºC\n",
    "av_TempC = sum(temperatures_C) / len(temperatures_C)\n",
    "av_TempF = sum(temperatures_F) / len(temperatures_F)\n",
    "\n",
    "print('Media Cº =',av_TempC)\n",
    "print('Media Fº =',av_TempF)\n",
    "\n",
    "# ¿Cómo están relacionadas?\n",
    "# Podemos calcular la temperatura media en ºF aplicando la conversión de ºC a ºF\n",
    "av_F = 1.8*av_TempC + 32\n",
    "print(av_TempF, av_F)\n"
   ]
  },
  {
   "cell_type": "markdown",
   "metadata": {},
   "source": [
    "**Expected output**: \n",
    "```\n",
    "62.833333333333336\n",
    "145.1\n",
    "145.1 145.10000000000002\n",
    "```"
   ]
  },
  {
   "cell_type": "code",
   "execution_count": 55,
   "metadata": {},
   "outputs": [
    {
     "name": "stdout",
     "output_type": "stream",
     "text": [
      "Desviación estandard: 14.633485192833897\n",
      "Desviación estandard: 26.34027334710101\n",
      "Comaración:\n",
      "26.34027334710101 26.340273347101014\n"
     ]
    }
   ],
   "source": [
    "# 4. Standard deviation of each of the lists. How they relate?\n",
    "import math\n",
    "# Desviación estandard en C\n",
    "# Restar a cada elemento la media\n",
    "datosMenosMediaC = []\n",
    "for i in temperatures_C:\n",
    "    datosMenosMediaC.append(i - av_TempC)\n",
    "# Elevar al cuadrado cada elemento\n",
    "datosCuadradoC = []\n",
    "for i in datosMenosMediaC:\n",
    "    datosCuadradoC.append(i**2)\n",
    "# Termina\n",
    "sd_tempC = math.sqrt(sum(datosCuadradoC)/len(datosCuadradoC))\n",
    "print(\"Desviación estandard:\", sd_tempC)\n",
    "\n",
    "# Desviación estandard en F\n",
    "# Restar a cada elemento la media\n",
    "datosMenosMediaF = []\n",
    "for i in temperatures_F:\n",
    "    datosMenosMediaF.append(i - av_TempF)\n",
    "# Elevar al cuadrado cada elemento\n",
    "datosCuadradoF = []\n",
    "for i in datosMenosMediaF:\n",
    "    datosCuadradoF.append(i**2)\n",
    "# Termina\n",
    "sd_tempF = math.sqrt(sum(datosCuadradoF)/len(datosCuadradoF))\n",
    "print(\"Desviación estandard:\", sd_tempF)\n",
    "\n",
    "# ¿Cómo se relacionan?\n",
    "# Crear una función para calcular sd en F en función de los datos en ºC\n",
    "def sd_F_from_C():\n",
    "    # Restarle a cada elemento la media\n",
    "    menosmediaF = [((1.8*i + 32) - (1.8*av_TempC + 32)) for i in temperatures_C]\n",
    "    # Elevar al cuadrado cada elemento\n",
    "    cuadradoF = [i**2 for i in menosmediaF]\n",
    "    # Termina\n",
    "    return math.sqrt(sum(cuadradoF)/len(cuadradoF))\n",
    "\n",
    "print('Comaración:')\n",
    "print(sd_tempF, sd_F_from_C())"
   ]
  },
  {
   "cell_type": "markdown",
   "metadata": {},
   "source": [
    "**Expected output**: \n",
    "```\n",
    "14.633485192833897\n",
    "26.34027334710101\n",
    "26.34027334710101 26.340273347101014\n",
    "```"
   ]
  },
  {
   "cell_type": "code",
   "execution_count": 53,
   "metadata": {},
   "outputs": [
    {
     "data": {
      "text/plain": [
       "26.340273347101014"
      ]
     },
     "execution_count": 53,
     "metadata": {},
     "output_type": "execute_result"
    }
   ],
   "source": [
    "def sd_F_from_C(temperatures_C, av_Tempc):\n",
    "    # Restarle a cada elemento la media\n",
    "    menosmediaF = [((1.8*i + 32) - (1.8*av_TempC + 32)) for i in temperatures_C]\n",
    "    # Elevar al cuadrado cada elemento\n",
    "    cuadradoF = [i**2 for i in menosmediaF]\n",
    "    # Termina\n",
    "    return math.sqrt(sum(cuadradoF)/len(cuadradoF))\n",
    "\n",
    "sd_F_from_C(temperatures_C, av_TempC)"
   ]
  },
  {
   "cell_type": "code",
   "execution_count": 51,
   "metadata": {},
   "outputs": [
    {
     "name": "stdout",
     "output_type": "stream",
     "text": [
      "[-53.70000000000002, 5.699999999999989, 3.8999999999999773, -1.5, -6.900000000000034, -5.100000000000023, -1.5, 2.099999999999966, 12.899999999999977, 23.69999999999999, 30.899999999999977, 32.69999999999999, 30.899999999999977, 36.29999999999998, 48.89999999999998, 29.099999999999994, -3.3000000000000114, -17.700000000000017, -23.100000000000023, -24.90000000000002, -17.700000000000017, -26.700000000000017, -32.10000000000002, -42.90000000000002]\n",
      "[-53.69999999999999, 5.700000000000017, 3.9000000000000057, -1.4999999999999716, -6.900000000000006, -5.099999999999994, -1.4999999999999716, 2.0999999999999943, 12.900000000000006, 23.700000000000017, 30.900000000000006, 32.70000000000002, 30.900000000000006, 36.30000000000001, 48.900000000000006, 29.100000000000023, -3.299999999999983, -17.69999999999999, -23.099999999999994, -24.89999999999999, -17.69999999999999, -26.69999999999999, -32.099999999999994, -42.89999999999999]\n",
      "[2883.690000000002, 32.48999999999987, 15.209999999999823, 2.25, 47.61000000000047, 26.010000000000232, 2.25, 4.409999999999857, 166.4099999999994, 561.6899999999995, 954.8099999999986, 1069.2899999999993, 954.8099999999986, 1317.6899999999987, 2391.2099999999978, 846.8099999999997, 10.890000000000075, 313.2900000000006, 533.610000000001, 620.010000000001, 313.2900000000006, 712.8900000000009, 1030.4100000000014, 1840.4100000000017]\n",
      "[2883.6899999999987, 32.490000000000194, 15.210000000000043, 2.2499999999999147, 47.61000000000008, 26.00999999999994, 2.2499999999999147, 4.409999999999976, 166.41000000000014, 561.6900000000009, 954.8100000000004, 1069.290000000001, 954.8100000000004, 1317.6900000000007, 2391.2100000000005, 846.8100000000013, 10.889999999999887, 313.2899999999996, 533.6099999999998, 620.0099999999995, 313.2899999999996, 712.8899999999994, 1030.4099999999996, 1840.4099999999992, 2883.690000000002, 32.48999999999987, 15.209999999999823, 2.25, 47.61000000000047, 26.010000000000232, 2.25, 4.409999999999857, 166.4099999999994, 561.6899999999995, 954.8099999999986, 1069.2899999999993, 954.8099999999986, 1317.6899999999987, 2391.2099999999978, 846.8099999999997, 10.890000000000075, 313.2900000000006, 533.610000000001, 620.010000000001, 313.2900000000006, 712.8900000000009, 1030.4100000000014, 1840.4100000000017]\n",
      "26.340273347101014\n",
      "26.34027334710101\n"
     ]
    }
   ],
   "source": [
    "print(menosmediaF)\n",
    "print(datosMenosMediaF)\n",
    "print(cuadradoF)\n",
    "print(datosCuadradoF)\n",
    "print(sd_F)\n",
    "print(sd_tempF)"
   ]
  }
 ],
 "metadata": {
  "kernelspec": {
   "display_name": "Python 3",
   "language": "python",
   "name": "python3"
  },
  "language_info": {
   "codemirror_mode": {
    "name": "ipython",
    "version": 3
   },
   "file_extension": ".py",
   "mimetype": "text/x-python",
   "name": "python",
   "nbconvert_exporter": "python",
   "pygments_lexer": "ipython3",
   "version": "3.6.9"
  }
 },
 "nbformat": 4,
 "nbformat_minor": 2
}

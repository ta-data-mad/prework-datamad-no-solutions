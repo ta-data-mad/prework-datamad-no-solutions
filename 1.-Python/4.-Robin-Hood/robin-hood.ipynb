{
 "cells": [
  {
   "cell_type": "markdown",
   "metadata": {},
   "source": [
    "<img src=\"https://bit.ly/2VnXWr2\" width=\"100\" align=\"left\"/>"
   ]
  },
  {
   "cell_type": "markdown",
   "metadata": {},
   "source": [
    "# Robin Hood\n",
    "Robin Hood has entered a competition to win the archery contest in Sherwood. With his bow and arrows, he needs to shoot on a target and try to hit as close as possible to the center.\n",
    "\n",
    "![](images/arrows.jpg)\n",
    "\n",
    "## Context\n",
    "In this challenge, the landing position of arrows shot by archers in the competition will be represented using 2-dimensional coordinates. \n",
    "\n",
    "In the 2-dimensional space, a point can be defined by a pair of values that correspond to the horizontal coordinate (x) and the vertical coordinate (y). For example, in our case, an arrow that hits the center of the archery target will land in position (0, 0) on the coordinate axes. \n",
    "\n",
    "The space can be divided into 4 zones (quadrants): Q1, Q2, Q3, Q4. If a point is in Q1, both its x coordinate and y coordinate are positive. Any point with a null x or y coordinate is considered to not belong to any quadrant. \n",
    "\n",
    "If you want to know more about the cartesian coordinate system, you can check this [link](https://en.wikipedia.org/wiki/Cartesian_coordinate_system). \n",
    "\n",
    "## Tools\n",
    "You don't necessarily need to use all the tools. Maybe you opt to use some of them or completely different ones, they are given to help you shape the exercise. Programming exercises can be solved in many different ways.\n",
    "* Data structures: **lists, sets, tuples**\n",
    "* Conditional statements: **if-elif-else**\n",
    "* Loop: **while/for**\n",
    "* Minimum (optional sorting)\n",
    "\n",
    "## Tasks\n",
    "Robin Hood has hit the following points:"
   ]
  },
  {
   "cell_type": "code",
   "execution_count": 1,
   "metadata": {},
   "outputs": [],
   "source": [
    "points = [(4, 5), (-0, 2), (4, 7), (1, -3), (3, -2), (4, 5), (3, 2), (5, 7), (-5, 7), (2, 2), (-4, 5), (0, -2),\n",
    "          (-4, 7), (-1, 3), (-3, 2), (-4, -5), (-3, 2), (5, 7), (5, 7), (2, 2), (9, 9), (-8, -9)]"
   ]
  },
  {
   "cell_type": "markdown",
   "metadata": {},
   "source": [
    "#### 1. Robin Hood is famous for hitting an arrow with another arrow. Find the coordinates of the points where an arrow hits another arrow."
   ]
  },
  {
   "cell_type": "code",
   "execution_count": 2,
   "metadata": {},
   "outputs": [],
   "source": [
    "x_1 = [x[0] for x in points]\n",
    "y_1 = [y[1] for y in points]\n",
    "x_1 = [x[0] for x in points]\n",
    "y_1 = [y[1] for y in points]"
   ]
  },
  {
   "cell_type": "markdown",
   "metadata": {},
   "source": [
    "#### 2. Calculate how many arrows have fallen in each quadrant. \n",
    "**Note**: the arrows that fall in the axis (x=0 or y=0) don't belong to any quadrant."
   ]
  },
  {
   "cell_type": "code",
   "execution_count": 3,
   "metadata": {},
   "outputs": [
    {
     "name": "stdout",
     "output_type": "stream",
     "text": [
      "I hit the Q1 6 times\n",
      "I hit the Q2 2 times\n",
      "I hit the Q3 10 times\n",
      "I hit the Q4 2 times\n",
      "2 arrows hit the line of some quadrant\n"
     ]
    }
   ],
   "source": [
    "Q1 = []\n",
    "for x,y in points:\n",
    "    if x < 0 and y > 0:\n",
    "        Q1.append(1)               \n",
    "print(f\"I hit the Q1 {Q1.count(1)} times\")\n",
    "\n",
    "Q2 = []\n",
    "for x,y in points:\n",
    "    if x < 0 and y < 0:\n",
    "        Q2.append(1)               \n",
    "print(f\"I hit the Q2 {Q2.count(1)} times\")\n",
    "\n",
    "Q3 = []\n",
    "for x,y in points:\n",
    "    if x > 0 and y > 0:\n",
    "        Q3.append(1)              \n",
    "print(f\"I hit the Q3 {Q3.count(1)} times\")\n",
    "\n",
    "Q4 = []\n",
    "for x,y in points:\n",
    "    if x > 0 and y < 0:\n",
    "        Q4.append(1)               \n",
    "print(f\"I hit the Q4 {Q4.count(1)} times\")\n",
    "\n",
    "on_the_line_of_quadrant = []\n",
    "for x,y in points:\n",
    "    if x == 0 or y == 0:\n",
    "        on_the_line_of_quadrant.append(1)\n",
    "print(f\"{on_the_line_of_quadrant.count(1)} arrows hit the line of some quadrant\")"
   ]
  },
  {
   "cell_type": "markdown",
   "metadata": {},
   "source": [
    "#### 3. Find the point closest to the center. Calculate its distance to the center. \n",
    "Take into account that there might be more than one point at the minimum distance to the center.\n",
    "\n",
    "**Hint**: Use the Euclidean distance. You can find more information about it [here](https://en.wikipedia.org/wiki/Euclidean_distance).  \n",
    "**Hint**: Defining a function that calculates the distance to the center can help."
   ]
  },
  {
   "cell_type": "code",
   "execution_count": 4,
   "metadata": {},
   "outputs": [
    {
     "name": "stdout",
     "output_type": "stream",
     "text": [
      "[6.4031242374328485, 2.0, 8.06225774829855, 3.1622776601683795, 3.605551275463989, 6.4031242374328485, 3.605551275463989, 8.602325267042627, 8.602325267042627, 2.8284271247461903, 6.4031242374328485, 2.0, 8.06225774829855, 3.1622776601683795, 3.605551275463989, 6.4031242374328485, 3.605551275463989, 8.602325267042627, 8.602325267042627, 2.8284271247461903, 12.727922061357855, 12.041594578792296]\n"
     ]
    }
   ],
   "source": [
    "x_1 = [x[0] for x in points]\n",
    "y_1 = [y[1] for y in points]\n",
    "\n",
    "#print(x_1)\n",
    "\n",
    "list_1 =[]\n",
    "\n",
    "def distance(x2, y2, x1=0, y1=0,):\n",
    "    for i in range(len(points)):\n",
    "        dist = ((x1-x2[i])**2 + (y1-y2[i])**2)**0.5\n",
    "        list_1.append(dist)\n",
    "    return(list_1)\n",
    "\n",
    "\n",
    "print(distance(x2=x_1, y2=y_1))"
   ]
  },
  {
   "cell_type": "markdown",
   "metadata": {},
   "source": [
    "#### 4. If the archery target has a radius of 9, calculate the number of arrows that won't hit the target. \n",
    "**Hint**: Use the function created in step 3. "
   ]
  },
  {
   "cell_type": "code",
   "execution_count": 5,
   "metadata": {},
   "outputs": [
    {
     "name": "stdout",
     "output_type": "stream",
     "text": [
      "2\n"
     ]
    }
   ],
   "source": [
    "missed_arrows = [i for i in list_1 if i > 9]\n",
    "\n",
    "print(len(missed_arrows))"
   ]
  },
  {
   "cell_type": "code",
   "execution_count": null,
   "metadata": {},
   "outputs": [],
   "source": []
  }
 ],
 "metadata": {
  "kernelspec": {
   "display_name": "Python 3",
   "language": "python",
   "name": "python3"
  },
  "language_info": {
   "codemirror_mode": {
    "name": "ipython",
    "version": 3
   },
   "file_extension": ".py",
   "mimetype": "text/x-python",
   "name": "python",
   "nbconvert_exporter": "python",
   "pygments_lexer": "ipython3",
   "version": "3.7.6"
  }
 },
 "nbformat": 4,
 "nbformat_minor": 2
}

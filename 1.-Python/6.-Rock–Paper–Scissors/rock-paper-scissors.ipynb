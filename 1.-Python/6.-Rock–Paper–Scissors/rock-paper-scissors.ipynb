{
 "cells": [
  {
   "cell_type": "markdown",
   "metadata": {},
   "source": [
    "<img src=\"https://bit.ly/2VnXWr2\" width=\"100\" align=\"left\">"
   ]
  },
  {
   "cell_type": "markdown",
   "metadata": {},
   "source": [
    "# Rock, Paper & Scissors\n",
    "\n",
    "Let's play the famous game against our computer. You can check the rules [here](https://en.wikipedia.org/wiki/Rock%E2%80%93paper%E2%80%93scissors). \n",
    "\n",
    "## Task\n",
    "Create a program that imitates the playability of the well known game of rock, paper, scissors. Follow the guidelines provided.\n",
    "\n",
    "## Tools\n",
    "1. Loop: **for/while**\n",
    "2. Functions: **input(), print()...**\n",
    "3. Conditional statements: **if, elif, else**\n",
    "4. Definition of functions. Modular programming\n",
    "5. Import modules\n",
    "\n",
    "**To solve this challenge, the use of functions is recommended.**\n",
    "\n",
    "#### 1. Import the choice function of the random module."
   ]
  },
  {
   "cell_type": "code",
   "execution_count": null,
   "metadata": {},
   "outputs": [],
   "source": [
    "from random import randint"
   ]
  },
  {
   "cell_type": "markdown",
   "metadata": {},
   "source": [
    "#### 2. Create a list that includes the 3 possible gesture options of the game: 'rock', 'paper' or 'scissors'. Store the list in a variable called `gestures`."
   ]
  },
  {
   "cell_type": "code",
   "execution_count": null,
   "metadata": {},
   "outputs": [],
   "source": [
    "gestures = {\n",
    "    1: \"Stone\",\n",
    "    2: \"Paper\",\n",
    "    3: \"SCissors\",\n",
    "    4: \"Lizard\",\n",
    "    5: \"Spock\"\n",
    "}"
   ]
  },
  {
   "cell_type": "markdown",
   "metadata": {},
   "source": [
    "#### 3. Create a variable called `n_rounds` to store the maximum number of rounds to play in a game. \n",
    "Remember that the number of rounds must be odd: 1, 3, 5, ..."
   ]
  },
  {
   "cell_type": "code",
   "execution_count": null,
   "metadata": {},
   "outputs": [],
   "source": [
    "n_rounds = input(\"\\nSelect the number of game rounds (1, 3, 5...): \")"
   ]
  },
  {
   "cell_type": "markdown",
   "metadata": {},
   "source": [
    "#### 4. Create a variable called `rounds_to_win` to store the number of rounds that a player must win to win the game.\n",
    "**Hint**: the value stored in `rounds_to_win` depends on the value of `n_rounds`. "
   ]
  },
  {
   "cell_type": "code",
   "execution_count": null,
   "metadata": {},
   "outputs": [],
   "source": [
    "if int(n_rounds) == 1:\n",
    "  print(\"\\nYou only have 1 chance to defeat the machine!\")\n",
    "elif int(n_rounds)%2 == 0:\n",
    "  print(\"\\nYou must win\", int((int(n_rounds)/ 2) + 1), \"matches to defeat the machine\") \n",
    "elif int(n_rounds)%2 > 0:\n",
    "  print(\"\\nYou must win\", int((int(n_rounds)/ 2) + 0.5), \"matches to defeat the machine\") "
   ]
  },
  {
   "cell_type": "markdown",
   "metadata": {},
   "source": [
    "#### 5. Create two variables to store the number of rounds that the computer and the player have won. Call these variables `cpu_score` and `player_score`."
   ]
  },
  {
   "cell_type": "code",
   "execution_count": null,
   "metadata": {},
   "outputs": [],
   "source": [
    "player_score = 0\n",
    "cpu_score = 0"
   ]
  },
  {
   "cell_type": "raw",
   "metadata": {},
   "source": [
    "6. Define a function that randomly returns one of the 3 gesture options.\n",
    "You will use this function to simulate the gesture choice of the computer. "
   ]
  },
  {
   "cell_type": "code",
   "execution_count": null,
   "metadata": {},
   "outputs": [],
   "source": [
    "def machine_choice(num):\n",
    "\n",
    "    if num == 1:\n",
    "        return random.randint(1, 3)\n",
    "    else:\n",
    "        return random.randint(1,5)"
   ]
  },
  {
   "cell_type": "markdown",
   "metadata": {},
   "source": [
    "#### 7. Define a function that asks the player which is the gesture he or she wants to show: 'rock', 'paper' or 'scissors'.\n",
    "The player should only be allowed to choose one of the 3 gesture options. If the player's choice is not rock, paper or scissors, keep asking until it is."
   ]
  },
  {
   "cell_type": "code",
   "execution_count": null,
   "metadata": {},
   "outputs": [],
   "source": [
    "def ask_user(num,round):\n",
    "\n",
    "    print(\"\\n-------------------------------------------------\")\n",
    "    print(\"\\nROUND %d\" % round)\n",
    "\n",
    "   \n",
    "    if num == 1:\n",
    "        print(\"\\n\\t\\t1 - Stone\\n\\t\\t2 - Paper\\n\\t\\t3 - Scissors\")\n",
    "\n",
    "        return input(\"\\n\\t\\tSelect an  option: \")\n",
    "\n",
    "    if num == 2:\n",
    "        (print(\"\\n\\t\\t1 - Stone\\n\\t\\t2 - Paper\\n\\t\\t3 - Scissors\\n\\t\\t4 - Lizard\\n\\t\\t5 - Spock\"))\n",
    "\n",
    "        return input(\"\\n\\t\\tSelect an option: \")"
   ]
  },
  {
   "cell_type": "markdown",
   "metadata": {},
   "source": [
    "#### 8. Define a function that checks who won a round. \n",
    "The function should return 0 if there is a tie, 1 if the computer wins and 2 if the player wins."
   ]
  },
  {
   "cell_type": "code",
   "execution_count": null,
   "metadata": {},
   "outputs": [],
   "source": [
    "def compare(user,machine,num):\n",
    "\n",
    "     while user == 1:\n",
    "        if machine == 1:\n",
    "            \n",
    "            return (0)\n",
    "        if machine == 2:\n",
    "            return (2)\n",
    "        if machine == 3:\n",
    "            return (1)\n",
    "        if num == 2:\n",
    "            if machine == 4:\n",
    "                return (1)\n",
    "            else:\n",
    "                return (2)\n",
    "     while user == 2:\n",
    "        if machine == 1:\n",
    "            \n",
    "            return (1)\n",
    "        if machine == 2:\n",
    "            return (0)\n",
    "        if machine == 3:\n",
    "            return (2)\n",
    "        if num == 2:\n",
    "            if machine == 4:\n",
    "                return (2)\n",
    "            else:\n",
    "                return (1)\n",
    "     while user == 3:\n",
    "        if machine == 1:\n",
    "           \n",
    "            return (2)\n",
    "        if machine == 2:\n",
    "            return (1)\n",
    "        if machine == 3:\n",
    "            return (0)\n",
    "        if num == 2:\n",
    "            if machine == 4:\n",
    "                return (1)\n",
    "            else:\n",
    "                return (2)\n",
    "     while user == 4:\n",
    "        if machine == 1:\n",
    "            \n",
    "            return (2)\n",
    "        if machine == 2:\n",
    "            return (1)\n",
    "        if machine == 3:\n",
    "            return (2)\n",
    "        if num == 2:\n",
    "            if machine == 4:\n",
    "                return (0)\n",
    "            else:\n",
    "                return (1)\n",
    "     while user == 5:\n",
    "        if machine == 1:\n",
    "            # 0 = Draw, # 1 = Win # 2 = Loose\n",
    "            return (1)\n",
    "        if machine == 2:\n",
    "            return (2)\n",
    "        if machine == 3:\n",
    "            return (1)\n",
    "        if num == 2:\n",
    "            if machine == 4:\n",
    "                return (2)\n",
    "            else:\n",
    "                return (0)"
   ]
  },
  {
   "cell_type": "markdown",
   "metadata": {},
   "source": [
    "#### 9. Define a function that prints the choice of the computer, the choice of the player and a message that announces who won the current round. \n",
    "You should also use this function to update the variables that count the number of rounds that the computer and the player have won. The score of the winner increases by one point. If there is a tie, the score does not increase."
   ]
  },
  {
   "cell_type": "code",
   "execution_count": null,
   "metadata": {},
   "outputs": [],
   "source": [
    "\n"
   ]
  },
  {
   "cell_type": "markdown",
   "metadata": {},
   "source": [
    "#### 10. Now it's time to code the execution of the game using the functions and variables you defined above. \n",
    "\n",
    "First, create a loop structure that repeats while no player reaches the minimum score necessary to win and the number of rounds is less than the maximum number of rounds to play in a game.  \n",
    "\n",
    "Inside the loop, use the functions and variables above to create the execution of a round: ask for the player's choice, generate the random choice of the computer, show the round results, update the scores, etc. "
   ]
  },
  {
   "cell_type": "code",
   "execution_count": null,
   "metadata": {},
   "outputs": [],
   "source": []
  },
  {
   "cell_type": "markdown",
   "metadata": {},
   "source": [
    "#### 11. Print the winner of the game based on who won more rounds.\n",
    "Remember that the game might be tied. "
   ]
  },
  {
   "cell_type": "code",
   "execution_count": null,
   "metadata": {},
   "outputs": [],
   "source": []
  },
  {
   "cell_type": "code",
   "execution_count": null,
   "metadata": {},
   "outputs": [],
   "source": [
    "# Bonus: Rock, Paper, Scissors, Lizard & Spock\n",
    "![](images/rpsls.jpg)\n",
    "\n",
    "In this challenge, you need to improve the previous game by adding two new options. To know more about the rules of the improved version of rock, paper, scissors, check this [link](http://www.samkass.com/theories/RPSSL.html). \n",
    "\n",
    "In addition, you will also need to improve how the game interacts with the player: the number of rounds to play, which must be an odd number, will be requested to the user until a valid number is entered. Define a new function to make that request.\n",
    "\n",
    "**Hint**: Try to reuse the code that you already coded in the previous challenge. If your code is efficient, this bonus will only consist of simple modifications to the original game."
   ]
  },
  {
   "cell_type": "code",
   "execution_count": null,
   "metadata": {},
   "outputs": [],
   "source": []
  },
  {
   "cell_type": "code",
   "execution_count": null,
   "metadata": {},
   "outputs": [],
   "source": []
  }
 ],
 "metadata": {
  "kernelspec": {
   "display_name": "Python 3",
   "language": "python",
   "name": "python3"
  },
  "language_info": {
   "codemirror_mode": {
    "name": "ipython",
    "version": 3
   },
   "file_extension": ".py",
   "mimetype": "text/x-python",
   "name": "python",
   "nbconvert_exporter": "python",
   "pygments_lexer": "ipython3",
   "version": "3.7.6"
  }
 },
 "nbformat": 4,
 "nbformat_minor": 2
}

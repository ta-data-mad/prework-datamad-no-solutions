{
 "cells": [],
 "metadata": {},
 "nbformat": 4,
 "nbformat_minor": 2
}
# Assign spell power lists to variables
gandalf = [10, 11, 13, 30, 22, 11, 10, 33, 22, 22]
saruman = [23, 66, 12, 43, 12, 10, 44, 23, 12, 17]


# Assign 0 to each variable that stores the victories
vic_gandalf = 0
vic_saruman = 0
tie = 0
x = 0

# Execution of spell clashes

for i in gandalf:
    if i > saruman[x]:
        vic_gandalf += 1
        x += 1
    elif i < saruman[x]:
        vic_saruman += 1
        x += 1
    elif i == saruman[x]:
        tie += 1
        x += 1
print(vic_gandalf, vic_saruman, tie)


# We check who has won, do not forget the possibility of a draw.
# Print the result based on the winner.

if vic_gandalf > vic_saruman:
    print("Gandalf wins")
elif vic_gandalf < vic_saruman:
    print("Saruman wins")
else:
    print("Tie")
    
# 1. Spells now have a name and there is a dictionary that relates that name to a power.
# variables

POWER = {
    'Fireball': 50, 
    'Lightning bolt': 40, 
    'Magic arrow': 10, 
    'Black Tentacles': 25, 
    'Contagion': 45
}

gandalf = ['Fireball', 'Lightning bolt', 'Lightning bolt', 'Magic arrow', 'Fireball', 
           'Magic arrow', 'Lightning bolt', 'Fireball', 'Magic arrow', 'Fireball']
saruman = ['Contagion', 'Contagion', 'Black Tentacles', 'Fireball', 'Black Tentacles', 
           'Lightning bolt', 'Magic arrow', 'Contagion', 'Magic arrow', 'Magic arrow']

# Assign spell power lists to variables

spell_power_g = []
spell_power_s = []
spell_power_list = [spell_power_g, spell_power_s]

for i in gandalf:
    if i in POWER.keys():
        spell_power_g.append(POWER[i])
        
for j in saruman:
    if j in POWER.keys():
        spell_power_s.append(POWER[j])
        
        
print(spell_power_list)

# 2. A sorcerer wins if he succeeds in winning 3 spell clashes in a row.

# Execution of spell clashes

# check clashes

# check for 3 wins in a row

# check the winner

# count sum of clashes

final_clash = 3
a = 0
g = 0
s = 0

while (a < len(spell_power_s)) & ((g < final_clash) | (s < final_clash)):
    for i in spell_power_g:
        if (i > spell_power_s[a]):
            g += 1
            a += 1
            s = 0 
        elif (i < spell_power_s[a]):
            s += 1
            a += 1
            g = 0
        elif (i == spell_power_s[a]):
            a += 1
           
if g == 3:
    print("Gandalf wins")
elif s == 3:
    print("Saruman wins")
else:
    print("None wins")
    
    
# 3. Average of each of the spell lists.
av_spell_power_g = sum(spell_power_g)/len(spell_power_g)
av_spell_power_s = sum(spell_power_s)/len(spell_power_s)

print(av_spell_power_g,"\n",av_spell_power_s)



# 4. Standard deviation of each of the spell lists.

import math
suma_g = 0
suma_s = 0
for i in spell_power_g:
    suma_g += (i - av_spell_power_g)**2
for j in spell_power_s:
    suma_s += (j - av_spell_power_s)**2

numero_g = suma_g/len(spell_power_g)   
st_av_occupation_g = math.sqrt(numero_g)

numero_s = suma_s/len(spell_power_s)   
st_av_occupation_s = math.sqrt(numero_s)
print(st_av_occupation_g,"\n",st_av_occupation_s)

# zip(). # Do this point "Assign spell power lists to variables" using zip()
gandalf = [10, 11, 13, 30, 22, 11, 10, 33, 22, 22]
saruman = [23, 66, 12, 43, 12, 10, 44, 23, 12, 17]

unified_list = zip(gandalf, saruman)
unified_list_set = set(unified_list)
lista = list(unified_list_set)
print(lista)

vic_gandalf = 0
vic_saruman = 0
tie = 0

x = 0
y = 1

for i in lista:
    if i[x] > i[y]:
        vic_gandalf += 1
    elif i[x] > i[y]:
        vic_saruman += 1
    else:
        tie += 1
       
if vic_gandalf > vic_saruman:
    print("Gandalf wins")
elif vic_gandalf < vic_saruman:
    print("Saruman wins")
else:
    print("Tie")















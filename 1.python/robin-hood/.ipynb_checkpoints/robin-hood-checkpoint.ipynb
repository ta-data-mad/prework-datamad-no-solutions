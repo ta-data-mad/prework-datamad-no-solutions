{
 "cells": [
  {
   "cell_type": "markdown",
   "metadata": {},
   "source": [
    "# Robin Hood\n",
    "## Intro\n",
    "We are in a competition to win the archery contest in Sherwood. With our bow and arrows we shoot on a target and try to hit as close as possible to the center.\n",
    "\n",
    "The center of the target is represented by the values (0, 0) on the coordinate axes.\n",
    "\n",
    "![](images/arrows.jpg)\n",
    "\n",
    "## Goals:\n",
    "* data structures: lists, sets, tuples\n",
    "* logical operators: if-elif-else\n",
    "* loop: while/for\n",
    "* minimum (optional sorting)\n",
    "\n",
    "## Description:\n",
    "In the 2-dimensional space, a point can be defined by a pair of values that correspond to the horizontal coordinate (x) and the vertical coordinate (y). The space can be divided into 4 zones (quadrants): Q1, Q2, Q3, Q4. Whose single point of union is the point (0, 0).\n",
    "\n",
    "If a point is in Q1 both its x coordinate and the y are positive. I leave a link to wikipedia to familiarize yourself with these quadrants.\n",
    "\n",
    "https://en.wikipedia.org/wiki/Cartesian_coordinate_system\n",
    "\n",
    "https://en.wikipedia.org/wiki/Euclidean_distance\n",
    "\n",
    "## Shots\n",
    "```\n",
    "points = [(4, 5), (-0, 2), (4, 7), (1, -3), (3, -2), (4, 5),\n",
    "          (3, 2), (5, 7), (-5, 7), (2, 2), (-4, 5), (0, -2),\n",
    "          (-4, 7), (-1, 3), (-3, 2), (-4, -5), (-3, 2),\n",
    "          (5, 7), (5, 7), (2, 2), (9, 9), (-8, -9)]\n",
    "```\n",
    "\n",
    "## Tasks\n",
    "1. Robin Hood is famous for hitting an arrow with another arrow. Did you get it?\n",
    "2. Calculate how many arrows have fallen in each quadrant.\n",
    "3. Find the point closest to the center. Calculate its distance to the center. \n",
    "4. If the target has a radius of 9, calculate the number of arrows that must be picked up in the forest."
   ]
  },
  {
   "cell_type": "code",
   "execution_count": 2,
   "metadata": {},
   "outputs": [],
   "source": [
    "# Variables\n",
    "\n",
    "points = [(4, 5), (-0, 2), (4, 7), (1, -3), (3, -2), (4, 5),\n",
    "          (3, 2), (5, 7), (-5, 7), (2, 2), (-4, 5), (0, -2),\n",
    "          (-4, 7), (-1, 3), (-3, 2), (-4, -5), (-3, 2),\n",
    "          (5, 7), (5, 7), (2, 2), (9, 9), (-8, -9)]"
   ]
  },
  {
   "cell_type": "code",
   "execution_count": 3,
   "metadata": {},
   "outputs": [
    {
     "name": "stdout",
     "output_type": "stream",
     "text": [
      "22\n",
      "[(4, 5), (0, 2), (4, 7), (1, -3), (3, -2), (3, 2), (5, 7), (-5, 7), (2, 2), (-4, 5), (0, -2), (-4, 7), (-1, 3), (-3, 2), (-4, -5), (9, 9), (-8, -9)]\n",
      "Robin Hood has put one arrow on another 5 times\n",
      "{(4, 5), (5, 7), (2, 2), (-3, 2)}\n"
     ]
    }
   ],
   "source": [
    "# 1. Robin Hood is famous for hitting an arrow with another arrow. Did you get it?\n",
    "Robin_shot_list=[]\n",
    "Robin_shot=0\n",
    "order=0\n",
    "shots=len(points)\n",
    "print(shots)\n",
    "mindistance=100\n",
    "minpoint=[]\n",
    "\n",
    "for i in points:\n",
    "    if i not in Robin_shot_list:\n",
    "        Robin_shot_list.append(i)\n",
    "\n",
    "print(Robin_shot_list)\n",
    "\n",
    "print(\"Robin Hood has put one arrow on another\", len(points)-len(Robin_shot_list),\"times\")\n",
    "\n",
    "Robin_shot_list_score = set(tuple(x) for x in points if points.count(x)>1)\n",
    "\n",
    "print(Robin_shot_list_score)"
   ]
  },
  {
   "cell_type": "markdown",
   "metadata": {},
   "source": [
    "**Expected output**:\n",
    "```\n",
    "True\n",
    "```"
   ]
  },
  {
   "cell_type": "code",
   "execution_count": 5,
   "metadata": {},
   "outputs": [
    {
     "name": "stdout",
     "output_type": "stream",
     "text": [
      "Robin have shoot in total 22 arrows that have hidden in different quadrants, quadrant 1, quadrant 2, quadrant 3 and quadrant 4, these results are shown respectively. 10 , 6 , 2 , 2 .\n"
     ]
    }
   ],
   "source": [
    "# 2. Calculate how many arrows have fallen in each quadrant.\n",
    "quadrant_1=0\n",
    "quadrant_2=0\n",
    "quadrant_3=0\n",
    "quadrant_4=0\n",
    "\n",
    "for i in points:\n",
    "    if i[0] > 0 and i[1] > 0:\n",
    "        quadrant_1+=1\n",
    "    elif i[0] < 0 and i[1] > 0:\n",
    "        quadrant_2+=1\n",
    "    elif i[0] < 0 and i[1] < 0:\n",
    "        quadrant_3+=1\n",
    "    elif i[0] > 0 and i[1] < 0:\n",
    "        quadrant_4+=1\n",
    "\n",
    "print(\"Robin have shoot in total 22 arrows that have hidden in different quadrants, quadrant 1, quadrant 2, quadrant 3 and quadrant 4, these results are shown respectively.\",quadrant_1,\",\" , quadrant_2,\",\" , quadrant_3,\",\" , quadrant_4,\".\" )"
   ]
  },
  {
   "cell_type": "markdown",
   "metadata": {},
   "source": [
    "**Expected output**:\n",
    "```\n",
    "(10, 6, 2, 2)\n",
    "```"
   ]
  },
  {
   "cell_type": "code",
   "execution_count": 6,
   "metadata": {},
   "outputs": [
    {
     "name": "stdout",
     "output_type": "stream",
     "text": [
      "[(0, 2), (0, -2)]\n",
      "2.0\n"
     ]
    }
   ],
   "source": [
    "# 3. Find the point closest to the center. Calculate its distance to the center\n",
    "# Defining a function that calculates the distance to the center can help.\n",
    "import math\n",
    "\n",
    "for i in points:\n",
    "    distance=math.sqrt((i[0]**2)+(i[1]**2))\n",
    "    if distance<=mindistance:\n",
    "        mindistance=distance\n",
    "       \n",
    "\n",
    "for i in points:\n",
    "    iqualshots=math.sqrt((i[0]**2)+(i[1]**2))\n",
    "    if mindistance==iqualshots:\n",
    "        minpoint.append((i))\n",
    "\n",
    "print(minpoint)       \n",
    "print(mindistance)"
   ]
  },
  {
   "cell_type": "markdown",
   "metadata": {},
   "source": [
    "**Expected output**:\n",
    "```\n",
    "(0, 2)\n",
    "2.0\n",
    "```"
   ]
  },
  {
   "cell_type": "code",
   "execution_count": 8,
   "metadata": {},
   "outputs": [
    {
     "name": "stdout",
     "output_type": "stream",
     "text": [
      "2\n"
     ]
    }
   ],
   "source": [
    "# 4. If the target has a radius of 9, calculate the number of arrows that \n",
    "# must be picked up in the forest.\n",
    "\n",
    "radius=9\n",
    "missedarrows=0\n",
    "\n",
    "for i in points:\n",
    "    distance=math.sqrt((i[0]**2)+(i[1]**2))\n",
    "    if radius<distance:\n",
    "        missedarrows+=1\n",
    "        \n",
    "print(missedarrows)"
   ]
  },
  {
   "cell_type": "markdown",
   "metadata": {},
   "source": [
    "**Expected output**:\n",
    "```\n",
    "[(9, 9), (-8, -9)]\n",
    "2\n",
    "```"
   ]
  },
  {
   "cell_type": "code",
   "execution_count": null,
   "metadata": {},
   "outputs": [],
   "source": []
  }
 ],
 "metadata": {
  "kernelspec": {
   "display_name": "Python 3",
   "language": "python",
   "name": "python3"
  },
  "language_info": {
   "codemirror_mode": {
    "name": "ipython",
    "version": 3
   },
   "file_extension": ".py",
   "mimetype": "text/x-python",
   "name": "python",
   "nbconvert_exporter": "python",
   "pygments_lexer": "ipython3",
   "version": "3.8.3"
  }
 },
 "nbformat": 4,
 "nbformat_minor": 2
}

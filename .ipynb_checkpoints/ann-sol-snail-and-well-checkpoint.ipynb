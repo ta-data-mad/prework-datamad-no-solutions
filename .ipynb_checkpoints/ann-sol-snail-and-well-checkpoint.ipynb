{
 "cells": [
  {
   "cell_type": "markdown",
   "metadata": {},
   "source": [
    "# Snail and well\n",
    "\n",
    "A snail falls at the bottom of a 125 cm well. Each day the snail rises 30 cm. But at night, while sleeping, slides 20 cm because the walls are wet. How many days does it take to escape from the well?\n",
    "\n",
    "TIP: http://puzzles.nigelcoldwell.co.uk/sixtytwo.htm"
   ]
  },
  {
   "cell_type": "code",
   "execution_count": 2,
   "metadata": {},
   "outputs": [
    {
     "name": "stdout",
     "output_type": "stream",
     "text": [
      "Days =  11\n"
     ]
    }
   ],
   "source": [
    "# Assign problem data to variables with representative names\n",
    "# well height, daily advance, night retreat, accumulated distance\n",
    "well_height=125\n",
    "daily_advance=30\n",
    "night_retreat=20\n",
    "accumulated_distance=0\n",
    "\n",
    "# Assign 0 to the variable that represents the solution\n",
    "total_days=0\n",
    "\n",
    "# Write the code that solves the problem\n",
    "while accumulated_distance<well_height:\n",
    "    accumulated_distance+=daily_advance\n",
    "    total_days+=1\n",
    "    if(accumulated_distance<well_height):\n",
    "            accumulated_distance-=night_retreat\n",
    "\n",
    "# Print the result with print('Days =', days)\n",
    "print('Days = ', total_days)"
   ]
  },
  {
   "cell_type": "markdown",
   "metadata": {},
   "source": [
    "## Solución"
   ]
  },
  {
   "cell_type": "markdown",
   "metadata": {},
   "source": [
    "**Expected output**: \n",
    "```\n",
    "Days = 11\n",
    "```"
   ]
  },
  {
   "cell_type": "markdown",
   "metadata": {},
   "source": [
    "## Goals\n",
    "\n",
    "1. Treatment of variables\n",
    "2. Use of loop **while**\n",
    "3. Use of conditional **if-else**\n",
    "4. Print in console"
   ]
  },
  {
   "cell_type": "markdown",
   "metadata": {},
   "source": [
    "## Bonus\n",
    "The distance traveled by the snail is now defined by a list.\n",
    "```\n",
    "advance_cm = [30, 21, 33, 77, 44, 45, 23, 45, 12, 34, 55]\n",
    "```\n",
    "How long does it take to raise the well?\n",
    "\n",
    "What is its maximum displacement in one day? And its minimum?\n",
    "\n",
    "What is its average speed during the day?\n",
    "\n",
    "What is the standard deviation of its displacement during the day?"
   ]
  },
  {
   "cell_type": "code",
   "execution_count": 24,
   "metadata": {},
   "outputs": [
    {
     "name": "stdout",
     "output_type": "stream",
     "text": [
      "Days =  5\n"
     ]
    }
   ],
   "source": [
    "# Assign problem data to variables with representative names\n",
    "# well height, daily advance, night retreat, accumulated distance\n",
    "well_height=125\n",
    "night_retreat=20\n",
    "advance_cm= [30, 21, 33, 77, 44, 45, 23, 45, 12, 34, 55]\n",
    "accumulated_distance=0\n",
    "\n",
    "# Assign 0 to the variable that represents the solution\n",
    "total_days=0\n",
    "\n",
    "print(\"Día :\", dias, \". Distancia :\", distancia)\n",
    "    dias += 1\n",
    "    if (distancia <= altura):\n",
    "        distancia -= retronoche\n",
    "# Write the code that solves the problem\n",
    "while(total_days < well_height):\n",
    "    accumulated_distance+=advance_cm\n",
    "    print\n",
    "\n",
    "# Print the result with print('Days =', days)\n",
    "print('Days = ', total_days)"
   ]
  },
  {
   "cell_type": "markdown",
   "metadata": {},
   "source": [
    "**Expected output**: \n",
    "```\n",
    "Days = 6\n",
    "```"
   ]
  },
  {
   "cell_type": "code",
   "execution_count": 7,
   "metadata": {},
   "outputs": [
    {
     "name": "stdout",
     "output_type": "stream",
     "text": [
      "Sanil maximun displacement in a day is 77\n",
      "Snail minimum displacement in a day is 12\n"
     ]
    }
   ],
   "source": [
    "# What is its maximum displacement in a day? And its minimum?\n",
    "advance_cm= [30, 21, 33, 77, 44, 45, 23, 45, 12, 34, 55]\n",
    "print('Sanil maximun displacement in a day is', max(advance_cm))\n",
    "print('Snail minimum displacement in a day is', min(advance_cm))"
   ]
  },
  {
   "cell_type": "markdown",
   "metadata": {},
   "source": [
    "**Expected output**: \n",
    "```\n",
    "77 12\n",
    "```"
   ]
  },
  {
   "cell_type": "code",
   "execution_count": 9,
   "metadata": {},
   "outputs": [
    {
     "name": "stdout",
     "output_type": "stream",
     "text": [
      "38.09090909090909\n"
     ]
    }
   ],
   "source": [
    "# What is its average progress?\n",
    "advance_cm= [30, 21, 33, 77, 44, 45, 23, 45, 12, 34, 55]\n",
    "average_advance=sum(advance_cm)/len(advance_cm)\n",
    "print(average_advance)"
   ]
  },
  {
   "cell_type": "markdown",
   "metadata": {},
   "source": [
    "**Expected output**: \n",
    "```\n",
    "38.09090909090909\n",
    "```"
   ]
  },
  {
   "cell_type": "code",
   "execution_count": 2,
   "metadata": {},
   "outputs": [
    {
     "name": "stdout",
     "output_type": "stream",
     "text": [
      "17.996969441850734\n"
     ]
    }
   ],
   "source": [
    "# What is the standard deviation of your displacement during the day?\n",
    "\n",
    "from statistics import stdev\n",
    "\n",
    "advance_cm= [30, 21, 33, 77, 44, 45, 23, 45, 12, 34, 55]\n",
    "standar_dev=stdev(advance_cm)\n",
    "\n",
    "print(stdev(advance_cm))"
   ]
  },
  {
   "cell_type": "markdown",
   "metadata": {},
   "source": [
    "**Expected output**: \n",
    "```\n",
    "17.159437082600803\n",
    "```"
   ]
  }
 ],
 "metadata": {
  "kernelspec": {
   "display_name": "Python 3",
   "language": "python",
   "name": "python3"
  },
  "language_info": {
   "codemirror_mode": {
    "name": "ipython",
    "version": 3
   },
   "file_extension": ".py",
   "mimetype": "text/x-python",
   "name": "python",
   "nbconvert_exporter": "python",
   "pygments_lexer": "ipython3",
   "version": "3.7.6"
  }
 },
 "nbformat": 4,
 "nbformat_minor": 2
}

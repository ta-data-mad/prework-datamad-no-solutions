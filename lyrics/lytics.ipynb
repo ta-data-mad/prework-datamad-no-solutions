{
 "cells": [
  {
   "cell_type": "markdown",
   "metadata": {},
   "source": [
    "# Lyrics\n",
    "## Intro\n",
    "This exercise is simple. You are going to create a code that writes the lyrics of a famous song. **The shorter your code is, the better**. Although it may seem a bit silly, it is important that you learn to automate repetitive tasks or that there are few changes between them.\n",
    "\n",
    "<img src=\"./images/babyshark.jpeg\" width=\"400\">\n",
    "\n",
    "## Song\n",
    "\n",
    "```\n",
    "Baby shark, doo doo doo doo doo doo\n",
    "Baby shark, doo doo doo doo doo doo\n",
    "Baby shark, doo doo doo doo doo doo\n",
    "Baby shark!\n",
    "Mommy shark, doo doo doo doo doo doo\n",
    "Mommy shark, doo doo doo doo doo doo\n",
    "Mommy shark, doo doo doo doo doo doo\n",
    "Mommy shark!\n",
    "Daddy shark, doo doo doo doo doo doo\n",
    "Daddy shark, doo doo doo doo doo doo\n",
    "Daddy shark, doo doo doo doo doo doo\n",
    "Daddy shark!\n",
    "Grandma shark, doo doo doo doo doo doo\n",
    "Grandma shark, doo doo doo doo doo doo\n",
    "Grandma shark, doo doo doo doo doo doo\n",
    "Grandma shark!\n",
    "Grandpa shark, doo doo doo doo doo doo\n",
    "Grandpa shark, doo doo doo doo doo doo\n",
    "Grandpa shark, doo doo doo doo doo doo\n",
    "Grandpa shark!\n",
    "Let's go hunt, doo doo doo doo doo doo\n",
    "Let's go hunt, doo doo doo doo doo doo\n",
    "Let's go hunt, doo doo doo doo doo doo\n",
    "Let's go hunt!\n",
    "Run away,… \n",
    "```\n",
    "\n",
    "\n",
    "## Goals\n",
    "\n",
    "0. Use of string methods: **format()**, **str()**\n",
    "1. Use of **for loop**\n",
    "2. Use of the function **range()**\n",
    "3. print()\n",
    "4. Use of functions\n",
    "5. Open files\n",
    "6. Refactoring\n",
    "\n",
    "## Hints\n",
    "\n",
    "* '\\n' is the character for new line. It must end every string in the third step. \n",
    "\n",
    "\n",
    "## Solution"
   ]
  },
  {
   "cell_type": "code",
   "execution_count": null,
   "metadata": {},
   "outputs": [],
   "source": [
    "# Variable\n",
    "\n",
    "babyshark = '''Baby shark, doo doo doo doo doo doo\n",
    "Baby shark, doo doo doo doo doo doo\n",
    "Baby shark, doo doo doo doo doo doo\n",
    "Baby shark!\n",
    "Mommy shark, doo doo doo doo doo doo\n",
    "Mommy shark, doo doo doo doo doo doo\n",
    "Mommy shark, doo doo doo doo doo doo\n",
    "Mommy shark!\n",
    "Daddy shark, doo doo doo doo doo doo\n",
    "Daddy shark, doo doo doo doo doo doo\n",
    "Daddy shark, doo doo doo doo doo doo\n",
    "Daddy shark!\n",
    "Grandma shark, doo doo doo doo doo doo\n",
    "Grandma shark, doo doo doo doo doo doo\n",
    "Grandma shark, doo doo doo doo doo doo\n",
    "Grandma shark!\n",
    "Grandpa shark, doo doo doo doo doo doo\n",
    "Grandpa shark, doo doo doo doo doo doo\n",
    "Grandpa shark, doo doo doo doo doo doo\n",
    "Grandpa shark!\n",
    "Let's go hunt, doo doo doo doo doo doo\n",
    "Let's go hunt, doo doo doo doo doo doo\n",
    "Let's go hunt, doo doo doo doo doo doo\n",
    "Let's go hunt!\n",
    "Run away,…'''"
   ]
  },
  {
   "cell_type": "markdown",
   "metadata": {},
   "source": [
    "### Step 1: First Paragraph\n",
    "Create a code to print the first paragraph and asign it to a variable. "
   ]
  },
  {
   "cell_type": "code",
   "execution_count": null,
   "metadata": {},
   "outputs": [],
   "source": [
    "# your code here\n",
    ">>> def firstparagraph(song):\n",
    "...     f_paragraph = \"\"\n",
    "...     for i in song:\n",
    "...             f_paragraph += i\n",
    "...             if i == \"!\" :\n",
    "...                     break\n",
    "...     return f_paragraph\n",
    "\n",
    ">>> f_pgraph_bbshark = firstparagraph(babyshark)\n",
    ">>> print(f_pgraph_bbshark)\n",
    "Baby shark, doo doo doo doo doo doo\n",
    "Baby shark, doo doo doo doo doo doo\n",
    "Baby shark, doo doo doo doo doo doo\n",
    "Baby shark!\n"
   ]
  },
  {
   "cell_type": "markdown",
   "metadata": {},
   "source": [
    "**Expected output**:\n",
    "\n",
    "```\n",
    "Baby shark, doo doo doo doo doo doo\n",
    "Baby shark, doo doo doo doo doo doo\n",
    "Baby shark, doo doo doo doo doo doo\n",
    "Baby shark!\n",
    "```\n",
    "\n"
   ]
  },
  {
   "cell_type": "markdown",
   "metadata": {},
   "source": [
    "### Step 2: Full song\n",
    "\n",
    "Create a code that prints the complete lyrics. "
   ]
  },
  {
   "cell_type": "code",
   "execution_count": null,
   "metadata": {},
   "outputs": [],
   "source": [
    "# your code here\n",
    ">>> estribillo = \", doo doo doo doo doo doo\\n\"\n",
    ">>> sing_babyshark = \"\"\n",
    ">>> for i in family:\n",
    "...     sing_babyshark += (i + estribillo)*3\n",
    "...     sing_babyshark += (i + \"!\\n\")\n",
    "...\n",
    ">>> sing_babyshark += end\n",
    "\n",
    ">>> print(sing_babyshark)\n",
    "\n"
   ]
  },
  {
   "cell_type": "markdown",
   "metadata": {},
   "source": [
    "**Expected output**:\n",
    "\n",
    "```\n",
    "Baby shark, doo doo doo doo doo doo\n",
    "Baby shark, doo doo doo doo doo doo\n",
    "Baby shark, doo doo doo doo doo doo\n",
    "Baby shark!\n",
    "Mommy shark, doo doo doo doo doo doo\n",
    "Mommy shark, doo doo doo doo doo doo\n",
    "Mommy shark, doo doo doo doo doo doo\n",
    "Mommy shark!\n",
    "Daddy shark, doo doo doo doo doo doo\n",
    "Daddy shark, doo doo doo doo doo doo\n",
    "Daddy shark, doo doo doo doo doo doo\n",
    "Daddy shark!\n",
    "Grandma shark, doo doo doo doo doo doo\n",
    "Grandma shark, doo doo doo doo doo doo\n",
    "Grandma shark, doo doo doo doo doo doo\n",
    "Grandma shark!\n",
    "Grandpa shark, doo doo doo doo doo doo\n",
    "Grandpa shark, doo doo doo doo doo doo\n",
    "Grandpa shark, doo doo doo doo doo doo\n",
    "Grandpa shark!\n",
    "Let's go hunt, doo doo doo doo doo doo\n",
    "Let's go hunt, doo doo doo doo doo doo\n",
    "Let's go hunt, doo doo doo doo doo doo\n",
    "Let's go hunt!\n",
    "Run away,… \n",
    "```\n",
    "\n",
    "### Step 3: Check output\n",
    "Now i want you must create a string variable called **result** to store all the characters and check if it is equal to the lyrics. Remenber de hint section. "
   ]
  },
  {
   "cell_type": "code",
   "execution_count": null,
   "metadata": {},
   "outputs": [],
   "source": [
    "# your code here\n",
    ">>> result = sing_babyshark\n",
    "\n"
   ]
  },
  {
   "cell_type": "code",
   "execution_count": null,
   "metadata": {},
   "outputs": [],
   "source": [
    "# Check\n",
    "\n",
    "print(result == babyshark)\n",
    "True"
   ]
  },
  {
   "cell_type": "markdown",
   "metadata": {},
   "source": [
    "**Expected output**:\n",
    "\n",
    "```\n",
    "True\n",
    "```\n",
    "\n",
    "### Step 4: Function\n",
    " Create a functions called babyshark() that generates the wanted output. "
   ]
  },
  {
   "cell_type": "code",
   "execution_count": null,
   "metadata": {},
   "outputs": [],
   "source": [
    "def baby_shark_lyrics():     \n",
    "    # your code here\n",
    "...     song = \"\"\n",
    "...     for i in family:\n",
    "...             song += (i + estribillo)*3\n",
    "...             song += (i + \"!\\n\")\n",
    "...     song += end\n",
    "...     return song\n",
    "...\n",
    ">>> print(baby_shark_lyrics())\n",
    "    "
   ]
  },
  {
   "cell_type": "code",
   "execution_count": null,
   "metadata": {},
   "outputs": [],
   "source": [
    "# Check\n",
    "\n",
    "print(baby_shark_lyrics() == babyshark)\n",
    "True"
   ]
  },
  {
   "cell_type": "markdown",
   "metadata": {},
   "source": [
    "**Expected output**:\n",
    "\n",
    "```\n",
    "True\n",
    "```"
   ]
  },
  {
   "cell_type": "markdown",
   "metadata": {},
   "source": [
    "### Step 5: Files\n",
    "Baby shark lyrics can be read in the songs folder. Try to store the content of that file in a variable called **text** and check if it is equal to the babyshark variable and the output of your baby_shark_lyrics function. \n",
    "\n",
    "https://www.pythonforbeginners.com/files/reading-and-writing-files-in-python"
   ]
  },
  {
   "cell_type": "code",
   "execution_count": null,
   "metadata": {},
   "outputs": [],
   "source": [
    "# your code here\n",
    "\n",
    ">>> file = open(\"/users/trivino/desktop/prework-datamad-no-solutions/lyrics/songs/baby-shark.txt\",\"r\")\n",
    ">>> text = file.read()"
   ]
  },
  {
   "cell_type": "code",
   "execution_count": null,
   "metadata": {},
   "outputs": [],
   "source": [
    "# check\n",
    "\n",
    "print(text == babyshark)\n",
    "True"
   ]
  },
  {
   "cell_type": "markdown",
   "metadata": {},
   "source": [
    "**Expected output**:\n",
    "\n",
    "```\n",
    "True\n",
    "```"
   ]
  },
  {
   "cell_type": "code",
   "execution_count": null,
   "metadata": {},
   "outputs": [],
   "source": [
    "# Check\n",
    "\n",
    ">>> file = open(\"/users/trivino/desktop/prework-datamad-no-solutions/lyrics/songs/baby-shark.txt\",\"r\")\n",
    ">>> text = file.read()\n",
    "\n",
    "print(baby_shark_lyrics() == text)\n",
    "True"
   ]
  },
  {
   "cell_type": "markdown",
   "metadata": {},
   "source": [
    "**Expected output**:\n",
    "\n",
    "```\n",
    "True\n",
    "```"
   ]
  },
  {
   "cell_type": "markdown",
   "metadata": {},
   "source": [
    "### Step 6: Refactor\n",
    "Now I want you to refactor your **baby_shark_lyrics** function in order to be less than 400 characters. If your code is larger than 400 characters, you should change baby_shark_lyrics function in order to shorten it."
   ]
  },
  {
   "cell_type": "code",
   "execution_count": null,
   "metadata": {},
   "outputs": [],
   "source": [
    "import inspect\n",
    "\n",
    "code = inspect.getsource(baby_shark_lyrics)\n",
    "\n",
    "# check\n",
    "\n",
    "#print('Your baby_shark_lyrics functions has {} characters'.format(len(code)))\n",
    "#print(len(code) < 400)\n",
    "\n",
    "\n",
    "\n",
    ">>> babyshark_lyrics = baby_shark_lyrics()\n",
    ">>> len(babyshark_lyrics)\n",
    "774\n",
    ">>> print('Your baby_shark_lyrics functions has {} characters'.format(len(babyshark_lyrics)))\n",
    "Your baby_shark_lyrics functions has 774 characters\n",
    ">>> print(len(babyshark_lyrics)>400)\n",
    "True"
   ]
  },
  {
   "cell_type": "markdown",
   "metadata": {},
   "source": [
    "**Expected output**:\n",
    "\n",
    "```\n",
    "Your baby_shark_lyrics functions has 367 characters\n",
    "True\n",
    "```"
   ]
  },
  {
   "cell_type": "markdown",
   "metadata": {},
   "source": [
    "## Bonus\n",
    "\n",
    "http://www.99-bottles-of-beer.net/\n",
    "\n",
    "Now let`s try with another lyric, you can find it in songs folder. \n",
    "\n",
    "### Step 1. Create bottles_lyrics function"
   ]
  },
  {
   "cell_type": "code",
   "execution_count": null,
   "metadata": {},
   "outputs": [],
   "source": [
    "def bottles_lyrics():\n",
    "    # your code here. \n",
    "...     bottles = 99\n",
    "...     song = []\n",
    "...     while bottles > 2:\n",
    "...             text= \"{} bottles of beer on the wall, {} bottles of beer.\\nTake one down and pass it around, {} bottles of beer on the wall.\\n\\n\".format(bottles,bottles,bottles-1)\n",
    "...             song.append(text)\n",
    "...             bottles-= 1\n",
    "...     text=\"2 bottles of beer on the wall, 2 bottles of beer.\\nTake one down and pass it around, 1 bottle of beer on the wall.\\n\\n\"\n",
    "...     song.append(text)\n",
    "...     song.append(\"1 bottle of beer on the wall, 1 bottle of beer.\\nTake one down and pass it around, no more bottles of beer on the wall.\\n\\n\")\n",
    "...     song.append(\"No more bottles of beer on the wall, no more bottles of beer.\\nGo to the store and buy some more, 99 bottles of beer on the wall.\")\n",
    "...     lyrics = \"\".join(song)\n",
    "...     return lyrics\n",
    "...\n",
    ">>> print(bottles_lyrics())"
   ]
  },
  {
   "cell_type": "markdown",
   "metadata": {},
   "source": [
    "### Step 2. Open file"
   ]
  },
  {
   "cell_type": "code",
   "execution_count": null,
   "metadata": {},
   "outputs": [],
   "source": [
    "# your code here. \n",
    "\n",
    ">>> file = open(\"/users/trivino/desktop/prework-datamad-no-solutions/lyrics/songs/99-bottes-of-beer.txt\",\"r\")\n",
    ">>> text = file.read()"
   ]
  },
  {
   "cell_type": "code",
   "execution_count": null,
   "metadata": {},
   "outputs": [],
   "source": [
    "# Check\n",
    "\n",
    ">>>print(bottles_lyrics() == text)\n",
    "True"
   ]
  },
  {
   "cell_type": "markdown",
   "metadata": {},
   "source": [
    "**Expected output**:\n",
    "\n",
    "```\n",
    "True\n",
    "```"
   ]
  },
  {
   "cell_type": "markdown",
   "metadata": {},
   "source": [
    "### Step 3: Check code\n",
    "Now I want you to refactor your **bottles_lyrics** function in order to be less than 1000 characters. "
   ]
  },
  {
   "cell_type": "code",
   "execution_count": null,
   "metadata": {},
   "outputs": [],
   "source": [
    "import inspect\n",
    "\n",
    "code = inspect.getsource(bottles_lyrics)"
   ]
  },
  {
   "cell_type": "code",
   "execution_count": null,
   "metadata": {},
   "outputs": [],
   "source": [
    "# check\n",
    "\n",
    "#print('Your bottles_lyrics functions has {} characters'.format(len(code)))\n",
    "#print(len(code) < 1000)\n",
    "\n",
    ">>> bottle_lyrics = bottle_lyrics()\n",
    "\n",
    ">>> print('Your bottles_lyrics functions has {} characters'.format(len(bottle_lyrics)))\n",
    "Your bottles_lyrics functions has 11884 characters\n",
    ">>> print(len(code) > 1000)\n",
    "True"
   ]
  },
  {
   "cell_type": "markdown",
   "metadata": {},
   "source": [
    "**Expected output**:\n",
    "\n",
    "```\n",
    "Your bottles_lyrics functions has 837 characters\n",
    "True\n",
    "```"
   ]
  },
  {
   "cell_type": "markdown",
   "metadata": {},
   "source": [
    "If you want a real challenge, follow the link below. Sign in and start coding!\n",
    "\n",
    "https://www.codewars.com/kata/baby-shark-lyrics-generator/train/python"
   ]
  }
 ],
 "metadata": {
  "kernelspec": {
   "display_name": "Python 3",
   "language": "python",
   "name": "python3"
  },
  "language_info": {
   "codemirror_mode": {
    "name": "ipython",
    "version": 3
   },
   "file_extension": ".py",
   "mimetype": "text/x-python",
   "name": "python",
   "nbconvert_exporter": "python",
   "pygments_lexer": "ipython3",
   "version": "3.9.1"
  }
 },
 "nbformat": 4,
 "nbformat_minor": 2
}

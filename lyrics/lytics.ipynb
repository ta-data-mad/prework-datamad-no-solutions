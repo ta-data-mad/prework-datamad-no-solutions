{
 "cells": [
  {
   "cell_type": "markdown",
   "metadata": {},
   "source": [
    "# Lyrics\n",
    "## Intro\n",
    "This exercise is simple. You are going to create a code that writes the lyrics of a famous song. **The shorter your code is, the better**. Although it may seem a bit silly, it is important that you learn to automate repetitive tasks or that there are few changes between them.\n",
    "\n",
    "<img src=\"./images/babyshark.jpeg\" width=\"400\">\n",
    "\n",
    "## Song\n",
    "\n",
    "```\n",
    "Baby shark, doo doo doo doo doo doo\n",
    "Baby shark, doo doo doo doo doo doo\n",
    "Baby shark, doo doo doo doo doo doo\n",
    "Baby shark!\n",
    "Mommy shark, doo doo doo doo doo doo\n",
    "Mommy shark, doo doo doo doo doo doo\n",
    "Mommy shark, doo doo doo doo doo doo\n",
    "Mommy shark!\n",
    "Daddy shark, doo doo doo doo doo doo\n",
    "Daddy shark, doo doo doo doo doo doo\n",
    "Daddy shark, doo doo doo doo doo doo\n",
    "Daddy shark!\n",
    "Grandma shark, doo doo doo doo doo doo\n",
    "Grandma shark, doo doo doo doo doo doo\n",
    "Grandma shark, doo doo doo doo doo doo\n",
    "Grandma shark!\n",
    "Grandpa shark, doo doo doo doo doo doo\n",
    "Grandpa shark, doo doo doo doo doo doo\n",
    "Grandpa shark, doo doo doo doo doo doo\n",
    "Grandpa shark!\n",
    "Let's go hunt, doo doo doo doo doo doo\n",
    "Let's go hunt, doo doo doo doo doo doo\n",
    "Let's go hunt, doo doo doo doo doo doo\n",
    "Let's go hunt!\n",
    "Run away,… \n",
    "```\n",
    "\n",
    "\n",
    "## Goals\n",
    "\n",
    "0. Use of string methods: **format()**, **str()**\n",
    "1. Use of **for loop**\n",
    "2. Use of the function **range()**\n",
    "3. print()\n",
    "4. Use of functions\n",
    "5. Open files\n",
    "6. Refactoring\n",
    "\n",
    "## Hints\n",
    "\n",
    "* '\\n' is the character for new line. It must end every string in the third step. \n",
    "\n",
    "\n",
    "## Solution"
   ]
  },
  {
   "cell_type": "code",
   "execution_count": 35,
   "metadata": {},
   "outputs": [],
   "source": [
    "# Variable\n",
    "\n",
    "babyshark = '''Baby shark, doo doo doo doo doo doo\n",
    "Baby shark, doo doo doo doo doo doo\n",
    "Baby shark, doo doo doo doo doo doo\n",
    "Baby shark!\n",
    "Mommy shark, doo doo doo doo doo doo\n",
    "Mommy shark, doo doo doo doo doo doo\n",
    "Mommy shark, doo doo doo doo doo doo\n",
    "Mommy shark!\n",
    "Daddy shark, doo doo doo doo doo doo\n",
    "Daddy shark, doo doo doo doo doo doo\n",
    "Daddy shark, doo doo doo doo doo doo\n",
    "Daddy shark!\n",
    "Grandma shark, doo doo doo doo doo doo\n",
    "Grandma shark, doo doo doo doo doo doo\n",
    "Grandma shark, doo doo doo doo doo doo\n",
    "Grandma shark!\n",
    "Grandpa shark, doo doo doo doo doo doo\n",
    "Grandpa shark, doo doo doo doo doo doo\n",
    "Grandpa shark, doo doo doo doo doo doo\n",
    "Grandpa shark!\n",
    "Let's go hunt, doo doo doo doo doo doo\n",
    "Let's go hunt, doo doo doo doo doo doo\n",
    "Let's go hunt, doo doo doo doo doo doo\n",
    "Let's go hunt!\n",
    "Run away,…'''"
   ]
  },
  {
   "cell_type": "markdown",
   "metadata": {},
   "source": [
    "### Step 1: First Paragraph\n",
    "Create a code to print the first paragraph and asign it to a variable. "
   ]
  },
  {
   "cell_type": "code",
   "execution_count": 36,
   "metadata": {},
   "outputs": [
    {
     "name": "stdout",
     "output_type": "stream",
     "text": [
      "Baby shark, doo doo doo doo doo doo\n",
      "Baby shark, doo doo doo doo doo doo\n",
      "Baby shark, doo doo doo doo doo doo\n",
      "Baby shark!\n",
      "\n"
     ]
    }
   ],
   "source": [
    "# your code here\n",
    "\n",
    "baby = \"Baby shark\"\n",
    "doo = \", doo doo doo doo doo doo\\n\"\n",
    "first_line = baby + doo\n",
    "\n",
    "first_paragraph = first_line * 3 + baby + \"!\\n\"\n",
    "\n",
    "print(first_paragraph)\n"
   ]
  },
  {
   "cell_type": "markdown",
   "metadata": {},
   "source": [
    "**Expected output**:\n",
    "\n",
    "```\n",
    "Baby shark, doo doo doo doo doo doo\n",
    "Baby shark, doo doo doo doo doo doo\n",
    "Baby shark, doo doo doo doo doo doo\n",
    "Baby shark!\n",
    "```\n",
    "\n"
   ]
  },
  {
   "cell_type": "markdown",
   "metadata": {},
   "source": [
    "### Step 2: Full song\n",
    "\n",
    "Create a code that prints the complete lyrics. "
   ]
  },
  {
   "cell_type": "code",
   "execution_count": 37,
   "metadata": {},
   "outputs": [
    {
     "name": "stdout",
     "output_type": "stream",
     "text": [
      "Baby shark, doo doo doo doo doo doo\n",
      "Baby shark, doo doo doo doo doo doo\n",
      "Baby shark, doo doo doo doo doo doo\n",
      "Baby shark!\n",
      "Mommy shark, doo doo doo doo doo doo\n",
      "Mommy shark, doo doo doo doo doo doo\n",
      "Mommy shark, doo doo doo doo doo doo\n",
      "Mommy shark!\n",
      "Daddy shark, doo doo doo doo doo doo\n",
      "Daddy shark, doo doo doo doo doo doo\n",
      "Daddy shark, doo doo doo doo doo doo\n",
      "Daddy shark!\n",
      "Grandma shark, doo doo doo doo doo doo\n",
      "Grandma shark, doo doo doo doo doo doo\n",
      "Grandma shark, doo doo doo doo doo doo\n",
      "Grandma shark!\n",
      "Grandpa shark, doo doo doo doo doo doo\n",
      "Grandpa shark, doo doo doo doo doo doo\n",
      "Grandpa shark, doo doo doo doo doo doo\n",
      "Grandpa shark!\n",
      "Let's go hunt, doo doo doo doo doo doo\n",
      "Let's go hunt, doo doo doo doo doo doo\n",
      "Let's go hunt, doo doo doo doo doo doo\n",
      "Let's go hunt!\n",
      "Run away,…\n"
     ]
    }
   ],
   "source": [
    "# your code here\n",
    "\n",
    "doo = \", doo doo doo doo doo doo\\n\"\n",
    "baby = \"Baby shark\"\n",
    "mommy = \"Mommy shark\"\n",
    "daddy = \"Daddy shark\"\n",
    "grandma = \"Grandma shark\"\n",
    "grandpa = \"Grandpa shark\"\n",
    "hunt = \"Let's go hunt\"\n",
    "the_end = \"Run away,…\"\n",
    "\n",
    "baby_name = baby + doo\n",
    "mommy_name = mommy + doo\n",
    "daddy_name = daddy + doo\n",
    "gma_name = grandma + doo\n",
    "gpa_name = grandpa + doo\n",
    "hunt_name = hunt + doo\n",
    "    \n",
    "paragraph_1 = baby_name * 3 + baby + \"!\\n\"\n",
    "paragraph_2 = mommy_name * 3 + mommy + \"!\\n\"\n",
    "paragraph_3 = daddy_name * 3 + daddy + \"!\\n\"\n",
    "paragraph_4 = gma_name * 3 + grandma + \"!\\n\"\n",
    "paragraph_5 = gpa_name * 3 + grandpa + \"!\\n\"\n",
    "paragraph_6 = hunt_name * 3 + hunt + \"!\\n\"\n",
    "paragraph_7 = the_end\n",
    "    \n",
    "full_song = paragraph_1 + paragraph_2 + paragraph_3 + paragraph_4 + paragraph_5 + paragraph_6 + paragraph_7\n",
    "\n",
    "print(full_song)"
   ]
  },
  {
   "cell_type": "markdown",
   "metadata": {},
   "source": [
    "**Expected output**:\n",
    "\n",
    "```\n",
    "Baby shark, doo doo doo doo doo doo\n",
    "Baby shark, doo doo doo doo doo doo\n",
    "Baby shark, doo doo doo doo doo doo\n",
    "Baby shark!\n",
    "Mommy shark, doo doo doo doo doo doo\n",
    "Mommy shark, doo doo doo doo doo doo\n",
    "Mommy shark, doo doo doo doo doo doo\n",
    "Mommy shark!\n",
    "Daddy shark, doo doo doo doo doo doo\n",
    "Daddy shark, doo doo doo doo doo doo\n",
    "Daddy shark, doo doo doo doo doo doo\n",
    "Daddy shark!\n",
    "Grandma shark, doo doo doo doo doo doo\n",
    "Grandma shark, doo doo doo doo doo doo\n",
    "Grandma shark, doo doo doo doo doo doo\n",
    "Grandma shark!\n",
    "Grandpa shark, doo doo doo doo doo doo\n",
    "Grandpa shark, doo doo doo doo doo doo\n",
    "Grandpa shark, doo doo doo doo doo doo\n",
    "Grandpa shark!\n",
    "Let's go hunt, doo doo doo doo doo doo\n",
    "Let's go hunt, doo doo doo doo doo doo\n",
    "Let's go hunt, doo doo doo doo doo doo\n",
    "Let's go hunt!\n",
    "Run away,… \n",
    "```\n",
    "\n",
    "### Step 3: Check output\n",
    "Now i want you must create a string variable called **result** to store all the characters and check if it is equal to the lyrics. Remenber de hint section. "
   ]
  },
  {
   "cell_type": "code",
   "execution_count": 38,
   "metadata": {},
   "outputs": [],
   "source": [
    "# your code here\n",
    "\n",
    "result = full_song\n"
   ]
  },
  {
   "cell_type": "code",
   "execution_count": 39,
   "metadata": {},
   "outputs": [
    {
     "name": "stdout",
     "output_type": "stream",
     "text": [
      "True\n"
     ]
    }
   ],
   "source": [
    "# Check\n",
    "\n",
    "print(result == babyshark)"
   ]
  },
  {
   "cell_type": "markdown",
   "metadata": {},
   "source": [
    "**Expected output**:\n",
    "\n",
    "```\n",
    "True\n",
    "```\n",
    "\n",
    "### Step 4: Function\n",
    " Create a functions called babyshark() that generates the wanted output. "
   ]
  },
  {
   "cell_type": "code",
   "execution_count": 40,
   "metadata": {},
   "outputs": [
    {
     "name": "stdout",
     "output_type": "stream",
     "text": [
      "Baby shark, doo doo doo doo doo doo\n",
      "Baby shark, doo doo doo doo doo doo\n",
      "Baby shark, doo doo doo doo doo doo\n",
      "Baby shark!\n",
      "Mommy shark, doo doo doo doo doo doo\n",
      "Mommy shark, doo doo doo doo doo doo\n",
      "Mommy shark, doo doo doo doo doo doo\n",
      "Mommy shark!\n",
      "Daddy shark, doo doo doo doo doo doo\n",
      "Daddy shark, doo doo doo doo doo doo\n",
      "Daddy shark, doo doo doo doo doo doo\n",
      "Daddy shark!\n",
      "Grandma shark, doo doo doo doo doo doo\n",
      "Grandma shark, doo doo doo doo doo doo\n",
      "Grandma shark, doo doo doo doo doo doo\n",
      "Grandma shark!\n",
      "Grandpa shark, doo doo doo doo doo doo\n",
      "Grandpa shark, doo doo doo doo doo doo\n",
      "Grandpa shark, doo doo doo doo doo doo\n",
      "Grandpa shark!\n",
      "Let's go hunt, doo doo doo doo doo doo\n",
      "Let's go hunt, doo doo doo doo doo doo\n",
      "Let's go hunt, doo doo doo doo doo doo\n",
      "Let's go hunt!\n",
      "Run away,…\n"
     ]
    }
   ],
   "source": [
    "def baby_shark_lyrics():     \n",
    "    # your code here\n",
    "    \n",
    "    return babyshark\n",
    "\n",
    "print(baby_shark_lyrics())\n",
    "    \n",
    "    "
   ]
  },
  {
   "cell_type": "code",
   "execution_count": 41,
   "metadata": {},
   "outputs": [
    {
     "name": "stdout",
     "output_type": "stream",
     "text": [
      "True\n"
     ]
    }
   ],
   "source": [
    "# Check\n",
    "\n",
    "print(baby_shark_lyrics() == babyshark)\n"
   ]
  },
  {
   "cell_type": "markdown",
   "metadata": {},
   "source": [
    "**Expected output**:\n",
    "\n",
    "```\n",
    "True\n",
    "```"
   ]
  },
  {
   "cell_type": "markdown",
   "metadata": {},
   "source": [
    "### Step 5: Files\n",
    "Baby shark lyrics can be read in the songs folder. Try to store the content of that file in a variable called **text** and check if it is equal to the babyshark variable and the output of your baby_shark_lyrics function. \n",
    "\n",
    "https://www.pythonforbeginners.com/files/reading-and-writing-files-in-python"
   ]
  },
  {
   "cell_type": "code",
   "execution_count": 57,
   "metadata": {},
   "outputs": [
    {
     "name": "stdout",
     "output_type": "stream",
     "text": [
      "Baby shark, doo doo doo doo doo doo\n",
      "Baby shark, doo doo doo doo doo doo\n",
      "Baby shark, doo doo doo doo doo doo\n",
      "Baby shark!\n",
      "Mommy shark, doo doo doo doo doo doo\n",
      "Mommy shark, doo doo doo doo doo doo\n",
      "Mommy shark, doo doo doo doo doo doo\n",
      "Mommy shark!\n",
      "Daddy shark, doo doo doo doo doo doo\n",
      "Daddy shark, doo doo doo doo doo doo\n",
      "Daddy shark, doo doo doo doo doo doo\n",
      "Daddy shark!\n",
      "Grandma shark, doo doo doo doo doo doo\n",
      "Grandma shark, doo doo doo doo doo doo\n",
      "Grandma shark, doo doo doo doo doo doo\n",
      "Grandma shark!\n",
      "Grandpa shark, doo doo doo doo doo doo\n",
      "Grandpa shark, doo doo doo doo doo doo\n",
      "Grandpa shark, doo doo doo doo doo doo\n",
      "Grandpa shark!\n",
      "Let's go hunt, doo doo doo doo doo doo\n",
      "Let's go hunt, doo doo doo doo doo doo\n",
      "Let's go hunt, doo doo doo doo doo doo\n",
      "Let's go hunt!\n",
      "Run away,…\n"
     ]
    }
   ],
   "source": [
    "# your code here\n",
    "\n",
    "t = open('/Users/marilomolinacandela/Desktop/prework-datamad-no-solutions-master/lyrics/songs/baby-shark.txt')\n",
    "\n",
    "text = t.read()\n",
    "\n",
    "print(text)"
   ]
  },
  {
   "cell_type": "code",
   "execution_count": 58,
   "metadata": {},
   "outputs": [
    {
     "name": "stdout",
     "output_type": "stream",
     "text": [
      "True\n"
     ]
    }
   ],
   "source": [
    "# check\n",
    "\n",
    "print(text == babyshark)"
   ]
  },
  {
   "cell_type": "markdown",
   "metadata": {},
   "source": [
    "**Expected output**:\n",
    "\n",
    "```\n",
    "True\n",
    "```"
   ]
  },
  {
   "cell_type": "code",
   "execution_count": 59,
   "metadata": {},
   "outputs": [
    {
     "name": "stdout",
     "output_type": "stream",
     "text": [
      "True\n"
     ]
    }
   ],
   "source": [
    "# Check\n",
    "\n",
    "print(baby_shark_lyrics() == text)"
   ]
  },
  {
   "cell_type": "markdown",
   "metadata": {},
   "source": [
    "**Expected output**:\n",
    "\n",
    "```\n",
    "True\n",
    "```"
   ]
  },
  {
   "cell_type": "markdown",
   "metadata": {},
   "source": [
    "### Step 6: Refactor\n",
    "Now I want you to refactor your **baby_shark_lyrics** function in order to be less than 400 characters. If your code is larger than 400 characters, you should change baby_shark_lyrics function in order to shorten it."
   ]
  },
  {
   "cell_type": "code",
   "execution_count": 60,
   "metadata": {},
   "outputs": [
    {
     "name": "stdout",
     "output_type": "stream",
     "text": [
      "Your baby_shark_lyrics functions has 77 characters\n",
      "True\n"
     ]
    }
   ],
   "source": [
    "import inspect\n",
    "\n",
    "code = inspect.getsource(baby_shark_lyrics)\n",
    "\n",
    "# check\n",
    "\n",
    "print('Your baby_shark_lyrics functions has {} characters'.format(len(code)))\n",
    "print(len(code) < 400)"
   ]
  },
  {
   "cell_type": "markdown",
   "metadata": {},
   "source": [
    "**Expected output**:\n",
    "\n",
    "```\n",
    "Your baby_shark_lyrics functions has 367 characters\n",
    "True\n",
    "```"
   ]
  },
  {
   "cell_type": "markdown",
   "metadata": {},
   "source": [
    "## Bonus\n",
    "\n",
    "http://www.99-bottles-of-beer.net/\n",
    "\n",
    "Now let`s try with another lyric, you can find it in songs folder. \n",
    "\n",
    "### Step 1. Create bottles_lyrics function"
   ]
  },
  {
   "cell_type": "code",
   "execution_count": null,
   "metadata": {},
   "outputs": [],
   "source": [
    "def bottles_lyrics():\n",
    "    # your code here. \n",
    "    \n",
    "    "
   ]
  },
  {
   "cell_type": "markdown",
   "metadata": {},
   "source": [
    "### Step 2. Open file"
   ]
  },
  {
   "cell_type": "code",
   "execution_count": null,
   "metadata": {},
   "outputs": [],
   "source": [
    "# your code here. \n",
    "\n"
   ]
  },
  {
   "cell_type": "code",
   "execution_count": null,
   "metadata": {},
   "outputs": [],
   "source": [
    "# Check\n",
    "\n",
    "print(bottles_lyrics() == text)"
   ]
  },
  {
   "cell_type": "markdown",
   "metadata": {},
   "source": [
    "**Expected output**:\n",
    "\n",
    "```\n",
    "True\n",
    "```"
   ]
  },
  {
   "cell_type": "markdown",
   "metadata": {},
   "source": [
    "### Step 3: Check code\n",
    "Now I want you to refactor your **bottles_lyrics** function in order to be less than 1000 characters. "
   ]
  },
  {
   "cell_type": "code",
   "execution_count": null,
   "metadata": {},
   "outputs": [],
   "source": [
    "import inspect\n",
    "\n",
    "code = inspect.getsource(bottles_lyrics)"
   ]
  },
  {
   "cell_type": "code",
   "execution_count": null,
   "metadata": {},
   "outputs": [],
   "source": [
    "# check\n",
    "\n",
    "print('Your bottles_lyrics functions has {} characters'.format(len(code)))\n",
    "print(len(code) < 1000)"
   ]
  },
  {
   "cell_type": "markdown",
   "metadata": {},
   "source": [
    "**Expected output**:\n",
    "\n",
    "```\n",
    "Your bottles_lyrics functions has 837 characters\n",
    "True\n",
    "```"
   ]
  },
  {
   "cell_type": "markdown",
   "metadata": {},
   "source": [
    "If you want a real challenge, follow the link below. Sign in and start coding!\n",
    "\n",
    "https://www.codewars.com/kata/baby-shark-lyrics-generator/train/python"
   ]
  }
 ],
 "metadata": {
  "kernelspec": {
   "display_name": "Python 3",
   "language": "python",
   "name": "python3"
  },
  "language_info": {
   "codemirror_mode": {
    "name": "ipython",
    "version": 3
   },
   "file_extension": ".py",
   "mimetype": "text/x-python",
   "name": "python",
   "nbconvert_exporter": "python",
   "pygments_lexer": "ipython3",
   "version": "3.8.1"
  }
 },
 "nbformat": 4,
 "nbformat_minor": 2
}

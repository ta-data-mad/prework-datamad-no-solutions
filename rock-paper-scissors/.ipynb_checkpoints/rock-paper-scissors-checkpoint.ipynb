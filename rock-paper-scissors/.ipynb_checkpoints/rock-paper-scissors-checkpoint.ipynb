{
 "cells": [
  {
   "cell_type": "markdown",
   "metadata": {},
   "source": [
    "<img src=\"https://bit.ly/2VnXWr2\" width=\"100\" align=\"left\">"
   ]
  },
  {
   "cell_type": "markdown",
   "metadata": {},
   "source": [
    "# Rock, Paper & Scissors\n",
    "\n",
    "Let's play the famous game against our computer. You can check the rules [here](https://en.wikipedia.org/wiki/Rock%E2%80%93paper%E2%80%93scissors). \n",
    "\n",
    "## Task\n",
    "Create a program that imitates the playability of the well known game of rock, paper, scissors. Follow the guidelines provided.\n",
    "\n",
    "## Tools\n",
    "1. Loop: **for/while**\n",
    "2. Functions: **input(), print()...**\n",
    "3. Conditional statements: **if, elif, else**\n",
    "4. Definition of functions. Modular programming\n",
    "5. Import modules\n",
    "\n",
    "**To solve this challenge, the use of functions is recommended.**\n",
    "\n",
    "#### 1. Import the choice function of the random module."
   ]
  },
  {
   "cell_type": "code",
   "execution_count": 136,
   "metadata": {},
   "outputs": [],
   "source": [
    "from random import choice\n"
   ]
  },
  {
   "cell_type": "markdown",
   "metadata": {},
   "source": [
    "#### 2. Create a list that includes the 3 possible gesture options of the game: 'rock', 'paper' or 'scissors'. Store the list in a variable called `gestures`."
   ]
  },
  {
   "cell_type": "code",
   "execution_count": 137,
   "metadata": {},
   "outputs": [],
   "source": [
    "gestures = ['rock', 'paper', 'scissors']\n"
   ]
  },
  {
   "cell_type": "markdown",
   "metadata": {},
   "source": [
    "#### 3. Create a variable called `n_rounds` to store the maximum number of rounds to play in a game. \n",
    "Remember that the number of rounds must be odd: 1, 3, 5, ..."
   ]
  },
  {
   "cell_type": "code",
   "execution_count": 138,
   "metadata": {},
   "outputs": [],
   "source": [
    "n_rounds = 3\n"
   ]
  },
  {
   "cell_type": "markdown",
   "metadata": {},
   "source": [
    "#### 4. Create a variable called `rounds_to_win` to store the number of rounds that a player must win to win the game.\n",
    "**Hint**: the value stored in `rounds_to_win` depends on the value of `n_rounds`. "
   ]
  },
  {
   "cell_type": "code",
   "execution_count": 139,
   "metadata": {},
   "outputs": [],
   "source": [
    "rounds_to_win = 2\n"
   ]
  },
  {
   "cell_type": "markdown",
   "metadata": {},
   "source": [
    "#### 5. Create two variables to store the number of rounds that the computer and the player have won. Call these variables `cpu_score` and `player_score`."
   ]
  },
  {
   "cell_type": "code",
   "execution_count": 140,
   "metadata": {},
   "outputs": [],
   "source": [
    "cpu_score = 0\n",
    "player_score = 0\n"
   ]
  },
  {
   "cell_type": "markdown",
   "metadata": {},
   "source": [
    "#### 6. Define a function that randomly returns one of the 3 gesture options.\n",
    "You will use this function to simulate the gesture choice of the computer. "
   ]
  },
  {
   "cell_type": "code",
   "execution_count": 141,
   "metadata": {},
   "outputs": [],
   "source": [
    "def cpu_choice(lst):\n",
    "    return choice(lst)\n",
    "\n",
    "# cpu_gesture = cpu_choice(gestures)\n",
    "# print(cpu_gesture)\n"
   ]
  },
  {
   "cell_type": "markdown",
   "metadata": {},
   "source": [
    "#### 7. Define a function that asks the player which is the gesture he or she wants to show: 'rock', 'paper' or 'scissors'.\n",
    "The player should only be allowed to choose one of the 3 gesture options. If the player's choice is not rock, paper or scissors, keep asking until it is."
   ]
  },
  {
   "cell_type": "code",
   "execution_count": 142,
   "metadata": {},
   "outputs": [],
   "source": [
    "def player_choice(lst):\n",
    "    player_gesture = input(\"Get your choice: 'rock', 'paper' or 'scissors': \")\n",
    "    while player_gesture not in lst:\n",
    "        player_gesture = input(\"This option is not correct. Please write either 'rock', 'paper' or 'scissors': \")\n",
    "    return player_gesture\n",
    "\n",
    "# print(player_choice(gestures))\n"
   ]
  },
  {
   "cell_type": "markdown",
   "metadata": {},
   "source": [
    "#### 8. Define a function that checks who won a round. \n",
    "The function should return 0 if there is a tie, 1 if the computer wins and 2 if the player wins."
   ]
  },
  {
   "cell_type": "code",
   "execution_count": 143,
   "metadata": {},
   "outputs": [],
   "source": [
    "def who_wins(cpu, player):\n",
    "    tie = 0\n",
    "    cpu_wins = 1\n",
    "    player_wins = 2\n",
    "    \n",
    "    if cpu == player:\n",
    "        return tie\n",
    "    \n",
    "    if (cpu == 'rock') & (player == 'paper'):\n",
    "        return player_wins\n",
    "    elif (cpu == 'paper') & (player == 'rock'):\n",
    "        return cpu_wins\n",
    "    elif (cpu == 'paper') & (player == 'scissors'):\n",
    "        return player_wins\n",
    "    elif (cpu == 'scissors') & (player == 'paper'):\n",
    "        return cpu_wins\n",
    "    elif (cpu == 'rock') & (player == 'scissors'):\n",
    "        return cpu_wins\n",
    "    elif (cpu == 'scissors') & (player == 'rock'):\n",
    "        return player_wins\n",
    "    \n",
    "# print(who_wins(cpu_gesture, player_gesture))\n"
   ]
  },
  {
   "cell_type": "markdown",
   "metadata": {},
   "source": [
    "#### 9. Define a function that prints the choice of the computer, the choice of the player and a message that announces who won the current round. \n",
    "You should also use this function to update the variables that count the number of rounds that the computer and the player have won. The score of the winner increases by one point. If there is a tie, the score does not increase."
   ]
  },
  {
   "cell_type": "code",
   "execution_count": 144,
   "metadata": {},
   "outputs": [],
   "source": [
    "def announce_winner(cpu, player):\n",
    "    print(\"CPU choice: \", cpu)\n",
    "    print(\"Player choice: \", player)\n",
    "    \n",
    "    result = who_wins(cpu, player)\n",
    "    if result == 0:\n",
    "        return(\"It's a Tie\")\n",
    "    elif result == 1:\n",
    "        return(\"CPU Wins\")\n",
    "    elif result == 2:\n",
    "        return(\"Player Wins\")\n",
    "\n",
    "# print(announce_winner('paper', 'rock'))\n"
   ]
  },
  {
   "cell_type": "markdown",
   "metadata": {},
   "source": [
    "#### 10. Now it's time to code the execution of the game using the functions and variables you defined above. \n",
    "\n",
    "First, create a loop structure that repeats while no player reaches the minimum score necessary to win and the number of rounds is less than the maximum number of rounds to play in a game.  \n",
    "\n",
    "Inside the loop, use the functions and variables above to create the execution of a round: ask for the player's choice, generate the random choice of the computer, show the round results, update the scores, etc. "
   ]
  },
  {
   "cell_type": "code",
   "execution_count": 145,
   "metadata": {},
   "outputs": [
    {
     "name": "stdout",
     "output_type": "stream",
     "text": [
      "Get your choice: 'rock', 'paper' or 'scissors': paper\n",
      "CPU choice:  scissors\n",
      "Player choice:  paper\n",
      "CPU Wins\n",
      "Get your choice: 'rock', 'paper' or 'scissors': scissors\n",
      "CPU choice:  paper\n",
      "Player choice:  scissors\n",
      "Player Wins\n",
      "Get your choice: 'rock', 'paper' or 'scissors': paper\n",
      "CPU choice:  rock\n",
      "Player choice:  paper\n",
      "Player Wins\n"
     ]
    }
   ],
   "source": [
    "# Inicializo la variable que controla en numero de rondas\n",
    "rounds_played = 0\n",
    "\n",
    "# Bucle hasta que se complete el numero de rondas maximo, o el jugador o la cpu alcancen el numero de victorias\n",
    "while (rounds_played < n_rounds) & ((cpu_score < rounds_to_win) & (player_score < rounds_to_win)):\n",
    "    # Genera una eleccion aleatoria\n",
    "    cpu_gesture = cpu_choice(gestures)\n",
    "    \n",
    "    # Pregunta al jugador\n",
    "    player_gesture = player_choice(gestures)\n",
    "    \n",
    "    # Calcula los resultados\n",
    "    result = announce_winner(cpu_gesture, player_gesture)\n",
    "    print(result)\n",
    "    \n",
    "    # Actualiza las puntuaciones\n",
    "    if result == \"CPU Wins\":\n",
    "        cpu_score += 1\n",
    "    elif result == \"Player Wins\":\n",
    "        player_score += 1\n",
    "    rounds_played += 1\n",
    "\n"
   ]
  },
  {
   "cell_type": "markdown",
   "metadata": {},
   "source": [
    "#### 11. Print the winner of the game based on who won more rounds.\n",
    "Remember that the game might be tied. "
   ]
  },
  {
   "cell_type": "code",
   "execution_count": 146,
   "metadata": {},
   "outputs": [
    {
     "name": "stdout",
     "output_type": "stream",
     "text": [
      "The Player wins the match!\n"
     ]
    }
   ],
   "source": [
    "if cpu_score == rounds_to_win:\n",
    "    print(\"The CPU wins the match!\")\n",
    "elif player_score == rounds_to_win:\n",
    "    print(\"The Player wins the match!\")\n",
    "else:\n",
    "    print(\"Nobody has reached the number of individual victories so it is a tie.\")\n"
   ]
  },
  {
   "cell_type": "markdown",
   "metadata": {},
   "source": [
    "# Bonus: Rock, Paper, Scissors, Lizard & Spock\n",
    "![](images/rpsls.jpg)\n",
    "\n",
    "In this challenge, you need to improve the previous game by adding two new options. To know more about the rules of the improved version of rock, paper, scissors, check this [link](http://www.samkass.com/theories/RPSSL.html). \n",
    "\n",
    "In addition, you will also need to improve how the game interacts with the player: the number of rounds to play, which must be an odd number, will be requested to the user until a valid number is entered. Define a new function to make that request.\n",
    "\n",
    "**Hint**: Try to reuse the code that you already coded in the previous challenge. If your code is efficient, this bonus will only consist of simple modifications to the original game."
   ]
  },
  {
   "cell_type": "code",
   "execution_count": null,
   "metadata": {},
   "outputs": [],
   "source": []
  }
 ],
 "metadata": {
  "kernelspec": {
   "display_name": "Python 3",
   "language": "python",
   "name": "python3"
  },
  "language_info": {
   "codemirror_mode": {
    "name": "ipython",
    "version": 3
   },
   "file_extension": ".py",
   "mimetype": "text/x-python",
   "name": "python",
   "nbconvert_exporter": "python",
   "pygments_lexer": "ipython3",
   "version": "3.8.5"
  }
 },
 "nbformat": 4,
 "nbformat_minor": 2
}

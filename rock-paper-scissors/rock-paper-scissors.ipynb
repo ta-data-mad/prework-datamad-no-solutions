{
 "cells": [
  {
   "cell_type": "markdown",
   "metadata": {},
   "source": [
    "# Rock Paper Scissors\n",
    "\n",
    "Let's play the famous game against our computer.\n",
    "\n",
    "https://en.wikipedia.org/wiki/Rock%E2%80%93paper%E2%80%93scissors\n",
    "\n",
    "The use of functions is recommended\n",
    "\n",
    "## Goals\n",
    "1. Use of loop\n",
    "2. Data capture by console\n",
    "3. Use if-elif-else\n",
    "4. Use of try-except\n",
    "5. Definition of functions. Modular programming\n",
    "6. Logical operators.\n",
    "7. Print\n",
    "8. Import modules"
   ]
  },
  {
   "cell_type": "code",
   "execution_count": 1,
   "metadata": {},
   "outputs": [
    {
     "name": "stdin",
     "output_type": "stream",
     "text": [
      "Choose one option:  paper\n"
     ]
    },
    {
     "name": "stdout",
     "output_type": "stream",
     "text": [
      "Player choice: paper\n",
      "Machine choice: paper\n",
      "Score: Player-Machine: 0-0\n",
      "Played games: 1\n",
      "Games to win: 3\n",
      "Total games: 5\n",
      "\n"
     ]
    },
    {
     "name": "stdin",
     "output_type": "stream",
     "text": [
      "Choose one option:  stone\n"
     ]
    },
    {
     "name": "stdout",
     "output_type": "stream",
     "text": [
      "Player choice: stone\n",
      "Machine choice: scissors\n",
      "Score: Player-Machine: 1-0\n",
      "Played games: 2\n",
      "Games to win: 3\n",
      "Total games: 5\n",
      "\n"
     ]
    },
    {
     "name": "stdin",
     "output_type": "stream",
     "text": [
      "Choose one option:  scissors\n"
     ]
    },
    {
     "name": "stdout",
     "output_type": "stream",
     "text": [
      "Player choice: scissors\n",
      "Machine choice: stone\n",
      "Score: Player-Machine: 1-1\n",
      "Played games: 3\n",
      "Games to win: 3\n",
      "Total games: 5\n",
      "\n"
     ]
    },
    {
     "name": "stdin",
     "output_type": "stream",
     "text": [
      "Choose one option:  stone\n"
     ]
    },
    {
     "name": "stdout",
     "output_type": "stream",
     "text": [
      "Player choice: stone\n",
      "Machine choice: scissors\n",
      "Score: Player-Machine: 2-1\n",
      "Played games: 4\n",
      "Games to win: 3\n",
      "Total games: 5\n",
      "\n"
     ]
    },
    {
     "name": "stdin",
     "output_type": "stream",
     "text": [
      "Choose one option:  paper\n"
     ]
    },
    {
     "name": "stdout",
     "output_type": "stream",
     "text": [
      "Player choice: paper\n",
      "Machine choice: paper\n",
      "Score: Player-Machine: 2-1\n",
      "Played games: 5\n",
      "Games to win: 3\n",
      "Total games: 5\n",
      "\n",
      "\n",
      "Game over\n",
      "\n"
     ]
    }
   ],
   "source": [
    "# Import the choice function of the random module\n",
    "# https://stackoverflow.com/questions/306400/how-to-randomly-select-an-item-from-a-list\n",
    "\n",
    "import random\n",
    "\n",
    "# Assign to a list the 3 possible options: 'stone', 'paper' or 'scissors'.\n",
    "\n",
    "options = ['stone', 'paper', 'scissors']\n",
    "\n",
    "# Assign a variable to the maximum number of games: 1, 3, 5, etc ...\n",
    "\n",
    "maximum_games = 5\n",
    "\n",
    "# Assign a variable to the number of games a player must win to win.\n",
    "# Preferably the value will be based on the number of maximum games\n",
    "\n",
    "won_games = 3\n",
    "\n",
    "# Define a function that randomly returns one of the 3 options.\n",
    "# This will correspond to the play of the machine. Totally random.\n",
    "\n",
    "def game():\n",
    "    choice_machine = random.choice(options)\n",
    "    return(choice_machine)\n",
    "\n",
    "# Define a function that asks your choice: 'stone', 'paper' or 'scissors'\n",
    "# you should only allow one of the 3 options. This is defensive programming.\n",
    "# If it is not stone, paper or scissors keep asking until it is.\n",
    "\n",
    "def jugador():\n",
    "    player = input(\"Choose one option: \")\n",
    "    player2 = str(player)\n",
    "    while player2 not in options: \n",
    "        player = input(\"Not valid. Choose one option: \")\n",
    "        player2 = str(player)\n",
    "        if player2 in options:\n",
    "            break\n",
    "    return(player2)\n",
    "\n",
    "# Define a function that resolves a combat.\n",
    "# Returns 0 if there is a tie, 1 if the machine wins, 2 if the human player wins\n",
    "\n",
    "def combat():\n",
    "    if choice_machine_1 == player3:\n",
    "        return(0)\n",
    "    elif choice_machine_1 != player3:\n",
    "        if (((choice_machine_1 == \"stone\") & (player3 == \"scissors\")) | ((choice_machine_1 == \"paper\") & (player3 == \"stone\")) | ((choice_machine_1 == \"scissors\") & (player3 == \"paper\"))):\n",
    "            return(1)\n",
    "        else:\n",
    "            return(2) \n",
    "    \n",
    "# Define a function that shows the choice of each player and the state of the game\n",
    "# This function should be used every time accumulated points are updated\n",
    "\n",
    "def marcador():\n",
    "    return(\"Player choice: \"+player3+\"\\nMachine choice: \"+choice_machine_1+\"\\nScore: Player-Machine: \"+str(human_points)+\"-\"+str(machine_points)+\"\\nPlayed games: \"+str(games)+\"\\nGames to win: \"+str(won_games)+\"\\nTotal games: \"+str(maximum_games)+\"\\n\")\n",
    "    \n",
    "# Create two variables that accumulate the wins of each participant\n",
    "\n",
    "machine_points = 0\n",
    "human_points = 0\n",
    "\n",
    "# Create a loop that iterates while no player reaches the minimum of wins\n",
    "# necessary to win. Inside the loop solves the play of the\n",
    "# machine and ask the player's. Compare them and update the value of the variables\n",
    "# that accumulate the wins of each participant.\n",
    "\n",
    "\n",
    "games = 0\n",
    "while ((machine_points | human_points) <= won_games) & (games < maximum_games):\n",
    "    player3 = jugador()\n",
    "    choice_machine_1 = game()\n",
    "    combat1 = combat()\n",
    "    if combat1 == 1:\n",
    "        machine_points += 1\n",
    "        games += 1\n",
    "    elif combat1 == 2:\n",
    "        human_points += 1\n",
    "        games += 1\n",
    "    else:\n",
    "        games += 1\n",
    "    print(marcador())\n",
    "    # Print by console the winner of the game based on who has more accumulated wins\n",
    "    if machine_points == won_games:\n",
    "        print(\"\\nMachine wins\\n\")\n",
    "        break\n",
    "    elif human_points == won_games:\n",
    "        print(\"\\nPlayer wins\\n\")\n",
    "        break \n",
    "    elif (machine_points<won_games) & (human_points<won_games) & (games == maximum_games):\n",
    "        print(\"\\nGame over\\n\") "
   ]
  },
  {
   "cell_type": "markdown",
   "metadata": {},
   "source": [
    "**Expected output**: Depends on the inputs, you know how to play and what to expect. "
   ]
  },
  {
   "cell_type": "markdown",
   "metadata": {},
   "source": [
    "# Bonus: Stone, paper, scissors, lizard, spock\n",
    "\n",
    "Now the improvement begins.\n",
    "\n",
    "![](images/rpsls.jpg)\n",
    "\n",
    "\n",
    "http://www.samkass.com/theories/RPSSL.html\n",
    "\n",
    "You are asked to impliment some improvements with respect to the simple previous game. In addition, the number of games (which must be ODD) will be requested per console until a valid number is entered.\n",
    "\n",
    "Improvements:\n",
    "* 5 options: stone, paper, scissors, lizard, spock\n",
    "* The number of games is requested per console\n",
    "Tip: Reuse code that you already use. If you have programmed intelligently, the bonus are simple modifications to the original game."
   ]
  },
  {
   "cell_type": "code",
   "execution_count": 4,
   "metadata": {},
   "outputs": [
    {
     "name": "stdin",
     "output_type": "stream",
     "text": [
      "Introduce an odd number:  7\n",
      "\n",
      "Choose one option:  lizard\n"
     ]
    },
    {
     "name": "stdout",
     "output_type": "stream",
     "text": [
      "Player choice: lizard\n",
      "Machine choice: stone\n",
      "Score: Player-Machine: 0-1\n",
      "Played games: 1\n",
      "Games to win: 3\n",
      "Total games: 7\n",
      "\n"
     ]
    },
    {
     "name": "stdin",
     "output_type": "stream",
     "text": [
      "\n",
      "Choose one option:  spock\n"
     ]
    },
    {
     "name": "stdout",
     "output_type": "stream",
     "text": [
      "Player choice: spock\n",
      "Machine choice: paper\n",
      "Score: Player-Machine: 0-2\n",
      "Played games: 2\n",
      "Games to win: 3\n",
      "Total games: 7\n",
      "\n"
     ]
    },
    {
     "name": "stdin",
     "output_type": "stream",
     "text": [
      "\n",
      "Choose one option:  stone\n"
     ]
    },
    {
     "name": "stdout",
     "output_type": "stream",
     "text": [
      "Player choice: stone\n",
      "Machine choice: paper\n",
      "Score: Player-Machine: 0-3\n",
      "Played games: 3\n",
      "Games to win: 3\n",
      "Total games: 7\n",
      "\n",
      "\n",
      "Machine wins\n",
      "\n"
     ]
    }
   ],
   "source": [
    "# Import the choice function of the random module\n",
    "\n",
    "import random\n",
    "\n",
    "# Define a function that asks for an odd number on the keyboard, until it is not valid\n",
    "# will keep asking\n",
    "\n",
    "def match_number():\n",
    "    total_matches = input(\"Introduce an odd number: \")\n",
    "    maximum_games = int(total_matches)\n",
    "    odd = [i for i in range(3, 1000) if i%2 == 1]\n",
    "    while maximum_games not in odd: \n",
    "        if ((maximum_games%2 == 0) | (maximum_games > 999) | (maximum_games < 3)):\n",
    "            total_matches = input(\"Not valid. The number must be odd between 3 and 999. Introduce a new odd number: \")\n",
    "            maximum_games = int(total_matches)\n",
    "        else:\n",
    "            break\n",
    "    return(maximum_games)\n",
    "\n",
    "# Assign a list of 5 possible options.\n",
    "\n",
    "options = ['stone', 'paper', 'scissors', 'lizard', 'spock']\n",
    "\n",
    "# Assign a variable to the maximum number of games: 1, 3, 5, etc ...\n",
    "# This time the previously defined function is used\n",
    "\n",
    "maximum_games1 = match_number()\n",
    "\n",
    "# Assign a variable to the number of games a player must win to win.\n",
    "# Preferably the value will be based on the number of maximum games\n",
    "\n",
    "won_games = 3\n",
    "\n",
    "# Define a function that randomly returns one of the 5 options.\n",
    "# This will correspond to the play of the machine. Totally random.\n",
    "\n",
    "def game():\n",
    "    choice_machine = random.choice(options)\n",
    "    return(choice_machine)\n",
    "\n",
    "# Define a function that asks your choice between 5\n",
    "# you should only allow one of the 5 options. This is defensive programming.\n",
    "# If it is not valid, keep asking until it is valid.\n",
    "\n",
    "def jugador():\n",
    "    player = input(\"\\nChoose one option: \")\n",
    "    player2 = str(player)\n",
    "    while player2 not in options: \n",
    "        player = input(\"Not valid. Choose one option: \")\n",
    "        player2 = str(player)\n",
    "        if player2 in options:\n",
    "            break\n",
    "    return(player2)\n",
    "\n",
    "# Define a function that resolves a combat.\n",
    "# Returns 0 if there is a tie, 1 if the machine wins, 2 if the human player wins\n",
    "# Now there are more options\n",
    "\n",
    "def combat():\n",
    "    if choice_machine_1 == player3:\n",
    "        return(0)\n",
    "    elif choice_machine_1 != player3:\n",
    "        if (((choice_machine_1 == \"stone\") & (player3 == \"scissors\")) | ((choice_machine_1 == \"paper\") & (player3 == \"stone\")) | ((choice_machine_1 == \"scissors\") & (player3 == \"paper\")) | ((choice_machine_1 == \"stone\") & (player3 == \"lizard\"))| ((choice_machine_1 == \"lizard\") & (player3 == \"spock\"))| ((choice_machine_1 == \"spock\") & (player3 == \"scissors\")) | ((choice_machine_1 == \"scissors\") & (player3 == \"lizard\")) | ((choice_machine_1 == \"lizard\") & (player3 == \"paper\")) | ((choice_machine_1 == \"paper\") & (player3 == \"spock\")) | ((choice_machine_1 == \"spock\") & (player3 == \"rock\"))):\n",
    "            return(1)\n",
    "        else:\n",
    "            return(2)\n",
    "    \n",
    "# Define a function that shows the choice of each player and the state of the game\n",
    "# This function should be used every time accumulated points are updated\n",
    "\n",
    "def marcador():\n",
    "    return(\"Player choice: \"+player3+\"\\nMachine choice: \"+choice_machine_1+\"\\nScore: Player-Machine: \"+str(human_points)+\"-\"+str(machine_points)+\"\\nPlayed games: \"+str(games)+\"\\nGames to win: \"+str(won_games)+\"\\nTotal games: \"+str(maximum_games1)+\"\\n\")\n",
    "\n",
    "# Create two variables that accumulate the wins of each participant\n",
    "\n",
    "machine_points = 0\n",
    "human_points = 0\n",
    "\n",
    "# Create a loop that iterates while no player reaches the minimum of wins\n",
    "# necessary to win. Inside the loop solves the play of the\n",
    "# machine and ask the player's. Compare them and update the value of the variables\n",
    "# that accumulate the wins of each participant.\n",
    "\n",
    "games = 0\n",
    "while ((machine_points | human_points) <= won_games) & (games < maximum_games1):\n",
    "    player3 = jugador()\n",
    "    choice_machine_1 = game()\n",
    "    combat1 = combat()\n",
    "    if combat1 == 1:\n",
    "        machine_points += 1\n",
    "        games += 1\n",
    "    elif combat1 == 2:\n",
    "        human_points += 1\n",
    "        games += 1\n",
    "    else:\n",
    "        games += 1\n",
    "    print(marcador())\n",
    "    # Print by console the winner of the game based on who has more accumulated wins\n",
    "    if machine_points == won_games:\n",
    "        print(\"\\nMachine wins\\n\")\n",
    "        break\n",
    "    elif human_points == won_games:\n",
    "        print(\"\\nPlayer wins\\n\")\n",
    "        break \n",
    "    elif (machine_points<won_games) & (human_points<won_games) & (games == maximum_games1):\n",
    "        print(\"\\nGame over\\n\")"
   ]
  },
  {
   "cell_type": "markdown",
   "metadata": {},
   "source": [
    "**Expected output**: Depends on the inputs, you know how to play and what to expect. "
   ]
  }
 ],
 "metadata": {
  "kernelspec": {
   "display_name": "Python 3",
   "language": "python",
   "name": "python3"
  },
  "language_info": {
   "codemirror_mode": {
    "name": "ipython",
    "version": 3
   },
   "file_extension": ".py",
   "mimetype": "text/x-python",
   "name": "python",
   "nbconvert_exporter": "python",
   "pygments_lexer": "ipython3",
   "version": "3.7.5"
  }
 },
 "nbformat": 4,
 "nbformat_minor": 4
}

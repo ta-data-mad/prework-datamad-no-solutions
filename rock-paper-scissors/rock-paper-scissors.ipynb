{
 "cells": [
  {
   "cell_type": "code",
   "execution_count": null,
   "metadata": {},
   "outputs": [],
   "source": [
    "<img src=\"https://bit.ly/2VnXWr2\" width=\"100\" align=\"left\">"
   ]
  },
  {
   "cell_type": "markdown",
   "metadata": {},
   "source": [
    "# Rock, Paper & Scissors\n",
    "\n",
    "Let's play the famous game against our computer. You can check the rules [here](https://en.wikipedia.org/wiki/Rock%E2%80%93paper%E2%80%93scissors). \n",
    "\n",
    "## Task\n",
    "Create a program that imitates the playability of the well known game of rock, paper, scissors. Follow the guidelines provided.\n",
    "\n",
    "## Tools\n",
    "1. Loop: **for/while**\n",
    "2. Functions: **input(), print()...**\n",
    "3. Conditional statements: **if, elif, else**\n",
    "4. Definition of functions. Modular programming\n",
    "5. Import modules\n",
    "\n",
    "**To solve this challenge, the use of functions is recommended.**\n",
    "\n",
    "#### 1. Import the choice function of the random module."
   ]
  },
  {
   "cell_type": "code",
   "execution_count": 1,
   "metadata": {},
   "outputs": [],
   "source": [
    "import random"
   ]
  },
  {
   "cell_type": "markdown",
   "metadata": {},
   "source": [
    "#### 2. Create a list that includes the 3 possible gesture options of the game: 'rock', 'paper' or 'scissors'. Store the list in a variable called `gestures`."
   ]
  },
  {
   "cell_type": "code",
   "execution_count": 2,
   "metadata": {},
   "outputs": [],
   "source": [
    "gestures = [\"piedra\", \"papel\", \"tijera\"]"
   ]
  },
  {
   "cell_type": "markdown",
   "metadata": {},
   "source": [
    "#### 3. Create a variable called `n_rounds` to store the maximum number of rounds to play in a game. \n",
    "Remember that the number of rounds must be odd: 1, 3, 5, ..."
   ]
  },
  {
   "cell_type": "code",
   "execution_count": 3,
   "metadata": {},
   "outputs": [],
   "source": [
    "n_rounds = 3"
   ]
  },
  {
   "cell_type": "markdown",
   "metadata": {},
   "source": [
    "#### 4. Create a variable called `rounds_to_win` to store the number of rounds that a player must win to win the game.\n",
    "**Hint**: the value stored in `rounds_to_win` depends on the value of `n_rounds`. "
   ]
  },
  {
   "cell_type": "code",
   "execution_count": 4,
   "metadata": {},
   "outputs": [],
   "source": [
    "rounds_to_win = n_rounds // 2 + 1"
   ]
  },
  {
   "cell_type": "markdown",
   "metadata": {},
   "source": [
    "#### 5. Create two variables to store the number of rounds that the computer and the player have won. Call these variables `cpu_score` and `player_score`."
   ]
  },
  {
   "cell_type": "code",
   "execution_count": 5,
   "metadata": {},
   "outputs": [],
   "source": [
    "pc_score = 0\n",
    "player_score = 0"
   ]
  },
  {
   "cell_type": "markdown",
   "metadata": {},
   "source": [
    "#### 6. Define a function that randomly returns one of the 3 gesture options.\n",
    "You will use this function to simulate the gesture choice of the computer. "
   ]
  },
  {
   "cell_type": "code",
   "execution_count": 6,
   "metadata": {},
   "outputs": [],
   "source": [
    "pc_choice = random.choice(gestures)"
   ]
  },
  {
   "cell_type": "markdown",
   "metadata": {},
   "source": [
    "#### 7. Define a function that asks the player which is the gesture he or she wants to show: 'rock', 'paper' or 'scissors'.\n",
    "The player should only be allowed to choose one of the 3 gesture options. If the player's choice is not rock, paper or scissors, keep asking until it is."
   ]
  },
  {
   "cell_type": "code",
   "execution_count": 7,
   "metadata": {},
   "outputs": [],
   "source": [
    "def user_input():    \n",
    "    player_choice = \"\"\n",
    "    while player_choice not in gestures:\n",
    "        player_choice = input(\"Elige entre piedra, papel o tijera: \")\n",
    "    \n",
    "    return player_choice"
   ]
  },
  {
   "cell_type": "markdown",
   "metadata": {},
   "source": [
    "#### 8. Define a function that checks who won a round. \n",
    "The function should return 0 if there is a tie, 1 if the computer wins and 2 if the player wins."
   ]
  },
  {
   "cell_type": "code",
   "execution_count": 205,
   "metadata": {},
   "outputs": [
    {
     "name": "stdout",
     "output_type": "stream",
     "text": [
      "True\n",
      "True\n",
      "True\n",
      "True\n",
      "True\n",
      "True\n",
      "True\n",
      "True\n",
      "True\n"
     ]
    }
   ],
   "source": [
    "# Función de aridad 2\n",
    "# Cuando definamos funciones, una práctica que nos evitará confusiones es la manera en la que denominamos a los \n",
    "# argumentos de la función. \n",
    "# La función debe poder ejecutarse sin estar fija a ningun argumento concreto, debe ser genérica. Por ello, \n",
    "# denominarlos de manera diferente nos clarificará todo el trabajo.\n",
    "\n",
    "def victory(choice_1, choice_2):\n",
    "    \n",
    "    if choice_1 == \"piedra\" and choice_2 == \"piedra\":\n",
    "        return 0\n",
    "    if choice_1 == \"papel\" and choice_2 == \"piedra\":\n",
    "        return 2\n",
    "    if choice_1 == \"tijera\" and choice_2 == \"piedra\":\n",
    "        return 1\n",
    "    \n",
    "    if choice_1 == \"piedra\" and choice_2 == \"papel\":\n",
    "        return 1\n",
    "    if choice_1 == \"papel\" and choice_2 == \"papel\":\n",
    "        return 0\n",
    "    if choice_1 == \"tijera\" and choice_2 == \"papel\":\n",
    "        return 2\n",
    "    \n",
    "    if choice_1 == \"piedra\" and choice_2 == \"tijera\":\n",
    "        return 2\n",
    "    if choice_1 == \"papel\" and choice_2 == \"tijera\":\n",
    "        return 1\n",
    "    if choice_1 == \"tijera\" and choice_2 == \"tijera\":\n",
    "        return 0"
   ]
  },
  {
   "cell_type": "markdown",
   "metadata": {},
   "source": [
    "# 9. Define a function that prints the choice of the computer, the choice of the player and a message that announces who won the current round. \n",
    "You should also use this function to update the variables that count the number of rounds that the computer and the player have won. The score of the winner increases by one point. If there is a tie, the score does not increase."
   ]
  },
  {
   "cell_type": "code",
   "execution_count": 206,
   "metadata": {},
   "outputs": [],
   "source": [
    "#Esta función ha sido definida con una aridad 3, debido a que utiliza 3 argumentos para el desarrollo de la función.\n",
    "\n",
    "def compute_round_result(election_1, election_2, winner):\n",
    "    \n",
    "    #Variable vacia \n",
    "    \n",
    "    winner_announcement = \"\"\n",
    "    \n",
    "    # Global hace referencia a que es una variable que se encuentra en un entorno máximo, fuera de la visibilidad\n",
    "    # del entorno de la función.\n",
    "    \n",
    "    global pc_score\n",
    "    global player_score\n",
    "    \n",
    "    if winner == 0:\n",
    "        winner_announcement = \"Ambos empatan.\"\n",
    "    if winner == 1:\n",
    "        pc_score += 1\n",
    "        winner_announcement = \"El jugador pierde contra el pc.\"\n",
    "    if winner == 2:\n",
    "        player_score += 1\n",
    "        winner_announcement = \"El jugador gana contra el pc.\"\n",
    "        \n",
    "    print(\"El jugador ha eleguido \" + election_1 + \". El computador ha eleguido \" + election_2 + \". \" + winner_announcement)\n",
    "    print(\"El recuento de victorias es el siguiente: \")\n",
    "    print(\"Victorias del jugador: \" + str(player_score))\n",
    "    print(\"Victorias del computador: \" + str(pc_score))\n",
    "    "
   ]
  },
  {
   "cell_type": "markdown",
   "metadata": {},
   "source": [
    "#### 10. Now it's time to code the execution of the game using the functions and variables you defined above. \n",
    "\n",
    "First, create a loop structure that repeats while no player reaches the minimum score necessary to win and the number of rounds is less than the maximum number of rounds to play in a game.  \n",
    "\n",
    "Inside the loop, use the functions and variables above to create the execution of a round: ask for the player's choice, generate the random choice of the computer, show the round results, update the scores, etc. "
   ]
  },
  {
   "cell_type": "code",
   "execution_count": 210,
   "metadata": {},
   "outputs": [
    {
     "name": "stdout",
     "output_type": "stream",
     "text": [
      "Elige entre piedra, papel o tijera:tijera\n",
      "El jugador ha eleguido tijera. El computador ha eleguido papel. El jugador gana contra el pc.\n",
      "El recuento de victorias es el siguiente: \n",
      "Victorias del jugador: 1\n",
      "Victorias del computador: 0\n",
      "Elige entre piedra, papel o tijera:papel\n",
      "El jugador ha eleguido papel. El computador ha eleguido tijera. El jugador pierde contra el pc.\n",
      "El recuento de victorias es el siguiente: \n",
      "Victorias del jugador: 1\n",
      "Victorias del computador: 1\n",
      "Elige entre piedra, papel o tijera:papel\n",
      "El jugador ha eleguido papel. El computador ha eleguido tijera. El jugador pierde contra el pc.\n",
      "El recuento de victorias es el siguiente: \n",
      "Victorias del jugador: 1\n",
      "Victorias del computador: 2\n"
     ]
    }
   ],
   "source": [
    "game_running = True\n",
    "pc_score = 0\n",
    "player_score = 0\n",
    "\n",
    "while game_running:\n",
    "    \n",
    "    player_choice = user_input()\n",
    "    \n",
    "    pc_choice = random.choice(gestures)\n",
    "    \n",
    "    round_result = victory(player_choice, pc_choice)\n",
    "    \n",
    "    compute_round_result(player_choice, pc_choice, round_result)\n",
    "    \n",
    "    if player_score >= rounds_to_win:\n",
    "        game_running = False\n",
    "        \n",
    "    if pc_score >= rounds_to_win:\n",
    "        game_running = False\n"
   ]
  },
  {
   "cell_type": "markdown",
   "metadata": {},
   "source": [
    "#### 11. Print the winner of the game based on who won more rounds.\n",
    "Remember that the game might be tied. "
   ]
  },
  {
   "cell_type": "code",
   "execution_count": 213,
   "metadata": {},
   "outputs": [
    {
     "name": "stdout",
     "output_type": "stream",
     "text": [
      "El pc gana la partida con 2 victorias frente a 1 victorias del jugador.\n"
     ]
    }
   ],
   "source": [
    "if player_score > pc_score:\n",
    "    print(\"El jugador gana la partida con \" + str(player_score) + \" victorias frente a \" + str(pc_score) + \" victorias de la computadora.\")\n",
    "\n",
    "elif player_score == pc_score:\n",
    "    print(\"El jugador empata contra la computadora a \" + str(player_score) + \" puntos.\")\n",
    "    \n",
    "else:\n",
    "    print(\"La computadora gana la partida con \" + str(pc_score) + \" victorias frente a \" + str(player_score) + \" victorias del jugador.\")\n",
    "    "
   ]
  },
  {
   "cell_type": "markdown",
   "metadata": {},
   "source": [
    "# Bonus: Rock, Paper, Scissors, Lizard & Spock\n",
    "![](images/rpsls.jpg)\n",
    "\n",
    "In this challenge, you need to improve the previous game by adding two new options. To know more about the rules of the improved version of rock, paper, scissors, check this [link](http://www.samkass.com/theories/RPSSL.html). \n",
    "\n",
    "In addition, you will also need to improve how the game interacts with the player: the number of rounds to play, which must be an odd number, will be requested to the user until a valid number is entered. Define a new function to make that request.\n",
    "\n",
    "**Hint**: Try to reuse the code that you already coded in the previous challenge. If your code is efficient, this bonus will only consist of simple modifications to the original game."
   ]
  },
  {
   "cell_type": "code",
   "execution_count": 54,
   "metadata": {},
   "outputs": [
    {
     "name": "stdout",
     "output_type": "stream",
     "text": [
      "Elige un numero impar de rondas a jugar:3\n",
      "\n",
      "Elige entre piedra, papel, tijera, lagarto o Spock:papel\n",
      "El jugador ha eleguido papel. \n",
      "El computador ha eleguido papel. \n",
      "Ambos empatan.\n",
      "\n",
      "El recuento de victorias es el siguiente: \n",
      "Victorias del jugador: 0\n",
      "Victorias del computador: 0\n",
      "\n",
      "Elige entre piedra, papel, tijera, lagarto o Spock:papel\n",
      "El jugador ha eleguido papel. \n",
      "El computador ha eleguido piedra. \n",
      "El jugador gana contra el pc.\n",
      "\n",
      "El recuento de victorias es el siguiente: \n",
      "Victorias del jugador: 1\n",
      "Victorias del computador: 0\n",
      "\n",
      "Elige entre piedra, papel, tijera, lagarto o Spock:piedra\n",
      "El jugador ha eleguido piedra. \n",
      "El computador ha eleguido lagarto. \n",
      "El jugador gana contra el pc.\n",
      "\n",
      "El recuento de victorias es el siguiente: \n",
      "Victorias del jugador: 2\n",
      "Victorias del computador: 0\n",
      "\n",
      "El jugador gana la partida con 2 victorias frente a 0 victorias de la computadora.\n"
     ]
    }
   ],
   "source": [
    "gestures_bonus = [\"piedra\", \"papel\", \"tijera\", \"lagarto\", \"Spock\"]\n",
    "\n",
    "bonus_rounds = []\n",
    "for e in range(100):\n",
    "    if e%2 != 0:\n",
    "        bonus_rounds.append(str(e))\n",
    "\n",
    "def game_rounds():\n",
    "    rounds_bonus = \"\"\n",
    "    while rounds_bonus not in bonus_rounds:\n",
    "        rounds_bonus = input(\"Elige un numero impar de rondas a jugar: \")\n",
    "        \n",
    "    return rounds_bonus \n",
    "    \n",
    "def user_input():    \n",
    "    player_choice = \"\"\n",
    "    while player_choice not in gestures_bonus:\n",
    "        player_choice = input(\"\\nElige entre piedra, papel, tijera, lagarto o Spock: \")\n",
    "    \n",
    "    return player_choice \n",
    "\n",
    "def victory(choice_1, choice_2):\n",
    "    \n",
    "    if choice_1 == \"piedra\" and choice_2 == \"piedra\":\n",
    "        return 0\n",
    "    if choice_1 == \"papel\" and choice_2 == \"piedra\":\n",
    "        return 2\n",
    "    if choice_1 == \"tijera\" and choice_2 == \"piedra\":\n",
    "        return 1\n",
    "    if choice_1 == \"lagarto\" and choice_2 == \"piedra\":\n",
    "        return 1\n",
    "    if choice_1 == \"Spock\" and choice_2 == \"piedra\":\n",
    "        return 2\n",
    "    \n",
    "    if choice_1 == \"piedra\" and choice_2 == \"papel\":\n",
    "        return 1\n",
    "    if choice_1 == \"papel\" and choice_2 == \"papel\":\n",
    "        return 0\n",
    "    if choice_1 == \"tijera\" and choice_2 == \"papel\":\n",
    "        return 2\n",
    "    if choice_1 == \"lagarto\" and choice_2 == \"papel\":\n",
    "        return 2\n",
    "    if choice_1 == \"Spock\" and choice_2 == \"papel\":\n",
    "        return 1\n",
    "    \n",
    "    if choice_1 == \"piedra\" and choice_2 == \"tijera\":\n",
    "        return 2\n",
    "    if choice_1 == \"papel\" and choice_2 == \"tijera\":\n",
    "        return 1\n",
    "    if choice_1 == \"tijera\" and choice_2 == \"tijera\":\n",
    "        return 0\n",
    "    if choice_1 == \"lagarto\" and choice_2 == \"tijera\":\n",
    "        return 1\n",
    "    if choice_1 == \"Spock\" and choice_2 == \"tijera\":\n",
    "        return 2\n",
    "    \n",
    "    if choice_1 == \"piedra\" and choice_2 == \"lagarto\":\n",
    "        return 2\n",
    "    if choice_1 == \"papel\" and choice_2 == \"lagarto\":\n",
    "        return 1\n",
    "    if choice_1 == \"tijera\" and choice_2 == \"lagarto\":\n",
    "        return 2\n",
    "    if choice_1 == \"lagarto\" and choice_2 == \"lagarto\":\n",
    "        return 0\n",
    "    if choice_1 == \"Spock\" and choice_2 == \"lagarto\":\n",
    "        return 1\n",
    "    \n",
    "    if choice_1 == \"piedra\" and choice_2 == \"Spock\":\n",
    "        return 1\n",
    "    if choice_1 == \"papel\" and choice_2 == \"Spock\":\n",
    "        return 2\n",
    "    if choice_1 == \"tijera\" and choice_2 == \"Spock\":\n",
    "        return 1\n",
    "    if choice_1 == \"lagarto\" and choice_2 == \"Spock\":\n",
    "        return 2\n",
    "    if choice_1 == \"Spock\" and choice_2 == \"Spock\":\n",
    "        return 0\n",
    "\n",
    "def compute_round_result(election_1, election_2, winner):\n",
    "    \n",
    "    winner_announcement = \"\"\n",
    "    \n",
    "    global pc_score\n",
    "    global player_score\n",
    "    \n",
    "    if winner == 0:\n",
    "        winner_announcement = \"Ambos empatan.\\n\"\n",
    "    if winner == 1:\n",
    "        pc_score += 1\n",
    "        winner_announcement = \"El jugador pierde contra el pc.\\n\"\n",
    "    if winner == 2:\n",
    "        player_score += 1\n",
    "        winner_announcement = \"El jugador gana contra el pc.\\n\"\n",
    "        \n",
    "    print(\"El jugador ha eleguido \" + election_1 + \". \\nEl computador ha eleguido \" + election_2 + \". \\n\" + winner_announcement)\n",
    "    print(\"El recuento de victorias es el siguiente: \")\n",
    "    print(\"Victorias del jugador: \" + str(player_score))\n",
    "    print(\"Victorias del computador: \" + str(pc_score))\n",
    "    \n",
    "game_running = True\n",
    "pc_score = 0\n",
    "player_score = 0\n",
    "\n",
    "rounds_bonus = game_rounds()\n",
    "\n",
    "while game_running:\n",
    "    \n",
    "    player_choice = user_input()\n",
    "    \n",
    "    pc_choice = random.choice(gestures_bonus)\n",
    "    \n",
    "    round_result = victory(player_choice, pc_choice)\n",
    "    \n",
    "    compute_round_result(player_choice, pc_choice, round_result)\n",
    "    \n",
    "    rounds_to_win_bonus = int(rounds_bonus) // 2 + 1\n",
    "    \n",
    "    if player_score >= rounds_to_win_bonus:\n",
    "        game_running = False\n",
    "        \n",
    "    if pc_score >= rounds_to_win_bonus:\n",
    "        game_running = False\n",
    "\n",
    "if player_score > pc_score:\n",
    "    print(\"\\nEl jugador gana la partida con \" + str(player_score) + \" victorias frente a \" + str(pc_score) + \" victorias de la computadora.\")\n",
    "\n",
    "elif player_score == pc_score:\n",
    "    print(\"\\nEl jugador empata contra la computadora a \" + str(player_score) + \" puntos.\")\n",
    "    \n",
    "else:\n",
    "    print(\"\\nLa computadora gana la partida con \" + str(pc_score) + \" victorias frente a \" + str(player_score) + \" victorias del jugador.\")\n",
    "    "
   ]
  }
 ],
 "metadata": {
  "kernelspec": {
   "display_name": "Python 3",
   "language": "python",
   "name": "python3"
  },
  "language_info": {
   "codemirror_mode": {
    "name": "ipython",
    "version": 3
   },
   "file_extension": ".py",
   "mimetype": "text/x-python",
   "name": "python",
   "nbconvert_exporter": "python",
   "pygments_lexer": "ipython3",
   "version": "3.8.1"
  }
 },
 "nbformat": 4,
 "nbformat_minor": 2
}

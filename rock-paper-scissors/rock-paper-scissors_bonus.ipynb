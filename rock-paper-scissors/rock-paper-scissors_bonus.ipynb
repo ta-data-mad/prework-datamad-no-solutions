{
 "cells": [
  {
   "cell_type": "markdown",
   "metadata": {},
   "source": [
    "<img src=\"https://bit.ly/2VnXWr2\" width=\"100\" align=\"left\">"
   ]
  },
  {
   "cell_type": "markdown",
   "metadata": {},
   "source": [
    "# Bonus: Rock, Paper, Scissors, Lizard & Spock\n",
    "![](images/rpsls.jpg)\n",
    "\n",
    "In this challenge, you need to improve the previous game by adding two new options. To know more about the rules of the improved version of rock, paper, scissors, check this [link](http://www.samkass.com/theories/RPSSL.html). \n",
    "\n",
    "In addition, you will also need to improve how the game interacts with the player: the number of rounds to play, which must be an odd number, will be requested to the user until a valid number is entered. Define a new function to make that request.\n",
    "\n",
    "**Hint**: Try to reuse the code that you already coded in the previous challenge. If your code is efficient, this bonus will only consist of simple modifications to the original game."
   ]
  },
  {
   "cell_type": "code",
   "execution_count": 1,
   "metadata": {},
   "outputs": [],
   "source": [
    "import random"
   ]
  },
  {
   "cell_type": "code",
   "execution_count": 2,
   "metadata": {},
   "outputs": [],
   "source": [
    "gestures=['rock', 'paper', 'scissors', 'lizzard', 'spock']"
   ]
  },
  {
   "cell_type": "code",
   "execution_count": 3,
   "metadata": {},
   "outputs": [],
   "source": [
    "n_rounds=random.randrange(1,10,2)"
   ]
  },
  {
   "cell_type": "code",
   "execution_count": 4,
   "metadata": {},
   "outputs": [],
   "source": [
    "import math\n",
    "rounds_to_win=math.ceil(n_rounds/2)"
   ]
  },
  {
   "cell_type": "code",
   "execution_count": 5,
   "metadata": {},
   "outputs": [],
   "source": [
    "cpu_score=0\n",
    "player_score=0"
   ]
  },
  {
   "cell_type": "code",
   "execution_count": 6,
   "metadata": {},
   "outputs": [],
   "source": [
    "#gesture of the CPU\n",
    "def gesture_cpu(list):\n",
    "    outcome=random.choice(list)\n",
    "    return outcome  "
   ]
  },
  {
   "cell_type": "code",
   "execution_count": 7,
   "metadata": {},
   "outputs": [],
   "source": [
    "#gesture of the player\n",
    "def gesture_player():\n",
    "    gesture_player = input(\"Enter the gesture you want to show: 'rock', 'paper', 'scissors', 'lizzard' or 'spock'.\")    \n",
    "    return gesture_player"
   ]
  },
  {
   "cell_type": "code",
   "execution_count": 8,
   "metadata": {},
   "outputs": [],
   "source": [
    "def win_round(gesture_cpu, gesture_player):\n",
    "    global result\n",
    "    if gesture_cpu=='rock' and gesture_player=='rock':\n",
    "        result=0\n",
    "    elif gesture_cpu=='paper' and gesture_player=='paper':\n",
    "        result=0\n",
    "    elif gesture_cpu=='scissors' and gesture_player=='scissors':\n",
    "        result=0\n",
    "    elif gesture_cpu=='lizzard' and gesture_player=='lizzard':\n",
    "        result=0\n",
    "    elif gesture_cpu=='spock' and gesture_player=='spock':\n",
    "        result=0   \n",
    "    elif gesture_cpu=='rock' and gesture_player=='paper':\n",
    "        result=2\n",
    "    elif gesture_cpu=='rock' and gesture_player=='spock':\n",
    "        result=2   \n",
    "    elif gesture_cpu=='scissors' and gesture_player=='rock':\n",
    "        result=2\n",
    "    elif gesture_cpu=='scissors' and gesture_player=='spock':\n",
    "        result=2   \n",
    "    elif gesture_cpu=='paper' and gesture_player=='lizzard':\n",
    "        result=2\n",
    "    elif gesture_cpu=='paper' and gesture_player=='scissors':\n",
    "        result=2   \n",
    "    elif gesture_cpu=='lizzard' and gesture_player=='rock':\n",
    "        result=2\n",
    "    elif gesture_cpu=='lizzard' and gesture_player=='scissors':\n",
    "        result=2   \n",
    "    elif gesture_cpu=='spock' and gesture_player=='paper':\n",
    "        result=2\n",
    "    elif gesture_cpu=='spock' and gesture_player=='lizard':\n",
    "        result=2   \n",
    "    else:\n",
    "        result=1    \n",
    "    return result"
   ]
  },
  {
   "cell_type": "code",
   "execution_count": 9,
   "metadata": {},
   "outputs": [],
   "source": [
    "def outcome(gesture_cpu, gesture_player, player_score, cpu_score):\n",
    "    print(\"Choice of the computer: \",gesture_cpu)\n",
    "    print(\"Choice of the player: \",gesture_player)\n",
    "    res=win_round(gesture_cpu, gesture_player)\n",
    "    if res==1: \n",
    "        print(\"The CPU wins the round.\")\n",
    "        cpu_score+=1\n",
    "    elif res==2:\n",
    "        print(\"The player wins the round.\")\n",
    "        player_score+=1\n",
    "    else:\n",
    "        print(\"No one wins the round.\")\n",
    "    return cpu_score, player_score"
   ]
  },
  {
   "cell_type": "code",
   "execution_count": 10,
   "metadata": {},
   "outputs": [
    {
     "name": "stdout",
     "output_type": "stream",
     "text": [
      "Maximum number of rounds to play in the game:  7\n",
      "Rounds to win:  4\n"
     ]
    }
   ],
   "source": [
    "print(\"Maximum number of rounds to play in the game: \", n_rounds)\n",
    "print(\"Rounds to win: \", rounds_to_win)"
   ]
  },
  {
   "cell_type": "code",
   "execution_count": 11,
   "metadata": {},
   "outputs": [
    {
     "name": "stdout",
     "output_type": "stream",
     "text": [
      "Enter the gesture you want to show: 'rock', 'paper', 'scissors', 'lizzard' or 'spock'.rock\n",
      "Choice of the computer:  lizzard\n",
      "Choice of the player:  rock\n",
      "The player wins the round.\n",
      "CPU score:  0\n",
      "Player score:  1\n",
      "\n",
      "\n",
      "Enter the gesture you want to show: 'rock', 'paper', 'scissors', 'lizzard' or 'spock'.paper\n",
      "Choice of the computer:  scissors\n",
      "Choice of the player:  paper\n",
      "The CPU wins the round.\n",
      "CPU score:  1\n",
      "Player score:  1\n",
      "\n",
      "\n",
      "Enter the gesture you want to show: 'rock', 'paper', 'scissors', 'lizzard' or 'spock'.lizzard\n",
      "Choice of the computer:  lizzard\n",
      "Choice of the player:  lizzard\n",
      "No one wins the round.\n",
      "CPU score:  1\n",
      "Player score:  1\n",
      "\n",
      "\n",
      "Enter the gesture you want to show: 'rock', 'paper', 'scissors', 'lizzard' or 'spock'.lizzard\n",
      "Choice of the computer:  paper\n",
      "Choice of the player:  lizzard\n",
      "The player wins the round.\n",
      "CPU score:  1\n",
      "Player score:  2\n",
      "\n",
      "\n",
      "Enter the gesture you want to show: 'rock', 'paper', 'scissors', 'lizzard' or 'spock'.scissors\n",
      "Choice of the computer:  lizzard\n",
      "Choice of the player:  scissors\n",
      "The player wins the round.\n",
      "CPU score:  1\n",
      "Player score:  3\n",
      "\n",
      "\n",
      "Enter the gesture you want to show: 'rock', 'paper', 'scissors', 'lizzard' or 'spock'.spock\n",
      "Choice of the computer:  scissors\n",
      "Choice of the player:  spock\n",
      "The player wins the round.\n",
      "CPU score:  1\n",
      "Player score:  4\n",
      "\n",
      "\n"
     ]
    }
   ],
   "source": [
    "while cpu_score<rounds_to_win and player_score<rounds_to_win: \n",
    "    G_CPU=gesture_cpu(gestures)\n",
    "    G_PLAYER=gesture_player()\n",
    "    cpu_score,player_score=outcome(G_CPU, G_PLAYER, player_score, cpu_score)\n",
    "    res=0\n",
    "    print(\"CPU score: \", cpu_score)\n",
    "    print(\"Player score: \", player_score)\n",
    "    print(\"\\n\")"
   ]
  },
  {
   "cell_type": "code",
   "execution_count": 12,
   "metadata": {},
   "outputs": [
    {
     "name": "stdout",
     "output_type": "stream",
     "text": [
      "Player wins the game.\n"
     ]
    }
   ],
   "source": [
    "if cpu_score==rounds_to_win:\n",
    "    print(\"CPU wins the game.\")\n",
    "elif player_score==rounds_to_win:\n",
    "    print(\"Player wins the game.\")"
   ]
  }
 ],
 "metadata": {
  "kernelspec": {
   "display_name": "Python 3",
   "language": "python",
   "name": "python3"
  },
  "language_info": {
   "codemirror_mode": {
    "name": "ipython",
    "version": 3
   },
   "file_extension": ".py",
   "mimetype": "text/x-python",
   "name": "python",
   "nbconvert_exporter": "python",
   "pygments_lexer": "ipython3",
   "version": "3.7.6"
  }
 },
 "nbformat": 4,
 "nbformat_minor": 2
}

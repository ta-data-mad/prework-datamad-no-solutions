{
 "cells": [
  {
   "cell_type": "markdown",
   "metadata": {},
   "source": [
    "<img src=\"https://bit.ly/2VnXWr2\" width=\"100\" align=\"left\"/>"
   ]
  },
  {
   "cell_type": "markdown",
   "metadata": {},
   "source": [
    "# Robin Hood\n",
    "Robin Hood has entered a competition to win the archery contest in Sherwood. With his bow and arrows, he needs to shoot on a target and try to hit as close as possible to the center.\n",
    "\n",
    "![](images/arrows.jpg)\n",
    "\n",
    "## Context\n",
    "In this challenge, the landing position of arrows shot by archers in the competition will be represented using 2-dimensional coordinates. \n",
    "\n",
    "In the 2-dimensional space, a point can be defined by a pair of values that correspond to the horizontal coordinate (x) and the vertical coordinate (y). For example, in our case, an arrow that hits the center of the archery target will land in position (0, 0) on the coordinate axes. \n",
    "\n",
    "The space can be divided into 4 zones (quadrants): Q1, Q2, Q3, Q4. If a point is in Q1, both its x coordinate and y coordinate are positive. Any point with a null x or y coordinate is considered to not belong to any quadrant. \n",
    "\n",
    "If you want to know more about the cartesian coordinate system, you can check this [link](https://en.wikipedia.org/wiki/Cartesian_coordinate_system). \n",
    "\n",
    "## Tools\n",
    "You don't necessarily need to use all the tools. Maybe you opt to use some of them or completely different ones, they are given to help you shape the exercise. Programming exercises can be solved in many different ways.\n",
    "* Data structures: **lists, sets, tuples**\n",
    "* Conditional statements: **if-elif-else**\n",
    "* Loop: **while/for**\n",
    "* Minimum (optional sorting)\n",
    "\n",
    "## Tasks\n",
    "Robin Hood has hit the following points:"
   ]
  },
  {
   "cell_type": "code",
   "execution_count": 2,
   "metadata": {},
   "outputs": [],
   "source": [
    "points = [(4, 5), (-0, 2), (4, 7), (1, -3), (3, -2), (4, 5), (3, 2), (5, 7), (-5, 7), (2, 2), (-4, 5), (0, -2),\n",
    "          (-4, 7), (-1, 3), (-3, 2), (-4, -5), (-3, 2), (5, 7), (5, 7), (2, 2), (9, 9), (-8, -9)]"
   ]
  },
  {
   "cell_type": "markdown",
   "metadata": {},
   "source": [
    "#### 1. Robin Hood is famous for hitting an arrow with another arrow. Find the coordinates of the points where an arrow hits another arrow."
   ]
  },
  {
   "cell_type": "code",
   "execution_count": 8,
   "metadata": {},
   "outputs": [
    {
     "name": "stdout",
     "output_type": "stream",
     "text": [
      "[(5, 7), (4, 5), (2, 2), (-3, 2)]\n"
     ]
    }
   ],
   "source": [
    "points_unique = set(points)\n",
    "\n",
    "points_hit_twice = []\n",
    "for point in points_unique:\n",
    "    num_hits = 0\n",
    "    for each_point in points:\n",
    "        if point == each_point:\n",
    "            num_hits += 1\n",
    "    if num_hits > 1:\n",
    "        points_hit_twice.append(point)\n",
    "\n",
    "print(points_hit_twice)"
   ]
  },
  {
   "cell_type": "markdown",
   "metadata": {},
   "source": [
    "#### 2. Calculate how many arrows have fallen in each quadrant. \n",
    "**Note**: the arrows that fall in the axis (x=0 or y=0) don't belong to any quadrant."
   ]
  },
  {
   "cell_type": "code",
   "execution_count": 12,
   "metadata": {},
   "outputs": [
    {
     "name": "stdout",
     "output_type": "stream",
     "text": [
      "Arrows in first quadrant:  10\n",
      "Arrows in second quadrant:  2\n",
      "Arrows in third quadrant:  2\n",
      "Arrows in fourth quadrant:  6\n"
     ]
    }
   ],
   "source": [
    "# First Quadrant: x and y possitive\n",
    "# Second Quadrant: x possitive and y negative\n",
    "# Third Quadrant: x and y negative\n",
    "# Fourth Quadrant: x negative and y possitive\n",
    "\n",
    "q1 = 0\n",
    "q2 = 0\n",
    "q3 = 0\n",
    "q4 = 0\n",
    "\n",
    "for point in points:\n",
    "    if point[0] > 0 and point[1] > 0:\n",
    "        q1 += 1\n",
    "    elif point[0] > 0 and point[1] < 0:\n",
    "        q2 += 1\n",
    "    elif point[0] < 0 and point[1] < 0:\n",
    "        q3 += 1\n",
    "    elif point[0] < 0 and point[1] > 0:\n",
    "        q4 += 1\n",
    "\n",
    "print(\"Arrows in first quadrant: \", q1)\n",
    "print(\"Arrows in second quadrant: \", q2)\n",
    "print(\"Arrows in third quadrant: \", q3)\n",
    "print(\"Arrows in fourth quadrant: \", q4)\n",
    "    "
   ]
  },
  {
   "cell_type": "markdown",
   "metadata": {},
   "source": [
    "#### 3. Find the point closest to the center. Calculate its distance to the center. \n",
    "Take into account that there might be more than one point at the minimum distance to the center.\n",
    "\n",
    "**Hint**: Use the Euclidean distance. You can find more information about it [here](https://en.wikipedia.org/wiki/Euclidean_distance).  \n",
    "**Hint**: Defining a function that calculates the distance to the center can help."
   ]
  },
  {
   "cell_type": "code",
   "execution_count": 21,
   "metadata": {},
   "outputs": [
    {
     "name": "stdout",
     "output_type": "stream",
     "text": [
      "(0, 2)\n",
      "2.0\n"
     ]
    }
   ],
   "source": [
    "def euclidean_distance(point1, point2):\n",
    "    '''\n",
    "    Recibe dos puntos de dos dimensiones y devuelve la distancia euclideana.\n",
    "    \n",
    "    Resta las coordenadas de cada punto, \n",
    "    eleva el resultado al cuadrado, \n",
    "    suma estos cuadrados \n",
    "    y hace una raiz cuadrada del total.\n",
    "    '''\n",
    "    return ((point1[0] - point2[0])**2 + (point1[1] - point2[1])**2) ** (1/2)\n",
    "\n",
    "center = (0,0)\n",
    "\n",
    "# Calculo la distancia de la primera flecha al centro\n",
    "best_shot = points[0]\n",
    "best_shot_distance = euclidean_distance(points[0], center)\n",
    "\n",
    "# Luego calculo las distancias del resto de disparos\n",
    "for i in range(1, len(points)):\n",
    "    current_shot_distance = euclidean_distance(points[i], center)\n",
    "    if current_shot_distance < best_shot_distance:\n",
    "        best_shot = points[i]\n",
    "        best_shot_distance = current_shot_distance\n",
    "\n",
    "print(best_shot)\n",
    "print(best_shot_distance)"
   ]
  },
  {
   "cell_type": "markdown",
   "metadata": {},
   "source": [
    "#### 4. If the archery target has a radius of 9, calculate the number of arrows that won't hit the target. \n",
    "**Hint**: Use the function created in step 3. "
   ]
  },
  {
   "cell_type": "code",
   "execution_count": 29,
   "metadata": {},
   "outputs": [
    {
     "name": "stdout",
     "output_type": "stream",
     "text": [
      "[(9, 9), (-8, -9)]\n"
     ]
    }
   ],
   "source": [
    "'''missing_shots = []\n",
    "for point in points:\n",
    "    if euclidean_distance(point, center) > 9:\n",
    "        missing_shots.append(point)'''\n",
    "\n",
    "missing_shots = [point for point in points if euclidean_distance(point, center) > 9]\n",
    "\n",
    "print(missing_shots)"
   ]
  }
 ],
 "metadata": {
  "kernelspec": {
   "display_name": "Python 3",
   "language": "python",
   "name": "python3"
  },
  "language_info": {
   "codemirror_mode": {
    "name": "ipython",
    "version": 3
   },
   "file_extension": ".py",
   "mimetype": "text/x-python",
   "name": "python",
   "nbconvert_exporter": "python",
   "pygments_lexer": "ipython3",
   "version": "3.8.5"
  }
 },
 "nbformat": 4,
 "nbformat_minor": 2
}

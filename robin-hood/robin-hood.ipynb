{
 "cells": [
  {
   "cell_type": "markdown",
   "metadata": {},
   "source": [
    "<img src=\"https://bit.ly/2VnXWr2\" width=\"100\" align=\"left\"/>"
   ]
  },
  {
   "cell_type": "markdown",
   "metadata": {},
   "source": [
    "# Robin Hood\n",
    "Robin Hood has entered a competition to win the archery contest in Sherwood. With his bow and arrows, he needs to shoot on a target and try to hit as close as possible to the center.\n",
    "\n",
    "![](images/arrows.jpg)\n",
    "\n",
    "## Context\n",
    "In this challenge, the landing position of arrows shot by archers in the competition will be represented using 2-dimensional coordinates. \n",
    "\n",
    "In the 2-dimensional space, a point can be defined by a pair of values that correspond to the horizontal coordinate (x) and the vertical coordinate (y). For example, in our case, an arrow that hits the center of the archery target will land in position (0, 0) on the coordinate axes. \n",
    "\n",
    "The space can be divided into 4 zones (quadrants): Q1, Q2, Q3, Q4. If a point is in Q1, both its x coordinate and y coordinate are positive. Any point with a null x or y coordinate is considered to not belong to any quadrant. \n",
    "\n",
    "If you want to know more about the cartesian coordinate system, you can check this [link](https://en.wikipedia.org/wiki/Cartesian_coordinate_system). \n",
    "\n",
    "## Tools\n",
    "You don't necessarily need to use all the tools. Maybe you opt to use some of them or completely different ones, they are given to help you shape the exercise. Programming exercises can be solved in many different ways.\n",
    "* Data structures: **lists, sets, tuples**\n",
    "* Conditional statements: **if-elif-else**\n",
    "* Loop: **while/for**\n",
    "* Minimum (optional sorting)\n",
    "\n",
    "## Tasks\n",
    "Robin Hood has hit the following points:"
   ]
  },
  {
   "cell_type": "code",
   "execution_count": 4,
   "metadata": {},
   "outputs": [],
   "source": [
    "points = [(4, 5), (-0, 2), (4, 7), (1, -3), (3, -2), (4, 5), (3, 2), (5, 7), (-5, 7), (2, 2), (-4, 5), (0, -2),\n",
    "          (-4, 7), (-1, 3), (-3, 2), (-4, -5), (-3, 2), (5, 7), (5, 7), (2, 2), (9, 9), (-8, -9)]"
   ]
  },
  {
   "cell_type": "markdown",
   "metadata": {},
   "source": [
    "#### 1. Robin Hood is famous for hitting an arrow with another arrow. Find the coordinates of the points where an arrow hits another arrow."
   ]
  },
  {
   "cell_type": "code",
   "execution_count": 5,
   "metadata": {},
   "outputs": [
    {
     "name": "stdout",
     "output_type": "stream",
     "text": [
      "22\n"
     ]
    }
   ],
   "source": [
    "all_shots = len(points)\n",
    "print(all_shots)"
   ]
  },
  {
   "cell_type": "code",
   "execution_count": 6,
   "metadata": {},
   "outputs": [
    {
     "name": "stdout",
     "output_type": "stream",
     "text": [
      "El lanzamiento 6 a impactado de lleno contra otra flecha en las coordenadas (4, 5)\n",
      "El lanzamiento 17 a impactado de lleno contra otra flecha en las coordenadas (-3, 2)\n",
      "El lanzamiento 18 a impactado de lleno contra otra flecha en las coordenadas (5, 7)\n",
      "El lanzamiento 19 a impactado de lleno contra otra flecha en las coordenadas (5, 7)\n",
      "El lanzamiento 20 a impactado de lleno contra otra flecha en las coordenadas (2, 2)\n",
      "{(-5, 7), (3, -2), (-4, 7), (-4, 5), (9, 9), (5, 7), (4, 5), (0, 2), (1, -3), (-1, 3), (-4, -5), (2, 2), (-3, 2), (3, 2), (-8, -9), (0, -2), (4, 7)}\n"
     ]
    }
   ],
   "source": [
    "shot = 0\n",
    "hit_set = set()\n",
    "\n",
    "while shot < all_shots:\n",
    "    throw = points[shot]\n",
    "    if throw in hit_set:\n",
    "        print(\"El lanzamiento \" + str(shot + 1) + \" a impactado de lleno contra otra flecha en las coordenadas \" + str(throw))\n",
    "    \n",
    "    else:\n",
    "        hit_set.add(throw)\n",
    "    \n",
    "    shot += 1\n",
    "    \n",
    "print(hit_set)"
   ]
  },
  {
   "cell_type": "markdown",
   "metadata": {},
   "source": [
    "#### 2. Calculate how many arrows have fallen in each quadrant. \n",
    "**Note**: the arrows that fall in the axis (x=0 or y=0) don't belong to any quadrant."
   ]
  },
  {
   "cell_type": "code",
   "execution_count": 8,
   "metadata": {},
   "outputs": [
    {
     "name": "stdout",
     "output_type": "stream",
     "text": [
      "El el primer cuadrante han impactado un total de 10 flechas.\n",
      "En el segundo cuadrante han impactado un total de 6 flechas.\n",
      "En el tercero cuadrante han impactado un total de 2 flechas.\n",
      "Y en el cuarto cuadrante han impactado un total de 2 flechas.\n"
     ]
    }
   ],
   "source": [
    "shot = 0\n",
    "q1 = 0\n",
    "q2 = 0\n",
    "q3 = 0\n",
    "q4 = 0\n",
    "\n",
    "while shot < all_shots:\n",
    "    throw = points[shot]\n",
    "    coor_x = throw[0]\n",
    "    coor_y = throw[1]\n",
    "    \n",
    "    if coor_x > 0 and coor_y > 0:\n",
    "        q1 += 1\n",
    "        \n",
    "    elif coor_x < 0 and coor_y > 0:\n",
    "        q2 += 1\n",
    "        \n",
    "    elif coor_x < 0 and coor_y < 0:\n",
    "        q3 += 1\n",
    "        \n",
    "    elif coor_x > 0 and coor_y < 0:\n",
    "        q4 += 1\n",
    "        \n",
    "    shot += 1\n",
    "    \n",
    "print(\"El el primer cuadrante han impactado un total de \" + str(q1) + \" flechas.\")\n",
    "print(\"En el segundo cuadrante han impactado un total de \" + str(q2) + \" flechas.\")\n",
    "print(\"En el tercero cuadrante han impactado un total de \" + str(q3) + \" flechas.\")\n",
    "print(\"Y en el cuarto cuadrante han impactado un total de \" + str(q4) + \" flechas.\")"
   ]
  },
  {
   "cell_type": "markdown",
   "metadata": {},
   "source": [
    "#### 3. Find the point closest to the center. Calculate its distance to the center. \n",
    "Take into account that there might be more than one point at the minimum distance to the center.\n",
    "\n",
    "**Hint**: Use the Euclidean distance. You can find more information about it [here](https://en.wikipedia.org/wiki/Euclidean_distance).  \n",
    "**Hint**: Defining a function that calculates the distance to the center can help."
   ]
  },
  {
   "cell_type": "code",
   "execution_count": 9,
   "metadata": {},
   "outputs": [],
   "source": [
    "import math"
   ]
  },
  {
   "cell_type": "code",
   "execution_count": 19,
   "metadata": {},
   "outputs": [
    {
     "name": "stdout",
     "output_type": "stream",
     "text": [
      "las flechas que impactaron más cerca del centro de la diana fueron aquellas con las coordenadas: [(0, 2), (0, -2)] con un radio de distancia del centro de 2.0\n"
     ]
    }
   ],
   "source": [
    "points = [(4, 5), (-0, 2), (4, 7), (1, -3), (3, -2), (4, 5), (3, 2), (5, 7), (-5, 7), (2, 2), (-4, 5), (0, -2),\n",
    "          (-4, 7), (-1, 3), (-3, 2), (-4, -5), (-3, 2), (5, 7), (5, 7), (2, 2), (9, 9), (-8, -9)]\n",
    "\n",
    "all_shots = len(points)\n",
    "shot = 0\n",
    "\n",
    "map_hits = {}\n",
    "\n",
    "while shot < all_shots:\n",
    "    throw = points[shot]\n",
    "    coor_x = throw[0]\n",
    "    coor_y = throw[1]\n",
    "    \n",
    "    centro = (0,0)\n",
    "    centro_x = centro[0]\n",
    "    centro_y = centro[1]\n",
    "    \n",
    "    dis_eu_x = ((coor_x - centro_x)**2)\n",
    "    dis_eu_y = ((coor_y - centro_y)**2)\n",
    "    best_dis_eu = math.sqrt(dis_eu_x + dis_eu_y)\n",
    "    \n",
    "    if best_dis_eu not in map_hits:\n",
    "        map_hits[best_dis_eu] = list()\n",
    "        lista = map_hits[best_dis_eu]\n",
    "        lista.append(throw)\n",
    "    \n",
    "    elif best_dis_eu in map_hits:\n",
    "        lista = map_hits[best_dis_eu]\n",
    "        lista.append(throw)\n",
    "        \n",
    "    shot += 1\n",
    "\n",
    "min_key = 9999\n",
    "\n",
    "for key in map_hits:\n",
    "        if key <= min_key:\n",
    "            min_key = key\n",
    "\n",
    "closer_center = map_hits[min_key]\n",
    "\n",
    "print(\"las flechas que impactaron más cerca del centro de la diana fueron aquellas con las coordenadas: \" + str(closer_center) + \" con un radio de distancia del centro de \" + str(min_key))"
   ]
  },
  {
   "cell_type": "markdown",
   "metadata": {},
   "source": [
    "#### 4. If the archery target has a radius of 9, calculate the number of arrows that won't hit the target. \n",
    "**Hint**: Use the function created in step 3. "
   ]
  },
  {
   "cell_type": "code",
   "execution_count": 33,
   "metadata": {},
   "outputs": [
    {
     "name": "stdout",
     "output_type": "stream",
     "text": [
      "Los lanzamientos [(9, 9)] han impactado fuera de la superficie de la diana con un radio de 12.727922061357855\n",
      "Los lanzamientos [(-8, -9)] han impactado fuera de la superficie de la diana con un radio de 12.041594578792296\n"
     ]
    }
   ],
   "source": [
    "all_shots = len(points)\n",
    "shot = 0\n",
    "\n",
    "map_hits = {}\n",
    "\n",
    "while shot < all_shots:\n",
    "    throw = points[shot]\n",
    "    coor_x = throw[0]\n",
    "    coor_y = throw[1]\n",
    "    \n",
    "    centro = (0,0)\n",
    "    centro_x = centro[0]\n",
    "    centro_y = centro[1]\n",
    "    \n",
    "    dis_eu_x = ((coor_x - centro_x)**2)\n",
    "    dis_eu_y = ((coor_y - centro_y)**2)\n",
    "    best_dis_eu = math.sqrt(dis_eu_x + dis_eu_y)\n",
    "    \n",
    "    if best_dis_eu not in map_hits:\n",
    "        map_hits[best_dis_eu] = list()\n",
    "        lista = map_hits[best_dis_eu]\n",
    "        lista.append(throw)\n",
    "    \n",
    "    elif best_dis_eu in map_hits:\n",
    "        lista = map_hits[best_dis_eu]\n",
    "        lista.append(throw)\n",
    "        \n",
    "    shot += 1\n",
    "    \n",
    "radio = float(9)\n",
    "\n",
    "for key in map_hits:\n",
    "    if key > radio:\n",
    "        print(\"Los lanzamientos \" + str(map_hits[key]) + \" han impactado fuera de la superficie de la diana con un radio de \" + str(key))"
   ]
  },
  {
   "cell_type": "code",
   "execution_count": 25,
   "metadata": {},
   "outputs": [
    {
     "name": "stdout",
     "output_type": "stream",
     "text": [
      "La tirada número 21 impacta fuera de la diana, concretamente en las coordenadas (9, 9), a 12 puntos del centro\n",
      "La tirada número 22 impacta fuera de la diana, concretamente en las coordenadas (-8, -9), a 12 puntos del centro\n",
      "Robin Hood ha fallado un total de 2 flechas\n"
     ]
    }
   ],
   "source": [
    "shot = 0\n",
    "radio2 = 9\n",
    "fails = 0\n",
    "\n",
    "while shot < all_shots:\n",
    "    throw = points[shot]\n",
    "    coor_x = throw[0]\n",
    "    coor_y = throw[1]\n",
    "    centro = (0,0)\n",
    "    centro_x = centro[0]\n",
    "    centro_y = centro[1]\n",
    "    \n",
    "    dis_eu_x = (coor_x - centro_x)**2\n",
    "    dis_eu_y = (coor_y - centro_y)**2\n",
    "    best_dis_eu = math.sqrt(dis_eu_x + dis_eu_y)\n",
    "    \n",
    "    if best_dis_eu > radio2:\n",
    "        print(\"La tirada número \" + str(shot + 1) + \" impacta fuera de la diana, concretamente en las coordenadas \" + str(throw) + \", a \" + str(int(best_dis_eu)) + \" puntos del centro\")        \n",
    "        fails += 1\n",
    "        \n",
    "    shot += 1\n",
    "\n",
    "print(\"Robin Hood ha fallado un total de \" + str(fails) + \" flechas\")"
   ]
  }
 ],
 "metadata": {
  "kernelspec": {
   "display_name": "Python 3",
   "language": "python",
   "name": "python3"
  },
  "language_info": {
   "codemirror_mode": {
    "name": "ipython",
    "version": 3
   },
   "file_extension": ".py",
   "mimetype": "text/x-python",
   "name": "python",
   "nbconvert_exporter": "python",
   "pygments_lexer": "ipython3",
   "version": "3.8.1"
  }
 },
 "nbformat": 4,
 "nbformat_minor": 2
}

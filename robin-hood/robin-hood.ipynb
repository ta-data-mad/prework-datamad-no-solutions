{
 "cells": [
  {
   "cell_type": "markdown",
   "metadata": {},
   "source": [
    "# Robin Hood\n",
    "## Intro\n",
    "We are in a competition to win the archery contest in Sherwood. With our bow and arrows we shoot on a target and try to hit as close as possible to the center.\n",
    "\n",
    "The center of the target is represented by the values (0, 0) on the coordinate axes.\n",
    "\n",
    "![](images/arrows.jpg)\n",
    "\n",
    "## Goals:\n",
    "* data structures: lists, sets, tuples\n",
    "* logical operators: if-elif-else\n",
    "* loop: while/for\n",
    "* minimum (optional sorting)\n",
    "\n",
    "## Description:\n",
    "In the 2-dimensional space, a point can be defined by a pair of values that correspond to the horizontal coordinate (x) and the vertical coordinate (y). The space can be divided into 4 zones (quadrants): Q1, Q2, Q3, Q4. Whose single point of union is the point (0, 0).\n",
    "\n",
    "If a point is in Q1 both its x coordinate and the y are positive. I leave a link to wikipedia to familiarize yourself with these quadrants.\n",
    "\n",
    "https://en.wikipedia.org/wiki/Cartesian_coordinate_system\n",
    "\n",
    "https://en.wikipedia.org/wiki/Euclidean_distance\n",
    "\n",
    "## Shots\n",
    "```\n",
    "points = [(4, 5), (-0, 2), (4, 7), (1, -3), (3, -2), (4, 5),\n",
    "          (3, 2), (5, 7), (-5, 7), (2, 2), (-4, 5), (0, -2),\n",
    "          (-4, 7), (-1, 3), (-3, 2), (-4, -5), (-3, 2),\n",
    "          (5, 7), (5, 7), (2, 2), (9, 9), (-8, -9)]\n",
    "```\n",
    "\n",
    "## Tasks\n",
    "1. Robin Hood is famous for hitting an arrow with another arrow. Did you get it?\n",
    "2. Calculate how many arrows have fallen in each quadrant.\n",
    "3. Find the point closest to the center. Calculate its distance to the center. \n",
    "4. If the target has a radius of 9, calculate the number of arrows that must be picked up in the forest."
   ]
  },
  {
   "cell_type": "code",
   "execution_count": 8,
   "metadata": {},
   "outputs": [],
   "source": [
    "# Variables\n",
    "\n",
    "points = [(4, 5), (-0, 2), (4, 7), (1, -3), (3, -2), (4, 5),\n",
    "          (3, 2), (5, 7), (-5, 7), (2, 2), (-4, 5), (0, -2),\n",
    "          (-4, 7), (-1, 3), (-3, 2), (-4, -5), (-3, 2),\n",
    "          (5, 7), (5, 7), (2, 2), (9, 9), (-8, -9)]"
   ]
  },
  {
   "cell_type": "code",
   "execution_count": 14,
   "metadata": {},
   "outputs": [
    {
     "name": "stdout",
     "output_type": "stream",
     "text": [
      "the coodinate (5, 7) has 3 arrows\n",
      "the coodinate (4, 5) has 2 arrows\n",
      "the coodinate (2, 2) has 2 arrows\n",
      "the coodinate (-3, 2) has 2 arrows\n",
      "True\n"
     ]
    }
   ],
   "source": [
    "# 1. Robin Hood is famous for hitting an arrow with another arrow. Did you get it?\n",
    "uniques= set(points)\n",
    "list_uniques=list(uniques)\n",
    "arrow=0\n",
    "count_arrow = 0\n",
    "arrow_with_another_arrow = False\n",
    "while arrow < len(uniques):\n",
    "    if points.count(list_uniques[arrow]) > 1:\n",
    "        print(\"the coodinate\",list_uniques[arrow], \"has\", points.count(list_uniques[arrow]),\"arrows\")\n",
    "        count_arrow +=1\n",
    "    arrow +=1\n",
    "if count_arrow >1:\n",
    "    arrow_with_another_arrow=True\n",
    "print(arrow_with_another_arrow)"
   ]
  },
  {
   "cell_type": "markdown",
   "metadata": {},
   "source": [
    "**Expected output**:\n",
    "```\n",
    "True\n",
    "```"
   ]
  },
  {
   "cell_type": "code",
   "execution_count": 15,
   "metadata": {},
   "outputs": [
    {
     "name": "stdout",
     "output_type": "stream",
     "text": [
      "10 arrows in the Q1\n",
      "6 arrows in the Q2\n",
      "2 arrows in the Q3\n",
      "2 arrows in the Q4\n",
      "(10, 6, 2, 2)\n"
     ]
    }
   ],
   "source": [
    "# 2. Calculate how many arrows have fallen in each quadrant.\n",
    "arrow = 0\n",
    "Q1 = 0\n",
    "Q2 = 0\n",
    "Q3 = 0\n",
    "Q4 = 0\n",
    "while arrow < len(points):\n",
    "    if points[arrow][0]>0 and points[arrow][1]>0:\n",
    "        Q1 += 1\n",
    "    elif points[arrow][0]<0 and points[arrow][1]>0:\n",
    "        Q2 += 1\n",
    "    elif points[arrow][0]<0 and points[arrow][1]<0:\n",
    "        Q3 += 1\n",
    "    elif points[arrow][0]>0 and points[arrow][1]<0:\n",
    "        Q4 += 1\n",
    "    arrow +=1\n",
    "print(Q1,\"arrows in the Q1\")\n",
    "print(Q2,\"arrows in the Q2\")\n",
    "print(Q3,\"arrows in the Q3\")\n",
    "print(Q4,\"arrows in the Q4\")\n",
    "quadrant_list=(Q1,Q2,Q3,Q4)\n",
    "print(quadrant_list)"
   ]
  },
  {
   "cell_type": "markdown",
   "metadata": {},
   "source": [
    "**Expected output**:\n",
    "```\n",
    "(10, 6, 2, 2)\n",
    "```"
   ]
  },
  {
   "cell_type": "code",
   "execution_count": 16,
   "metadata": {},
   "outputs": [
    {
     "name": "stdout",
     "output_type": "stream",
     "text": [
      "the closest distance to the center is 2.0 and corresponds to the point (0, 2)\n",
      "the closest distance to the center is 2.0 and corresponds to the point (0, -2)\n"
     ]
    }
   ],
   "source": [
    "# 3. Find the point closest to the center. Calculate its distance to the center\n",
    "# Defining a function that calculates the distance to the center can help.\n",
    "import math\n",
    "first = math.sqrt(((points[0][0]-0)**2)+((points[0][1]-0)**2))\n",
    "arrow = 0\n",
    "distances = []\n",
    "while arrow < len(points):\n",
    "    euclides = math.sqrt(((points[arrow][0]-0)**2)+((points[arrow][1]-0)**2))\n",
    "    distances.append(euclides)\n",
    "    if euclides < first:\n",
    "        first = euclides\n",
    "        position = points[arrow]\n",
    "    arrow += 1\n",
    "contador = 0\n",
    "repetidos = []\n",
    "while contador < len(distances):\n",
    "    if distances[contador] == min(distances):\n",
    "        repetidos.append(contador)\n",
    "    contador += 1\n",
    "contador=0\n",
    "while contador < len(repetidos):\n",
    "    print(\"the closest distance to the center is\",first,\"and corresponds to the point\",points[repetidos[contador]])\n",
    "    contador +=1\n"
   ]
  },
  {
   "cell_type": "markdown",
   "metadata": {},
   "source": [
    "**Expected output**:\n",
    "```\n",
    "(0, 2)\n",
    "2.0\n",
    "```"
   ]
  },
  {
   "cell_type": "code",
   "execution_count": 17,
   "metadata": {},
   "outputs": [
    {
     "name": "stdout",
     "output_type": "stream",
     "text": [
      "the number of arrows that won't hit the target is  2\n"
     ]
    }
   ],
   "source": [
    "# 4. If the target has a radius of 9, calculate the number of arrows that \n",
    "# must be picked up in the forest.\n",
    "import math\n",
    "distances = []\n",
    "arrow = 0\n",
    "out =0\n",
    "while arrow < len(points):\n",
    "    euclides = math.sqrt(((points[arrow][0]-0)**2)+((points[arrow][1]-0)**2))\n",
    "    if euclides >= 9:\n",
    "        out +=1\n",
    "    arrow += 1\n",
    "print(\"the number of arrows that won't hit the target is \",out)\n",
    "\n",
    "\n"
   ]
  },
  {
   "cell_type": "markdown",
   "metadata": {},
   "source": [
    "**Expected output**:\n",
    "```\n",
    "[(9, 9), (-8, -9)]\n",
    "2\n",
    "```"
   ]
  },
  {
   "cell_type": "code",
   "execution_count": null,
   "metadata": {},
   "outputs": [],
   "source": []
  }
 ],
 "metadata": {
  "kernelspec": {
   "display_name": "Python 3",
   "language": "python",
   "name": "python3"
  },
  "language_info": {
   "codemirror_mode": {
    "name": "ipython",
    "version": 3
   },
   "file_extension": ".py",
   "mimetype": "text/x-python",
   "name": "python",
   "nbconvert_exporter": "python",
   "pygments_lexer": "ipython3",
   "version": "3.9.0"
  }
 },
 "nbformat": 4,
 "nbformat_minor": 2
}
